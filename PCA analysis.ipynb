{
  "nbformat": 4,
  "nbformat_minor": 0,
  "metadata": {
    "colab": {
      "provenance": []
    },
    "kernelspec": {
      "name": "python3",
      "display_name": "Python 3"
    },
    "language_info": {
      "name": "python"
    }
  },
  "cells": [
    {
      "cell_type": "markdown",
      "source": [
        "**1. Install scikit-learn**"
      ],
      "metadata": {
        "id": "VOmIuxccdLEM"
      }
    },
    {
      "cell_type": "code",
      "source": [
        "pip install -U scikit-learn"
      ],
      "metadata": {
        "colab": {
          "base_uri": "https://localhost:8080/"
        },
        "id": "ET_S6C3kdpqF",
        "outputId": "100dfd4b-b8cd-4857-9a38-04093dd8d8b1"
      },
      "execution_count": null,
      "outputs": [
        {
          "output_type": "stream",
          "name": "stdout",
          "text": [
            "Looking in indexes: https://pypi.org/simple, https://us-python.pkg.dev/colab-wheels/public/simple/\n",
            "Requirement already satisfied: scikit-learn in /usr/local/lib/python3.8/dist-packages (1.0.2)\n",
            "Collecting scikit-learn\n",
            "  Downloading scikit_learn-1.2.1-cp38-cp38-manylinux_2_17_x86_64.manylinux2014_x86_64.whl (9.8 MB)\n",
            "\u001b[2K     \u001b[90m━━━━━━━━━━━━━━━━━━━━━━━━━━━━━━━━━━━━━━━━\u001b[0m \u001b[32m9.8/9.8 MB\u001b[0m \u001b[31m27.6 MB/s\u001b[0m eta \u001b[36m0:00:00\u001b[0m\n",
            "\u001b[?25hRequirement already satisfied: scipy>=1.3.2 in /usr/local/lib/python3.8/dist-packages (from scikit-learn) (1.7.3)\n",
            "Requirement already satisfied: joblib>=1.1.1 in /usr/local/lib/python3.8/dist-packages (from scikit-learn) (1.2.0)\n",
            "Requirement already satisfied: threadpoolctl>=2.0.0 in /usr/local/lib/python3.8/dist-packages (from scikit-learn) (3.1.0)\n",
            "Requirement already satisfied: numpy>=1.17.3 in /usr/local/lib/python3.8/dist-packages (from scikit-learn) (1.21.6)\n",
            "Installing collected packages: scikit-learn\n",
            "  Attempting uninstall: scikit-learn\n",
            "    Found existing installation: scikit-learn 1.0.2\n",
            "    Uninstalling scikit-learn-1.0.2:\n",
            "      Successfully uninstalled scikit-learn-1.0.2\n",
            "Successfully installed scikit-learn-1.2.1\n"
          ]
        }
      ]
    },
    {
      "cell_type": "markdown",
      "source": [
        "**2. Import the PCA module**"
      ],
      "metadata": {
        "id": "bsggu_oLgha2"
      }
    },
    {
      "cell_type": "code",
      "source": [
        "from sklearn.decomposition import PCA\n",
        "import numpy as np"
      ],
      "metadata": {
        "id": "8zmuKKwleACM"
      },
      "execution_count": null,
      "outputs": []
    },
    {
      "cell_type": "markdown",
      "source": [
        "**3. Insertion of the data** "
      ],
      "metadata": {
        "id": "ZDGgGklVg6Il"
      }
    },
    {
      "cell_type": "code",
      "source": [
        "X = np.array([[1, 2, 3, 4], [5, 2, 1, 9], [3, 5, 7, 1], [5, 7, 4, 6], [2, 1, 6, 2]])\n",
        "print(X.shape)\n",
        "n_samples = X.shape[0]"
      ],
      "metadata": {
        "colab": {
          "base_uri": "https://localhost:8080/"
        },
        "id": "rlUxFxHweHT8",
        "outputId": "33ed7263-42ae-4e86-bdf0-f13afa8196f5"
      },
      "execution_count": null,
      "outputs": [
        {
          "output_type": "stream",
          "name": "stdout",
          "text": [
            "(5, 4)\n"
          ]
        }
      ]
    },
    {
      "cell_type": "markdown",
      "source": [
        "**4. The PCA based on SVD**"
      ],
      "metadata": {
        "id": "UFKj26zihUuy"
      }
    },
    {
      "cell_type": "code",
      "source": [
        "pca = PCA(n_components=4,svd_solver='full')\n",
        "pca_score = pca.fit_transform(X)\n",
        "print('pca_score',pca_score,'\\n')\n",
        "print('components',pca.components_,'\\n')\n",
        "print('explained_variance',pca.explained_variance_ratio_,'\\n')\n",
        "print('singular values',pca.singular_values_,'\\n')"
      ],
      "metadata": {
        "colab": {
          "base_uri": "https://localhost:8080/"
        },
        "id": "f5PqR0KCeUDb",
        "outputId": "3091f868-c5b2-4ad0-c111-26d9bb773a44"
      },
      "execution_count": null,
      "outputs": [
        {
          "output_type": "stream",
          "name": "stdout",
          "text": [
            "pca_score [[-0.28797085 -2.41196245  1.58094575  0.01097643]\n",
            " [ 5.8892127  -1.17699635 -0.72358467  0.09098672]\n",
            " [-4.26609677  1.92649882 -0.24274891  0.17347524]\n",
            " [ 1.87419578  3.89316327  0.33608887 -0.1330949 ]\n",
            " [-3.20934086 -2.23070328 -0.95070103 -0.14234349]] \n",
            "\n",
            "components [[ 0.28919934 -0.00326412 -0.5480359   0.78486288]\n",
            " [ 0.40219495  0.88498026  0.23387227  0.01878617]\n",
            " [-0.72857175  0.46427116 -0.49768238 -0.07712163]\n",
            " [ 0.47306042 -0.03537764 -0.6302957  -0.61456456]] \n",
            "\n",
            "explained_variance [0.65468445 0.30438273 0.04018313 0.00074969] \n",
            "\n",
            "singular values [8.17176931 5.57198693 2.02451956 0.27652964] \n",
            "\n"
          ]
        }
      ]
    },
    {
      "cell_type": "markdown",
      "source": [
        "**PCA latent score**"
      ],
      "metadata": {
        "id": "bDKyj3EQhg_j"
      }
    },
    {
      "cell_type": "code",
      "source": [
        "# We center the data and compute the sample covariance matrix.\n",
        "X_centered = X - np.mean(X, axis=0)\n",
        "cov_matrix = np.dot(X_centered.T, X_centered) / n_samples\n",
        "eigenvalues = pca.explained_variance_ratio_\n",
        "print('eigenvalues',eigenvalues)\n",
        "pca = PCA(n_components=2)\n",
        "principalComponents = pca.fit_transform(X)\n",
        "print(pca.explained_variance_ratio_)\n",
        "print(pca.singular_values_)"
      ],
      "metadata": {
        "colab": {
          "base_uri": "https://localhost:8080/"
        },
        "id": "JzoOiaXogQ1u",
        "outputId": "7f6bce62-cedb-4130-a05f-115a24c7c7cf"
      },
      "execution_count": null,
      "outputs": [
        {
          "output_type": "stream",
          "name": "stdout",
          "text": [
            "eigenvalues [0.65468445 0.30438273]\n",
            "[0.65468445 0.30438273]\n",
            "[8.17176931 5.57198693]\n"
          ]
        }
      ]
    }
  ]
}