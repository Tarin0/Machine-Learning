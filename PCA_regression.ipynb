{
  "nbformat": 4,
  "nbformat_minor": 0,
  "metadata": {
    "colab": {
      "provenance": []
    },
    "kernelspec": {
      "name": "python3",
      "display_name": "Python 3"
    },
    "language_info": {
      "name": "python"
    }
  },
  "cells": [
    {
      "cell_type": "code",
      "execution_count": null,
      "metadata": {
        "colab": {
          "base_uri": "https://localhost:8080/",
          "height": 1000
        },
        "id": "nQWQlnugwgCm",
        "outputId": "95d2cc7d-9847-42c3-cb4e-7f59f379cf41"
      },
      "outputs": [
        {
          "output_type": "display_data",
          "data": {
            "text/plain": [
              "<IPython.core.display.HTML object>"
            ],
            "text/html": [
              "\n",
              "     <input type=\"file\" id=\"files-98e3d6e5-30c2-467d-8faf-e3daa9b1074b\" name=\"files[]\" multiple disabled\n",
              "        style=\"border:none\" />\n",
              "     <output id=\"result-98e3d6e5-30c2-467d-8faf-e3daa9b1074b\">\n",
              "      Upload widget is only available when the cell has been executed in the\n",
              "      current browser session. Please rerun this cell to enable.\n",
              "      </output>\n",
              "      <script>// Copyright 2017 Google LLC\n",
              "//\n",
              "// Licensed under the Apache License, Version 2.0 (the \"License\");\n",
              "// you may not use this file except in compliance with the License.\n",
              "// You may obtain a copy of the License at\n",
              "//\n",
              "//      http://www.apache.org/licenses/LICENSE-2.0\n",
              "//\n",
              "// Unless required by applicable law or agreed to in writing, software\n",
              "// distributed under the License is distributed on an \"AS IS\" BASIS,\n",
              "// WITHOUT WARRANTIES OR CONDITIONS OF ANY KIND, either express or implied.\n",
              "// See the License for the specific language governing permissions and\n",
              "// limitations under the License.\n",
              "\n",
              "/**\n",
              " * @fileoverview Helpers for google.colab Python module.\n",
              " */\n",
              "(function(scope) {\n",
              "function span(text, styleAttributes = {}) {\n",
              "  const element = document.createElement('span');\n",
              "  element.textContent = text;\n",
              "  for (const key of Object.keys(styleAttributes)) {\n",
              "    element.style[key] = styleAttributes[key];\n",
              "  }\n",
              "  return element;\n",
              "}\n",
              "\n",
              "// Max number of bytes which will be uploaded at a time.\n",
              "const MAX_PAYLOAD_SIZE = 100 * 1024;\n",
              "\n",
              "function _uploadFiles(inputId, outputId) {\n",
              "  const steps = uploadFilesStep(inputId, outputId);\n",
              "  const outputElement = document.getElementById(outputId);\n",
              "  // Cache steps on the outputElement to make it available for the next call\n",
              "  // to uploadFilesContinue from Python.\n",
              "  outputElement.steps = steps;\n",
              "\n",
              "  return _uploadFilesContinue(outputId);\n",
              "}\n",
              "\n",
              "// This is roughly an async generator (not supported in the browser yet),\n",
              "// where there are multiple asynchronous steps and the Python side is going\n",
              "// to poll for completion of each step.\n",
              "// This uses a Promise to block the python side on completion of each step,\n",
              "// then passes the result of the previous step as the input to the next step.\n",
              "function _uploadFilesContinue(outputId) {\n",
              "  const outputElement = document.getElementById(outputId);\n",
              "  const steps = outputElement.steps;\n",
              "\n",
              "  const next = steps.next(outputElement.lastPromiseValue);\n",
              "  return Promise.resolve(next.value.promise).then((value) => {\n",
              "    // Cache the last promise value to make it available to the next\n",
              "    // step of the generator.\n",
              "    outputElement.lastPromiseValue = value;\n",
              "    return next.value.response;\n",
              "  });\n",
              "}\n",
              "\n",
              "/**\n",
              " * Generator function which is called between each async step of the upload\n",
              " * process.\n",
              " * @param {string} inputId Element ID of the input file picker element.\n",
              " * @param {string} outputId Element ID of the output display.\n",
              " * @return {!Iterable<!Object>} Iterable of next steps.\n",
              " */\n",
              "function* uploadFilesStep(inputId, outputId) {\n",
              "  const inputElement = document.getElementById(inputId);\n",
              "  inputElement.disabled = false;\n",
              "\n",
              "  const outputElement = document.getElementById(outputId);\n",
              "  outputElement.innerHTML = '';\n",
              "\n",
              "  const pickedPromise = new Promise((resolve) => {\n",
              "    inputElement.addEventListener('change', (e) => {\n",
              "      resolve(e.target.files);\n",
              "    });\n",
              "  });\n",
              "\n",
              "  const cancel = document.createElement('button');\n",
              "  inputElement.parentElement.appendChild(cancel);\n",
              "  cancel.textContent = 'Cancel upload';\n",
              "  const cancelPromise = new Promise((resolve) => {\n",
              "    cancel.onclick = () => {\n",
              "      resolve(null);\n",
              "    };\n",
              "  });\n",
              "\n",
              "  // Wait for the user to pick the files.\n",
              "  const files = yield {\n",
              "    promise: Promise.race([pickedPromise, cancelPromise]),\n",
              "    response: {\n",
              "      action: 'starting',\n",
              "    }\n",
              "  };\n",
              "\n",
              "  cancel.remove();\n",
              "\n",
              "  // Disable the input element since further picks are not allowed.\n",
              "  inputElement.disabled = true;\n",
              "\n",
              "  if (!files) {\n",
              "    return {\n",
              "      response: {\n",
              "        action: 'complete',\n",
              "      }\n",
              "    };\n",
              "  }\n",
              "\n",
              "  for (const file of files) {\n",
              "    const li = document.createElement('li');\n",
              "    li.append(span(file.name, {fontWeight: 'bold'}));\n",
              "    li.append(span(\n",
              "        `(${file.type || 'n/a'}) - ${file.size} bytes, ` +\n",
              "        `last modified: ${\n",
              "            file.lastModifiedDate ? file.lastModifiedDate.toLocaleDateString() :\n",
              "                                    'n/a'} - `));\n",
              "    const percent = span('0% done');\n",
              "    li.appendChild(percent);\n",
              "\n",
              "    outputElement.appendChild(li);\n",
              "\n",
              "    const fileDataPromise = new Promise((resolve) => {\n",
              "      const reader = new FileReader();\n",
              "      reader.onload = (e) => {\n",
              "        resolve(e.target.result);\n",
              "      };\n",
              "      reader.readAsArrayBuffer(file);\n",
              "    });\n",
              "    // Wait for the data to be ready.\n",
              "    let fileData = yield {\n",
              "      promise: fileDataPromise,\n",
              "      response: {\n",
              "        action: 'continue',\n",
              "      }\n",
              "    };\n",
              "\n",
              "    // Use a chunked sending to avoid message size limits. See b/62115660.\n",
              "    let position = 0;\n",
              "    do {\n",
              "      const length = Math.min(fileData.byteLength - position, MAX_PAYLOAD_SIZE);\n",
              "      const chunk = new Uint8Array(fileData, position, length);\n",
              "      position += length;\n",
              "\n",
              "      const base64 = btoa(String.fromCharCode.apply(null, chunk));\n",
              "      yield {\n",
              "        response: {\n",
              "          action: 'append',\n",
              "          file: file.name,\n",
              "          data: base64,\n",
              "        },\n",
              "      };\n",
              "\n",
              "      let percentDone = fileData.byteLength === 0 ?\n",
              "          100 :\n",
              "          Math.round((position / fileData.byteLength) * 100);\n",
              "      percent.textContent = `${percentDone}% done`;\n",
              "\n",
              "    } while (position < fileData.byteLength);\n",
              "  }\n",
              "\n",
              "  // All done.\n",
              "  yield {\n",
              "    response: {\n",
              "      action: 'complete',\n",
              "    }\n",
              "  };\n",
              "}\n",
              "\n",
              "scope.google = scope.google || {};\n",
              "scope.google.colab = scope.google.colab || {};\n",
              "scope.google.colab._files = {\n",
              "  _uploadFiles,\n",
              "  _uploadFilesContinue,\n",
              "};\n",
              "})(self);\n",
              "</script> "
            ]
          },
          "metadata": {}
        },
        {
          "output_type": "stream",
          "name": "stdout",
          "text": [
            "Saving PCA_IRISH.csv to PCA_IRISH.csv\n"
          ]
        },
        {
          "output_type": "execute_result",
          "data": {
            "text/plain": [
              "{'PCA_IRISH.csv': b'\\xef\\xbb\\xbfID,A,B,C,Species\\r\\n0,-0.630361249,0.111556258,-0.016992912,Iris-setosa\\r\\n1,-0.62354631,-0.100313199,-0.047120124,Iris-setosa\\r\\n2,-0.669792802,-0.047220057,0.021647739,Iris-setosa\\r\\n3,-0.654633051,-0.098791275,0.025214146,Iris-setosa\\r\\n4,-0.648263265,0.137557689,0.016812552,Iris-setosa\\r\\n5,-0.534057,0.293223042,0.026736471,Iris-setosa\\r\\n6,-0.656395887,0.014921939,0.093698079,Iris-setosa\\r\\n7,-0.625643957,0.061075319,-0.012269568,Iris-setosa\\r\\n8,-0.676525845,-0.196482315,0.038131645,Iris-setosa\\r\\n9,-0.646137172,-0.06324223,-0.059753692,Iris-setosa\\r\\n10,-0.596654863,0.220941913,-0.049753282,Iris-setosa\\r\\n11,-0.638828681,0.036595812,0.026259239,Iris-setosa\\r\\n12,-0.662304799,-0.111542611,-0.052716474,Iris-setosa\\r\\n13,-0.752700136,-0.166744846,0.049968696,Iris-setosa\\r\\n14,-0.598993148,0.384079343,-0.083766185,Iris-setosa\\r\\n15,-0.549943265,0.518967671,0.039334685,Iris-setosa\\r\\n16,-0.575826838,0.297584158,0.031364219,Iris-setosa\\r\\n17,-0.603416352,0.111091056,0.008446311,Iris-setosa\\r\\n18,-0.519472697,0.291076041,-0.072193958,Iris-setosa\\r\\n19,-0.611239166,0.223088914,0.049177147,Iris-setosa\\r\\n20,-0.557504671,0.105673218,-0.093954929,Iris-setosa\\r\\n21,-0.578205845,0.184927666,0.060653778,Iris-setosa\\r\\n22,-0.73728747,0.095140347,0.100811786,Iris-setosa\\r\\n23,-0.506022332,0.031497724,0.027928762,Iris-setosa\\r\\n24,-0.607501302,0.033324975,0.022788429,Iris-setosa\\r\\n25,-0.5908478,-0.090799142,-0.069276869,Iris-setosa\\r\\n26,-0.561311704,0.059054636,0.03745194,Iris-setosa\\r\\n27,-0.608105198,0.122160593,-0.03799272,Iris-setosa\\r\\n28,-0.612459233,0.085554826,-0.050798375,Iris-setosa\\r\\n29,-0.638465424,-0.050490894,0.018176929,Iris-setosa\\r\\n30,-0.620563408,-0.076492325,-0.015628534,Iris-setosa\\r\\n31,-0.524499797,0.106923372,-0.040762611,Iris-setosa\\r\\n32,-0.67158064,0.348802069,0.020343605,Iris-setosa\\r\\n33,-0.625725853,0.422207034,0.001373739,Iris-setosa\\r\\n34,-0.646137172,-0.06324223,-0.059753692,Iris-setosa\\r\\n35,-0.644794486,-0.011045936,-0.036723939,Iris-setosa\\r\\n36,-0.593549341,0.159424994,-0.095207462,Iris-setosa\\r\\n37,-0.646137172,-0.06324223,-0.059753692,Iris-setosa\\r\\n38,-0.693056729,-0.157695991,0.053251173,Iris-setosa\\r\\n39,-0.613830365,0.072769933,-0.03211244,Iris-setosa\\r\\n40,-0.625672404,0.10048672,0.029446119,Iris-setosa\\r\\n41,-0.61167927,-0.410338898,-0.038890615,Iris-setosa\\r\\n42,-0.705233577,-0.0823039,0.081176355,Iris-setosa\\r\\n43,-0.513510336,0.095820278,0.102292976,Iris-setosa\\r\\n44,-0.542524432,0.218262596,0.069988622,Iris-setosa\\r\\n45,-0.608415006,-0.112473015,-0.00183803,Iris-setosa\\r\\n46,-0.627741603,0.222463837,0.022580988,Iris-setosa\\r\\n47,-0.671163934,-0.06000495,0.040333674,Iris-setosa\\r\\n48,-0.608468455,0.209247299,-0.02991041,Iris-setosa\\r\\n49,-0.629997992,0.024469552,-0.025075222,Iris-setosa\\r\\n50,0.280302189,0.179104167,-0.1688035,Iris-versicolor\\r\\n51,0.215480616,0.110651837,-0.021993172,Iris-versicolor\\r\\n52,0.322406837,0.127067747,-0.13979787,Iris-versicolor\\r\\n53,0.057852019,-0.327482303,-0.014164406,Iris-versicolor\\r\\n54,0.262090364,-0.02952801,-0.098843346,Iris-versicolor\\r\\n55,0.103249378,-0.121064241,0.010178122,Iris-versicolor\\r\\n56,0.245408415,0.134007509,0.034937639,Iris-versicolor\\r\\n57,-0.173049862,-0.350926386,0.050636307,Iris-versicolor\\r\\n58,0.213925739,0.020793054,-0.155602071,Iris-versicolor\\r\\n59,0.014559983,-0.211156887,0.127810733,Iris-versicolor\\r\\n60,-0.115997654,-0.492196511,-0.027370803,Iris-versicolor\\r\\n61,0.137262127,-0.019942489,0.052766815,Iris-versicolor\\r\\n62,0.042173713,-0.305309672,-0.203659024,Iris-versicolor\\r\\n63,0.192245136,-0.039235498,-0.032105426,Iris-versicolor\\r\\n64,-0.008634774,-0.0852503,0.054396016,Iris-versicolor\\r\\n65,0.219622459,0.109595115,-0.119766665,Iris-versicolor\\r\\n66,0.13314873,-0.058297168,0.10882462,Iris-versicolor\\r\\n67,-0.001453133,-0.141308951,-0.095317261,Iris-versicolor\\r\\n68,0.252737676,-0.289697847,-0.12193334,Iris-versicolor\\r\\n69,-0.006843491,-0.238374915,-0.055803604,Iris-versicolor\\r\\n70,0.268574725,0.047512323,0.150068043,Iris-versicolor\\r\\n71,0.098291447,-0.06883439,-0.063408682,Iris-versicolor\\r\\n72,0.288055833,-0.169276212,-0.104516186,Iris-versicolor\\r\\n73,0.144443767,-0.07600114,-0.096946462,Iris-versicolor\\r\\n74,0.158971177,0.000674662,-0.112445517,Iris-versicolor\\r\\n75,0.213897292,0.060204455,-0.113886384,Iris-versicolor\\r\\n76,0.291471162,0.003840477,-0.186125057,Iris-versicolor\\r\\n77,0.36920033,0.06396179,-0.06435321,Iris-versicolor\\r\\n78,0.186491522,-0.049214757,0.015490542,Iris-versicolor\\r\\n79,-0.069833058,-0.184157938,-0.082495359,Iris-versicolor\\r\\n80,-0.023011117,-0.286675296,-0.048766386,Iris-versicolor\\r\\n81,-0.060398473,-0.285119816,-0.073048671,Iris-versicolor\\r\\n82,0.031551741,-0.140058798,-0.042124943,Iris-versicolor\\r\\n83,0.288268024,-0.131613723,0.00606296,Iris-versicolor\\r\\n84,0.109521547,-0.081686397,0.148510364,Iris-versicolor\\r\\n85,0.182994296,0.138800269,0.11074272,Iris-versicolor\\r\\n86,0.277894734,0.105859076,-0.097798253,Iris-versicolor\\r\\n87,0.194130591,-0.238286505,-0.177535129,Iris-versicolor\\r\\n88,0.037489099,-0.053005649,0.062573923,Iris-versicolor\\r\\n89,0.04567517,-0.252090212,0.013760776,Iris-versicolor\\r\\n90,0.054411687,-0.21829008,-0.002343602,Iris-versicolor\\r\\n91,0.175714252,-0.000449174,-0.016985898,Iris-versicolor\\r\\n92,0.048082625,-0.178845122,-0.057244471,Iris-versicolor\\r\\n93,-0.155147846,-0.376927817,0.016830844,Iris-versicolor\\r\\n94,0.066196832,-0.167184065,0.019529213,Iris-versicolor\\r\\n95,0.032800254,-0.041936112,0.016134892,Iris-versicolor\\r\\n96,0.065833575,-0.080097359,0.027611523,Iris-versicolor\\r\\n97,0.135343993,-0.022714567,-0.072759773,Iris-versicolor\\r\\n98,-0.159893585,-0.287035477,0.053823187,Iris-versicolor\\r\\n99,0.06147954,-0.116703126,0.014805869,Iris-versicolor\\r\\n100,0.623664457,0.115647066,0.24885046,Iris-virginica\\r\\n101,0.34547553,-0.156398557,0.122066371,Iris-virginica\\r\\n102,0.618216418,0.09906693,-0.05238024,Iris-virginica\\r\\n103,0.417634041,-0.027519587,0.019553287,Iris-virginica\\r\\n104,0.563837305,0.029524321,0.09327315,Iris-virginica\\r\\n105,0.750381594,0.149908049,-0.159693158,Iris-virginica\\r\\n106,0.134785503,-0.3295701,0.228790212,Iris-virginica\\r\\n107,0.608867175,0.081794603,-0.186973989,Iris-virginica\\r\\n108,0.510127024,-0.13370587,-0.117982438,Iris-virginica\\r\\n109,0.722163969,0.332896452,0.11099545,Iris-virginica\\r\\n110,0.424673447,0.113478768,0.078418446,Iris-virginica\\r\\n111,0.437241999,-0.08841143,0.000695266,Iris-virginica\\r\\n112,0.541005805,0.068344203,0.011776123,Iris-virginica\\r\\n113,0.362341224,-0.242860186,0.140580219,Iris-virginica\\r\\n114,0.474111588,-0.121028522,0.263225073,Iris-virginica\\r\\n115,0.514579463,0.098207991,0.172265111,Iris-virginica\\r\\n116,0.42473034,0.034655966,-0.005012928,Iris-virginica\\r\\n117,0.750875146,0.461615547,-0.043553015,Iris-virginica\\r\\n118,0.871766054,0.006617241,-0.18797876,Iris-virginica\\r\\n119,0.28132279,-0.31853847,-0.088032281,Iris-virginica\\r\\n120,0.61541726,0.152319946,0.068423004,Iris-virginica\\r\\n121,0.321819899,-0.140376385,0.203467802,Iris-virginica\\r\\n122,0.757869597,0.085585496,-0.234057371,Iris-virginica\\r\\n123,0.356713673,-0.095279726,-0.000273337,Iris-virginica\\r\\n124,0.531811859,0.167557167,0.071192894,Iris-virginica\\r\\n125,0.547460931,0.186458962,-0.121772533,Iris-virginica\\r\\n126,0.328369198,-0.068188016,0.034689063,Iris-virginica\\r\\n127,0.314821216,-0.005580818,0.08130018,Iris-virginica\\r\\n128,0.516370746,-0.054916624,0.062065491,Iris-virginica\\r\\n129,0.484863068,0.114177833,-0.198262286,Iris-virginica\\r\\n130,0.632829168,0.057508528,-0.193026356,Iris-virginica\\r\\n131,0.689285158,0.489206016,-0.130646392,Iris-virginica\\r\\n132,0.543315643,-0.055381826,0.087504713,Iris-virginica\\r\\n133,0.290675478,-0.058368633,-0.064942286,Iris-virginica\\r\\n134,0.304492544,-0.162136145,-0.084405631,Iris-virginica\\r\\n135,0.763872681,0.166123654,-0.122872901,Iris-virginica\\r\\n136,0.548861298,0.158169429,0.242001577,Iris-virginica\\r\\n137,0.406828324,0.060657397,0.028792535,Iris-virginica\\r\\n138,0.292565165,-0.016185154,0.102299989,Iris-virginica\\r\\n139,0.536288513,0.118825141,0.007052779,Iris-virginica\\r\\n140,0.614380938,0.091859749,0.120742316,Iris-virginica\\r\\n141,0.558850928,0.121165574,0.061402034,Iris-virginica\\r\\n142,0.34547553,-0.156398557,0.122066371,Iris-virginica\\r\\n143,0.624488587,0.138444774,0.085952002,Iris-virginica\\r\\n144,0.639591445,0.16569636,0.172949783,Iris-virginica\\r\\n145,0.551754628,0.058990021,0.085968249,Iris-virginica\\r\\n146,0.406277878,-0.172227298,-0.003916234,Iris-virginica\\r\\n147,0.447292755,0.036996398,0.049336327,Iris-virginica\\r\\n148,0.489217891,0.149120574,0.2387191,Iris-virginica\\r\\n149,0.312078952,-0.031150604,0.11867205,Iris-virginica\\r\\n'}"
            ]
          },
          "metadata": {},
          "execution_count": 1
        }
      ],
      "source": [
        "from google.colab import files\n",
        "files.upload()"
      ]
    },
    {
      "cell_type": "code",
      "source": [
        "import warnings as war\n",
        "war.filterwarnings('ignore')\n",
        "import pandas as pd\n",
        "import numpy as np\n",
        "import matplotlib.pyplot as plt\n",
        "%matplotlib inline \n",
        "import seaborn as sns\n",
        "sns.set(style=\"white\", color_codes = True)"
      ],
      "metadata": {
        "id": "MtlehCe3wyha"
      },
      "execution_count": null,
      "outputs": []
    },
    {
      "cell_type": "code",
      "source": [
        "data = pd.read_csv(\"PCA_IRISH.csv\")\n",
        "x = data.iloc[:, :-1].values\n",
        "y = data.iloc[:, -1].values"
      ],
      "metadata": {
        "id": "KURpN5hXw9tq"
      },
      "execution_count": null,
      "outputs": []
    },
    {
      "cell_type": "code",
      "source": [
        "data.isnull().sum()"
      ],
      "metadata": {
        "colab": {
          "base_uri": "https://localhost:8080/"
        },
        "id": "wpRbaRBZI5Aq",
        "outputId": "70cc7068-c4cc-4333-809e-dad60e4b7120"
      },
      "execution_count": null,
      "outputs": [
        {
          "output_type": "execute_result",
          "data": {
            "text/plain": [
              "ID         0\n",
              "A          0\n",
              "B          0\n",
              "C          0\n",
              "Species    0\n",
              "dtype: int64"
            ]
          },
          "metadata": {},
          "execution_count": 4
        }
      ]
    },
    {
      "cell_type": "code",
      "source": [
        "data[\"Species\"].value_counts()"
      ],
      "metadata": {
        "colab": {
          "base_uri": "https://localhost:8080/"
        },
        "id": "k3m14fHeJCyM",
        "outputId": "92296cf7-5e2b-4b06-ee3a-cdf083d13dd0"
      },
      "execution_count": null,
      "outputs": [
        {
          "output_type": "execute_result",
          "data": {
            "text/plain": [
              "Iris-setosa        50\n",
              "Iris-versicolor    50\n",
              "Iris-virginica     50\n",
              "Name: Species, dtype: int64"
            ]
          },
          "metadata": {},
          "execution_count": 5
        }
      ]
    },
    {
      "cell_type": "code",
      "source": [
        "x = data.drop(['ID','Species'],axis=1)\n",
        "\n",
        "print(x)"
      ],
      "metadata": {
        "colab": {
          "base_uri": "https://localhost:8080/"
        },
        "id": "2za-h0QexTx6",
        "outputId": "b2e01fab-2588-404d-f8c4-0f217407db5c"
      },
      "execution_count": null,
      "outputs": [
        {
          "output_type": "stream",
          "name": "stdout",
          "text": [
            "            A         B         C\n",
            "0   -0.630361  0.111556 -0.016993\n",
            "1   -0.623546 -0.100313 -0.047120\n",
            "2   -0.669793 -0.047220  0.021648\n",
            "3   -0.654633 -0.098791  0.025214\n",
            "4   -0.648263  0.137558  0.016813\n",
            "..        ...       ...       ...\n",
            "145  0.551755  0.058990  0.085968\n",
            "146  0.406278 -0.172227 -0.003916\n",
            "147  0.447293  0.036996  0.049336\n",
            "148  0.489218  0.149121  0.238719\n",
            "149  0.312079 -0.031151  0.118672\n",
            "\n",
            "[150 rows x 3 columns]\n"
          ]
        }
      ]
    },
    {
      "cell_type": "code",
      "source": [
        "print(y)"
      ],
      "metadata": {
        "colab": {
          "base_uri": "https://localhost:8080/"
        },
        "id": "NM11Mb5kxfCT",
        "outputId": "1849cb7b-58b9-48d4-943e-7e71a05062b1"
      },
      "execution_count": null,
      "outputs": [
        {
          "output_type": "stream",
          "name": "stdout",
          "text": [
            "['Iris-setosa' 'Iris-setosa' 'Iris-setosa' 'Iris-setosa' 'Iris-setosa'\n",
            " 'Iris-setosa' 'Iris-setosa' 'Iris-setosa' 'Iris-setosa' 'Iris-setosa'\n",
            " 'Iris-setosa' 'Iris-setosa' 'Iris-setosa' 'Iris-setosa' 'Iris-setosa'\n",
            " 'Iris-setosa' 'Iris-setosa' 'Iris-setosa' 'Iris-setosa' 'Iris-setosa'\n",
            " 'Iris-setosa' 'Iris-setosa' 'Iris-setosa' 'Iris-setosa' 'Iris-setosa'\n",
            " 'Iris-setosa' 'Iris-setosa' 'Iris-setosa' 'Iris-setosa' 'Iris-setosa'\n",
            " 'Iris-setosa' 'Iris-setosa' 'Iris-setosa' 'Iris-setosa' 'Iris-setosa'\n",
            " 'Iris-setosa' 'Iris-setosa' 'Iris-setosa' 'Iris-setosa' 'Iris-setosa'\n",
            " 'Iris-setosa' 'Iris-setosa' 'Iris-setosa' 'Iris-setosa' 'Iris-setosa'\n",
            " 'Iris-setosa' 'Iris-setosa' 'Iris-setosa' 'Iris-setosa' 'Iris-setosa'\n",
            " 'Iris-versicolor' 'Iris-versicolor' 'Iris-versicolor' 'Iris-versicolor'\n",
            " 'Iris-versicolor' 'Iris-versicolor' 'Iris-versicolor' 'Iris-versicolor'\n",
            " 'Iris-versicolor' 'Iris-versicolor' 'Iris-versicolor' 'Iris-versicolor'\n",
            " 'Iris-versicolor' 'Iris-versicolor' 'Iris-versicolor' 'Iris-versicolor'\n",
            " 'Iris-versicolor' 'Iris-versicolor' 'Iris-versicolor' 'Iris-versicolor'\n",
            " 'Iris-versicolor' 'Iris-versicolor' 'Iris-versicolor' 'Iris-versicolor'\n",
            " 'Iris-versicolor' 'Iris-versicolor' 'Iris-versicolor' 'Iris-versicolor'\n",
            " 'Iris-versicolor' 'Iris-versicolor' 'Iris-versicolor' 'Iris-versicolor'\n",
            " 'Iris-versicolor' 'Iris-versicolor' 'Iris-versicolor' 'Iris-versicolor'\n",
            " 'Iris-versicolor' 'Iris-versicolor' 'Iris-versicolor' 'Iris-versicolor'\n",
            " 'Iris-versicolor' 'Iris-versicolor' 'Iris-versicolor' 'Iris-versicolor'\n",
            " 'Iris-versicolor' 'Iris-versicolor' 'Iris-versicolor' 'Iris-versicolor'\n",
            " 'Iris-versicolor' 'Iris-versicolor' 'Iris-virginica' 'Iris-virginica'\n",
            " 'Iris-virginica' 'Iris-virginica' 'Iris-virginica' 'Iris-virginica'\n",
            " 'Iris-virginica' 'Iris-virginica' 'Iris-virginica' 'Iris-virginica'\n",
            " 'Iris-virginica' 'Iris-virginica' 'Iris-virginica' 'Iris-virginica'\n",
            " 'Iris-virginica' 'Iris-virginica' 'Iris-virginica' 'Iris-virginica'\n",
            " 'Iris-virginica' 'Iris-virginica' 'Iris-virginica' 'Iris-virginica'\n",
            " 'Iris-virginica' 'Iris-virginica' 'Iris-virginica' 'Iris-virginica'\n",
            " 'Iris-virginica' 'Iris-virginica' 'Iris-virginica' 'Iris-virginica'\n",
            " 'Iris-virginica' 'Iris-virginica' 'Iris-virginica' 'Iris-virginica'\n",
            " 'Iris-virginica' 'Iris-virginica' 'Iris-virginica' 'Iris-virginica'\n",
            " 'Iris-virginica' 'Iris-virginica' 'Iris-virginica' 'Iris-virginica'\n",
            " 'Iris-virginica' 'Iris-virginica' 'Iris-virginica' 'Iris-virginica'\n",
            " 'Iris-virginica' 'Iris-virginica' 'Iris-virginica' 'Iris-virginica']\n"
          ]
        }
      ]
    },
    {
      "cell_type": "code",
      "source": [
        "len(x)"
      ],
      "metadata": {
        "colab": {
          "base_uri": "https://localhost:8080/"
        },
        "id": "DmxBWMr0xkqq",
        "outputId": "bd94113e-aa70-4eef-ae22-806e29125b16"
      },
      "execution_count": null,
      "outputs": [
        {
          "output_type": "execute_result",
          "data": {
            "text/plain": [
              "150"
            ]
          },
          "metadata": {},
          "execution_count": 8
        }
      ]
    },
    {
      "cell_type": "code",
      "source": [
        "len(y)"
      ],
      "metadata": {
        "colab": {
          "base_uri": "https://localhost:8080/"
        },
        "id": "ITNn8mYUxrGM",
        "outputId": "8ff503d5-fe73-405c-ea12-b8f5d09d0850"
      },
      "execution_count": null,
      "outputs": [
        {
          "output_type": "execute_result",
          "data": {
            "text/plain": [
              "150"
            ]
          },
          "metadata": {},
          "execution_count": 9
        }
      ]
    },
    {
      "cell_type": "code",
      "source": [
        "sns.FacetGrid(data, hue=\"Species\",height=6).map(plt.scatter, \"A\",\"B\").add_legend()"
      ],
      "metadata": {
        "colab": {
          "base_uri": "https://localhost:8080/",
          "height": 454
        },
        "id": "lpveH-RIAMJE",
        "outputId": "b8fc15a8-51bf-49d5-909a-19927c445cba"
      },
      "execution_count": null,
      "outputs": [
        {
          "output_type": "execute_result",
          "data": {
            "text/plain": [
              "<seaborn.axisgrid.FacetGrid at 0x7f74bd9ef3a0>"
            ]
          },
          "metadata": {},
          "execution_count": 10
        },
        {
          "output_type": "display_data",
          "data": {
            "text/plain": [
              "<Figure size 546.35x432 with 1 Axes>"
            ],
            "image/png": "[encoded data removed]"
          },
          "metadata": {}
        }
      ]
    },
    {
      "cell_type": "markdown",
      "source": [
        "**Converted Categorical Data to Numrecial Data**"
      ],
      "metadata": {
        "id": "-LIpalUo2mol"
      }
    },
    {
      "cell_type": "code",
      "source": [
        "from sklearn.preprocessing import LabelEncoder\n",
        "l_encode = LabelEncoder()\n",
        "y = l_encode.fit_transform(y)"
      ],
      "metadata": {
        "id": "I0dMnn7WxvPz"
      },
      "execution_count": null,
      "outputs": []
    },
    {
      "cell_type": "code",
      "source": [
        "print(y)"
      ],
      "metadata": {
        "colab": {
          "base_uri": "https://localhost:8080/"
        },
        "id": "CA2qRF-NyTj-",
        "outputId": "04192a13-c540-443c-c2e7-5487ffc74983"
      },
      "execution_count": null,
      "outputs": [
        {
          "output_type": "stream",
          "name": "stdout",
          "text": [
            "[0 0 0 0 0 0 0 0 0 0 0 0 0 0 0 0 0 0 0 0 0 0 0 0 0 0 0 0 0 0 0 0 0 0 0 0 0\n",
            " 0 0 0 0 0 0 0 0 0 0 0 0 0 1 1 1 1 1 1 1 1 1 1 1 1 1 1 1 1 1 1 1 1 1 1 1 1\n",
            " 1 1 1 1 1 1 1 1 1 1 1 1 1 1 1 1 1 1 1 1 1 1 1 1 1 1 2 2 2 2 2 2 2 2 2 2 2\n",
            " 2 2 2 2 2 2 2 2 2 2 2 2 2 2 2 2 2 2 2 2 2 2 2 2 2 2 2 2 2 2 2 2 2 2 2 2 2\n",
            " 2 2]\n"
          ]
        }
      ]
    },
    {
      "cell_type": "code",
      "source": [
        "len(y)"
      ],
      "metadata": {
        "colab": {
          "base_uri": "https://localhost:8080/"
        },
        "id": "e3iZHSVnyXLc",
        "outputId": "1f821806-2e66-4f16-d6a6-c8b7c72b7d23"
      },
      "execution_count": null,
      "outputs": [
        {
          "output_type": "execute_result",
          "data": {
            "text/plain": [
              "150"
            ]
          },
          "metadata": {},
          "execution_count": 13
        }
      ]
    },
    {
      "cell_type": "markdown",
      "source": [
        "**Training And Testing Data Split**"
      ],
      "metadata": {
        "id": "jsFr_lxX2xht"
      }
    },
    {
      "cell_type": "code",
      "source": [
        "from sklearn.model_selection import train_test_split\n",
        "x_train, x_test, y_train, y_test = train_test_split(x,y,test_size=0.2, random_state = 0)"
      ],
      "metadata": {
        "id": "Tsw7NtN1yZZQ"
      },
      "execution_count": null,
      "outputs": []
    },
    {
      "cell_type": "code",
      "source": [
        "print(x_train)"
      ],
      "metadata": {
        "colab": {
          "base_uri": "https://localhost:8080/"
        },
        "id": "yowwh1XrzOax",
        "outputId": "ca4940bb-3785-40a3-97eb-04dbbfa0dd73"
      },
      "execution_count": null,
      "outputs": [
        {
          "output_type": "stream",
          "name": "stdout",
          "text": [
            "            A         B         C\n",
            "137  0.406828  0.060657  0.028793\n",
            "84   0.109522 -0.081686  0.148510\n",
            "27  -0.608105  0.122161 -0.037993\n",
            "127  0.314821 -0.005581  0.081300\n",
            "132  0.543316 -0.055382  0.087505\n",
            "..        ...       ...       ...\n",
            "9   -0.646137 -0.063242 -0.059754\n",
            "103  0.417634 -0.027520  0.019553\n",
            "67  -0.001453 -0.141309 -0.095317\n",
            "117  0.750875  0.461616 -0.043553\n",
            "47  -0.671164 -0.060005  0.040334\n",
            "\n",
            "[120 rows x 3 columns]\n"
          ]
        }
      ]
    },
    {
      "cell_type": "code",
      "source": [
        "len(x_test)"
      ],
      "metadata": {
        "colab": {
          "base_uri": "https://localhost:8080/"
        },
        "id": "ZoloC0_dzTGe",
        "outputId": "9c7bf6e3-327b-491a-b7d7-c866b01a6fdf"
      },
      "execution_count": null,
      "outputs": [
        {
          "output_type": "execute_result",
          "data": {
            "text/plain": [
              "30"
            ]
          },
          "metadata": {},
          "execution_count": 16
        }
      ]
    },
    {
      "cell_type": "code",
      "source": [
        "print(y_train)"
      ],
      "metadata": {
        "colab": {
          "base_uri": "https://localhost:8080/"
        },
        "id": "2OVj8k_hzX_m",
        "outputId": "7d1c006b-12b1-4e64-f68a-df151ca8f1e8"
      },
      "execution_count": null,
      "outputs": [
        {
          "output_type": "stream",
          "name": "stdout",
          "text": [
            "[2 1 0 2 2 1 0 1 1 1 2 0 2 0 0 1 2 2 2 2 1 2 1 1 2 2 2 2 1 2 1 0 2 1 1 1 1\n",
            " 2 0 0 2 1 0 0 1 0 2 1 0 1 2 1 0 2 2 2 2 0 0 2 2 0 2 0 2 2 0 0 2 0 0 0 1 2\n",
            " 2 0 0 0 1 1 0 0 1 0 2 1 2 1 0 2 0 2 0 0 2 0 2 1 1 1 2 2 1 1 0 1 2 2 0 1 1\n",
            " 1 1 0 0 0 2 1 2 0]\n"
          ]
        }
      ]
    },
    {
      "cell_type": "code",
      "source": [
        "len(y_train)"
      ],
      "metadata": {
        "colab": {
          "base_uri": "https://localhost:8080/"
        },
        "id": "eegAXfHazdwI",
        "outputId": "9a5b2494-8678-40dc-ec30-881cb6ff6a74"
      },
      "execution_count": null,
      "outputs": [
        {
          "output_type": "execute_result",
          "data": {
            "text/plain": [
              "120"
            ]
          },
          "metadata": {},
          "execution_count": 18
        }
      ]
    },
    {
      "cell_type": "code",
      "source": [
        "print(y_test)"
      ],
      "metadata": {
        "colab": {
          "base_uri": "https://localhost:8080/"
        },
        "id": "dbSGrsZCzhbX",
        "outputId": "848c3926-592c-4036-a7d6-5e7f91a5bed9"
      },
      "execution_count": null,
      "outputs": [
        {
          "output_type": "stream",
          "name": "stdout",
          "text": [
            "[2 1 0 2 0 2 0 1 1 1 2 1 1 1 1 0 1 1 0 0 2 1 0 0 2 0 0 1 1 0]\n"
          ]
        }
      ]
    },
    {
      "cell_type": "code",
      "source": [
        "len(y_test)"
      ],
      "metadata": {
        "colab": {
          "base_uri": "https://localhost:8080/"
        },
        "id": "PsbkvQfHzkVA",
        "outputId": "cb6aa03a-7d7b-4b8b-887e-88a6571131f4"
      },
      "execution_count": null,
      "outputs": [
        {
          "output_type": "execute_result",
          "data": {
            "text/plain": [
              "30"
            ]
          },
          "metadata": {},
          "execution_count": 20
        }
      ]
    },
    {
      "cell_type": "markdown",
      "source": [
        "**Linear Regression**"
      ],
      "metadata": {
        "id": "HIzTTZzli7NK"
      }
    },
    {
      "cell_type": "code",
      "source": [
        "from sklearn.linear_model import LinearRegression"
      ],
      "metadata": {
        "id": "Uij05XZWdu8x"
      },
      "execution_count": null,
      "outputs": []
    },
    {
      "cell_type": "code",
      "source": [
        "regression = LinearRegression()"
      ],
      "metadata": {
        "id": "70F23uDMeHK_"
      },
      "execution_count": null,
      "outputs": []
    },
    {
      "cell_type": "code",
      "source": [
        "regression.fit(x_train, y_train)"
      ],
      "metadata": {
        "id": "Cd4zAccViVgi",
        "outputId": "beb05812-7ef8-4aeb-ed37-fc6a4c68b606",
        "colab": {
          "base_uri": "https://localhost:8080/"
        }
      },
      "execution_count": null,
      "outputs": [
        {
          "output_type": "execute_result",
          "data": {
            "text/plain": [
              "LinearRegression()"
            ]
          },
          "metadata": {},
          "execution_count": 23
        }
      ]
    },
    {
      "cell_type": "code",
      "source": [
        "predicted = regression.predict(x_test)"
      ],
      "metadata": {
        "id": "DrCaA2lje-cz"
      },
      "execution_count": null,
      "outputs": []
    },
    {
      "cell_type": "code",
      "source": [
        "predicted"
      ],
      "metadata": {
        "id": "f17JpC_7iiI7",
        "colab": {
          "base_uri": "https://localhost:8080/"
        },
        "outputId": "c75e33bf-96b6-49b6-ee8f-192045c5b677"
      },
      "execution_count": null,
      "outputs": [
        {
          "output_type": "execute_result",
          "data": {
            "text/plain": [
              "array([ 2.10341935,  0.97288303, -0.15404809,  1.77900854, -0.0422451 ,\n",
              "        2.2494809 , -0.01218937,  1.32490302,  1.28977469,  1.1292751 ,\n",
              "        1.47584772,  1.3011923 ,  1.17174298,  1.34528619,  1.30499112,\n",
              "       -0.08218657,  1.34913129,  1.1741011 ,  0.0573603 ,  0.00229633,\n",
              "        1.79912792,  1.36347519,  0.03386415,  0.01767829,  1.60718252,\n",
              "       -0.11722235,  0.12485897,  1.16374409,  0.9080496 ,  0.11558629])"
            ]
          },
          "metadata": {},
          "execution_count": 25
        }
      ]
    },
    {
      "cell_type": "code",
      "source": [
        "regression.score(x_test,y_test)"
      ],
      "metadata": {
        "colab": {
          "base_uri": "https://localhost:8080/"
        },
        "id": "ibmkJYU3ikj0",
        "outputId": "3b6fd78f-9cec-48d7-8805-b42a563d6d3d"
      },
      "execution_count": null,
      "outputs": [
        {
          "output_type": "execute_result",
          "data": {
            "text/plain": [
              "0.9053579083570008"
            ]
          },
          "metadata": {},
          "execution_count": 26
        }
      ]
    },
    {
      "cell_type": "code",
      "source": [
        "from sklearn.metrics import r2_score"
      ],
      "metadata": {
        "id": "_1VXL0JDinws"
      },
      "execution_count": null,
      "outputs": []
    },
    {
      "cell_type": "code",
      "source": [
        "score = r2_score(y_test,predicted)*100"
      ],
      "metadata": {
        "id": "LNyrbC9viqwo"
      },
      "execution_count": null,
      "outputs": []
    },
    {
      "cell_type": "code",
      "source": [
        "score"
      ],
      "metadata": {
        "colab": {
          "base_uri": "https://localhost:8080/"
        },
        "id": "JVz2CZvxiu9k",
        "outputId": "7e2f0055-4a1e-49be-b90e-caa970f0c4b2"
      },
      "execution_count": null,
      "outputs": [
        {
          "output_type": "execute_result",
          "data": {
            "text/plain": [
              "90.53579083570008"
            ]
          },
          "metadata": {},
          "execution_count": 29
        }
      ]
    },
    {
      "cell_type": "markdown",
      "source": [
        "**Performing Logistic Regression**"
      ],
      "metadata": {
        "id": "QUSfQQSr2-ZN"
      }
    },
    {
      "cell_type": "code",
      "source": [
        "from sklearn.linear_model import LogisticRegression\n",
        "lrc = LogisticRegression(max_iter = 500, random_state = 21)"
      ],
      "metadata": {
        "id": "wJm-0pPqzpMp"
      },
      "execution_count": null,
      "outputs": []
    },
    {
      "cell_type": "code",
      "source": [
        "lrc.fit(x_train,y_train)"
      ],
      "metadata": {
        "colab": {
          "base_uri": "https://localhost:8080/"
        },
        "id": "5V9DlLp60owh",
        "outputId": "c6a9b1f5-c08e-4a47-f717-0213267d23a2"
      },
      "execution_count": null,
      "outputs": [
        {
          "output_type": "execute_result",
          "data": {
            "text/plain": [
              "LogisticRegression(max_iter=500, random_state=21)"
            ]
          },
          "metadata": {},
          "execution_count": 31
        }
      ]
    },
    {
      "cell_type": "code",
      "source": [
        "y_pred = lrc.predict(x_test)\n",
        "print(y_pred)"
      ],
      "metadata": {
        "colab": {
          "base_uri": "https://localhost:8080/"
        },
        "id": "WNpWblSJ1Lwr",
        "outputId": "72d70b7a-cc82-42d0-ef99-22ca6f3c2f05"
      },
      "execution_count": null,
      "outputs": [
        {
          "output_type": "stream",
          "name": "stdout",
          "text": [
            "[2 1 0 2 0 2 0 2 1 1 1 2 1 1 1 0 1 1 0 0 2 1 0 0 2 0 0 1 1 0]\n"
          ]
        }
      ]
    },
    {
      "cell_type": "code",
      "source": [
        "from sklearn.metrics import accuracy_score\n",
        "accuracy_score(y_test,y_pred)*100"
      ],
      "metadata": {
        "colab": {
          "base_uri": "https://localhost:8080/"
        },
        "id": "L7qloc_o1mLa",
        "outputId": "bec2d1bd-9c74-4231-f909-c71866571113"
      },
      "execution_count": null,
      "outputs": [
        {
          "output_type": "execute_result",
          "data": {
            "text/plain": [
              "90.0"
            ]
          },
          "metadata": {},
          "execution_count": 33
        }
      ]
    },
    {
      "cell_type": "code",
      "source": [
        "prediction = lrc.predict([[5.7, 2.6, 3.5]])\n",
        "print(prediction)"
      ],
      "metadata": {
        "colab": {
          "base_uri": "https://localhost:8080/"
        },
        "id": "1wQI2E1V1u_h",
        "outputId": "4b57b59e-e781-4de8-8848-917d91afc962"
      },
      "execution_count": null,
      "outputs": [
        {
          "output_type": "stream",
          "name": "stdout",
          "text": [
            "[2]\n"
          ]
        }
      ]
    },
    {
      "cell_type": "markdown",
      "source": [
        "**COnfusion matrix**"
      ],
      "metadata": {
        "id": "Gw7XiuSF-TbE"
      }
    },
    {
      "cell_type": "code",
      "source": [
        "from sklearn.metrics import confusion_matrix\n",
        "confusion_mat = confusion_matrix(y_test,y_pred)\n",
        "sns.heatmap(confusion_mat, annot=True)\n",
        "plt.xlabel(\"predicted label\")\n",
        "plt.ylabel(\"True label\")\n",
        "plt.title(\"Confusion confusion_matrix\")\n",
        "plt.show()"
      ],
      "metadata": {
        "id": "rsOCzk8D-LV0",
        "colab": {
          "base_uri": "https://localhost:8080/",
          "height": 301
        },
        "outputId": "a20358f4-f6f3-43f4-a51c-a8465f733dd3"
      },
      "execution_count": null,
      "outputs": [
        {
          "output_type": "display_data",
          "data": {
            "text/plain": [
              "<Figure size 432x288 with 2 Axes>"
            ],
            "image/png": "[encoded data removed]"
          },
          "metadata": {}
        }
      ]
    },
    {
      "cell_type": "markdown",
      "source": [
        "**Plotting**"
      ],
      "metadata": {
        "id": "KZtKsNbD32Wn"
      }
    },
    {
      "cell_type": "code",
      "source": [
        "fig=plt.figure()\n",
        "ax=fig.add_subplot(111,projection='3d')\n",
        "n=20\n",
        "ax.scatter(data[\"A\"],data[\"B\"],data[\"C\"],color=\"red\")\n",
        "ax.set_xlabel(\"A\")\n",
        "ax.set_ylabel(\"B\")\n",
        "ax.set_zlabel(\"C\")\n",
        "plt.show()"
      ],
      "metadata": {
        "colab": {
          "base_uri": "https://localhost:8080/",
          "height": 248
        },
        "id": "Issx9KU589zK",
        "outputId": "2871b95d-d1a4-4955-bf9a-bf0c2805dfa2"
      },
      "execution_count": null,
      "outputs": [
        {
          "output_type": "display_data",
          "data": {
            "text/plain": [
              "<Figure size 432x288 with 1 Axes>"
            ],
            "image/png": "[encoded data removed]"
          },
          "metadata": {}
        }
      ]
    },
    {
      "cell_type": "code",
      "source": [],
      "metadata": {
        "id": "AsQ-dBao4QMo"
      },
      "execution_count": null,
      "outputs": []
    }
  ]
}