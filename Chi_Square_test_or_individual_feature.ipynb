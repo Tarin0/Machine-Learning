{
  "cells": [
    {
      "cell_type": "code",
      "execution_count": null,
      "metadata": {
        "id": "QZnXaoGflVks"
      },
      "outputs": [],
      "source": [
        "from google.colab import drive\n",
        "import pandas as pd\n",
        "import matplotlib.pyplot as plt\n",
        "%matplotlib inline \n",
        "import seaborn as sns\n",
        "from sklearn.feature_selection import chi2"
      ]
    },
    {
      "cell_type": "code",
      "source": [
        "drive.mount('/content/drive')"
      ],
      "metadata": {
        "colab": {
          "base_uri": "https://localhost:8080/"
        },
        "id": "IDQ9qqUi3BX3",
        "outputId": "45a957a4-025d-4f62-8cf4-ae18b1b9a677"
      },
      "execution_count": null,
      "outputs": [
        {
          "output_type": "stream",
          "name": "stdout",
          "text": [
            "Drive already mounted at /content/drive; to attempt to forcibly remount, call drive.mount(\"/content/drive\", force_remount=True).\n"
          ]
        }
      ]
    },
    {
      "cell_type": "code",
      "source": [
        "df = pd.read_csv(\"/content/drive/MyDrive/Machine Learning lab/Dataset/Iris.csv\")\n",
        "df"
      ],
      "metadata": {
        "colab": {
          "base_uri": "https://localhost:8080/",
          "height": 423
        },
        "id": "CkvePmZm3END",
        "outputId": "187dacfd-50e9-4509-f199-d8aa5f9f166c"
      },
      "execution_count": null,
      "outputs": [
        {
          "output_type": "execute_result",
          "data": {
            "text/plain": [
              "      Id  SepalLengthCm  SepalWidthCm  PetalLengthCm  PetalWidthCm  \\\n",
              "0      1            5.1           3.5            1.4           0.2   \n",
              "1      2            4.9           3.0            1.4           0.2   \n",
              "2      3            4.7           3.2            1.3           0.2   \n",
              "3      4            4.6           3.1            1.5           0.2   \n",
              "4      5            5.0           3.6            1.4           0.2   \n",
              "..   ...            ...           ...            ...           ...   \n",
              "145  146            6.7           3.0            5.2           2.3   \n",
              "146  147            6.3           2.5            5.0           1.9   \n",
              "147  148            6.5           3.0            5.2           2.0   \n",
              "148  149            6.2           3.4            5.4           2.3   \n",
              "149  150            5.9           3.0            5.1           1.8   \n",
              "\n",
              "            Species  \n",
              "0       Iris-setosa  \n",
              "1       Iris-setosa  \n",
              "2       Iris-setosa  \n",
              "3       Iris-setosa  \n",
              "4       Iris-setosa  \n",
              "..              ...  \n",
              "145  Iris-virginica  \n",
              "146  Iris-virginica  \n",
              "147  Iris-virginica  \n",
              "148  Iris-virginica  \n",
              "149  Iris-virginica  \n",
              "\n",
              "[150 rows x 6 columns]"
            ],
            "text/html": [
              "\n",
              "  <div id=\"df-dd9780a6-5c5e-4608-881d-681efce1a05f\">\n",
              "    <div class=\"colab-df-container\">\n",
              "      <div>\n",
              "<style scoped>\n",
              "    .dataframe tbody tr th:only-of-type {\n",
              "        vertical-align: middle;\n",
              "    }\n",
              "\n",
              "    .dataframe tbody tr th {\n",
              "        vertical-align: top;\n",
              "    }\n",
              "\n",
              "    .dataframe thead th {\n",
              "        text-align: right;\n",
              "    }\n",
              "</style>\n",
              "<table border=\"1\" class=\"dataframe\">\n",
              "  <thead>\n",
              "    <tr style=\"text-align: right;\">\n",
              "      <th></th>\n",
              "      <th>Id</th>\n",
              "      <th>SepalLengthCm</th>\n",
              "      <th>SepalWidthCm</th>\n",
              "      <th>PetalLengthCm</th>\n",
              "      <th>PetalWidthCm</th>\n",
              "      <th>Species</th>\n",
              "    </tr>\n",
              "  </thead>\n",
              "  <tbody>\n",
              "    <tr>\n",
              "      <th>0</th>\n",
              "      <td>1</td>\n",
              "      <td>5.1</td>\n",
              "      <td>3.5</td>\n",
              "      <td>1.4</td>\n",
              "      <td>0.2</td>\n",
              "      <td>Iris-setosa</td>\n",
              "    </tr>\n",
              "    <tr>\n",
              "      <th>1</th>\n",
              "      <td>2</td>\n",
              "      <td>4.9</td>\n",
              "      <td>3.0</td>\n",
              "      <td>1.4</td>\n",
              "      <td>0.2</td>\n",
              "      <td>Iris-setosa</td>\n",
              "    </tr>\n",
              "    <tr>\n",
              "      <th>2</th>\n",
              "      <td>3</td>\n",
              "      <td>4.7</td>\n",
              "      <td>3.2</td>\n",
              "      <td>1.3</td>\n",
              "      <td>0.2</td>\n",
              "      <td>Iris-setosa</td>\n",
              "    </tr>\n",
              "    <tr>\n",
              "      <th>3</th>\n",
              "      <td>4</td>\n",
              "      <td>4.6</td>\n",
              "      <td>3.1</td>\n",
              "      <td>1.5</td>\n",
              "      <td>0.2</td>\n",
              "      <td>Iris-setosa</td>\n",
              "    </tr>\n",
              "    <tr>\n",
              "      <th>4</th>\n",
              "      <td>5</td>\n",
              "      <td>5.0</td>\n",
              "      <td>3.6</td>\n",
              "      <td>1.4</td>\n",
              "      <td>0.2</td>\n",
              "      <td>Iris-setosa</td>\n",
              "    </tr>\n",
              "    <tr>\n",
              "      <th>...</th>\n",
              "      <td>...</td>\n",
              "      <td>...</td>\n",
              "      <td>...</td>\n",
              "      <td>...</td>\n",
              "      <td>...</td>\n",
              "      <td>...</td>\n",
              "    </tr>\n",
              "    <tr>\n",
              "      <th>145</th>\n",
              "      <td>146</td>\n",
              "      <td>6.7</td>\n",
              "      <td>3.0</td>\n",
              "      <td>5.2</td>\n",
              "      <td>2.3</td>\n",
              "      <td>Iris-virginica</td>\n",
              "    </tr>\n",
              "    <tr>\n",
              "      <th>146</th>\n",
              "      <td>147</td>\n",
              "      <td>6.3</td>\n",
              "      <td>2.5</td>\n",
              "      <td>5.0</td>\n",
              "      <td>1.9</td>\n",
              "      <td>Iris-virginica</td>\n",
              "    </tr>\n",
              "    <tr>\n",
              "      <th>147</th>\n",
              "      <td>148</td>\n",
              "      <td>6.5</td>\n",
              "      <td>3.0</td>\n",
              "      <td>5.2</td>\n",
              "      <td>2.0</td>\n",
              "      <td>Iris-virginica</td>\n",
              "    </tr>\n",
              "    <tr>\n",
              "      <th>148</th>\n",
              "      <td>149</td>\n",
              "      <td>6.2</td>\n",
              "      <td>3.4</td>\n",
              "      <td>5.4</td>\n",
              "      <td>2.3</td>\n",
              "      <td>Iris-virginica</td>\n",
              "    </tr>\n",
              "    <tr>\n",
              "      <th>149</th>\n",
              "      <td>150</td>\n",
              "      <td>5.9</td>\n",
              "      <td>3.0</td>\n",
              "      <td>5.1</td>\n",
              "      <td>1.8</td>\n",
              "      <td>Iris-virginica</td>\n",
              "    </tr>\n",
              "  </tbody>\n",
              "</table>\n",
              "<p>150 rows × 6 columns</p>\n",
              "</div>\n",
              "      <button class=\"colab-df-convert\" onclick=\"convertToInteractive('df-dd9780a6-5c5e-4608-881d-681efce1a05f')\"\n",
              "              title=\"Convert this dataframe to an interactive table.\"\n",
              "              style=\"display:none;\">\n",
              "        \n",
              "  <svg xmlns=\"http://www.w3.org/2000/svg\" height=\"24px\"viewBox=\"0 0 24 24\"\n",
              "       width=\"24px\">\n",
              "    <path d=\"M0 0h24v24H0V0z\" fill=\"none\"/>\n",
              "    <path d=\"M18.56 5.44l.94 2.06.94-2.06 2.06-.94-2.06-.94-.94-2.06-.94 2.06-2.06.94zm-11 1L8.5 8.5l.94-2.06 2.06-.94-2.06-.94L8.5 2.5l-.94 2.06-2.06.94zm10 10l.94 2.06.94-2.06 2.06-.94-2.06-.94-.94-2.06-.94 2.06-2.06.94z\"/><path d=\"M17.41 7.96l-1.37-1.37c-.4-.4-.92-.59-1.43-.59-.52 0-1.04.2-1.43.59L10.3 9.45l-7.72 7.72c-.78.78-.78 2.05 0 2.83L4 21.41c.39.39.9.59 1.41.59.51 0 1.02-.2 1.41-.59l7.78-7.78 2.81-2.81c.8-.78.8-2.07 0-2.86zM5.41 20L4 18.59l7.72-7.72 1.47 1.35L5.41 20z\"/>\n",
              "  </svg>\n",
              "      </button>\n",
              "      \n",
              "  <style>\n",
              "    .colab-df-container {\n",
              "      display:flex;\n",
              "      flex-wrap:wrap;\n",
              "      gap: 12px;\n",
              "    }\n",
              "\n",
              "    .colab-df-convert {\n",
              "      background-color: #E8F0FE;\n",
              "      border: none;\n",
              "      border-radius: 50%;\n",
              "      cursor: pointer;\n",
              "      display: none;\n",
              "      fill: #1967D2;\n",
              "      height: 32px;\n",
              "      padding: 0 0 0 0;\n",
              "      width: 32px;\n",
              "    }\n",
              "\n",
              "    .colab-df-convert:hover {\n",
              "      background-color: #E2EBFA;\n",
              "      box-shadow: 0px 1px 2px rgba(60, 64, 67, 0.3), 0px 1px 3px 1px rgba(60, 64, 67, 0.15);\n",
              "      fill: #174EA6;\n",
              "    }\n",
              "\n",
              "    [theme=dark] .colab-df-convert {\n",
              "      background-color: #3B4455;\n",
              "      fill: #D2E3FC;\n",
              "    }\n",
              "\n",
              "    [theme=dark] .colab-df-convert:hover {\n",
              "      background-color: #434B5C;\n",
              "      box-shadow: 0px 1px 3px 1px rgba(0, 0, 0, 0.15);\n",
              "      filter: drop-shadow(0px 1px 2px rgba(0, 0, 0, 0.3));\n",
              "      fill: #FFFFFF;\n",
              "    }\n",
              "  </style>\n",
              "\n",
              "      <script>\n",
              "        const buttonEl =\n",
              "          document.querySelector('#df-dd9780a6-5c5e-4608-881d-681efce1a05f button.colab-df-convert');\n",
              "        buttonEl.style.display =\n",
              "          google.colab.kernel.accessAllowed ? 'block' : 'none';\n",
              "\n",
              "        async function convertToInteractive(key) {\n",
              "          const element = document.querySelector('#df-dd9780a6-5c5e-4608-881d-681efce1a05f');\n",
              "          const dataTable =\n",
              "            await google.colab.kernel.invokeFunction('convertToInteractive',\n",
              "                                                     [key], {});\n",
              "          if (!dataTable) return;\n",
              "\n",
              "          const docLinkHtml = 'Like what you see? Visit the ' +\n",
              "            '<a target=\"_blank\" href=https://colab.research.google.com/notebooks/data_table.ipynb>data table notebook</a>'\n",
              "            + ' to learn more about interactive tables.';\n",
              "          element.innerHTML = '';\n",
              "          dataTable['output_type'] = 'display_data';\n",
              "          await google.colab.output.renderOutput(dataTable, element);\n",
              "          const docLink = document.createElement('div');\n",
              "          docLink.innerHTML = docLinkHtml;\n",
              "          element.appendChild(docLink);\n",
              "        }\n",
              "      </script>\n",
              "    </div>\n",
              "  </div>\n",
              "  "
            ]
          },
          "metadata": {},
          "execution_count": 51
        }
      ]
    },
    {
      "cell_type": "code",
      "execution_count": null,
      "metadata": {
        "colab": {
          "base_uri": "https://localhost:8080/"
        },
        "id": "hKmZAdbGs44U",
        "outputId": "d691b184-4598-43fe-9a6d-12eead06d67a"
      },
      "outputs": [
        {
          "output_type": "execute_result",
          "data": {
            "text/plain": [
              "(150, 6)"
            ]
          },
          "metadata": {},
          "execution_count": 52
        }
      ],
      "source": [
        "df.shape"
      ]
    },
    {
      "cell_type": "code",
      "execution_count": null,
      "metadata": {
        "colab": {
          "base_uri": "https://localhost:8080/"
        },
        "id": "NuVie52Qs8Bd",
        "outputId": "3419a299-02af-429f-b497-6e931599823b"
      },
      "outputs": [
        {
          "output_type": "execute_result",
          "data": {
            "text/plain": [
              "Id               0\n",
              "SepalLengthCm    0\n",
              "SepalWidthCm     0\n",
              "PetalLengthCm    0\n",
              "PetalWidthCm     0\n",
              "Species          0\n",
              "dtype: int64"
            ]
          },
          "metadata": {},
          "execution_count": 53
        }
      ],
      "source": [
        "df.isnull().sum()"
      ]
    },
    {
      "cell_type": "code",
      "execution_count": null,
      "metadata": {
        "id": "9OvvGsJT9mAD"
      },
      "outputs": [],
      "source": [
        "# Extract the column you want to store into a separate dataframe\n",
        "df_species = df[['Species']]\n"
      ]
    },
    {
      "cell_type": "code",
      "execution_count": null,
      "metadata": {
        "colab": {
          "base_uri": "https://localhost:8080/",
          "height": 423
        },
        "id": "yncSRmq2_Zt2",
        "outputId": "647a0734-b71d-495b-bfed-3ef8250f09a2"
      },
      "outputs": [
        {
          "output_type": "execute_result",
          "data": {
            "text/plain": [
              "            Species\n",
              "0       Iris-setosa\n",
              "1       Iris-setosa\n",
              "2       Iris-setosa\n",
              "3       Iris-setosa\n",
              "4       Iris-setosa\n",
              "..              ...\n",
              "145  Iris-virginica\n",
              "146  Iris-virginica\n",
              "147  Iris-virginica\n",
              "148  Iris-virginica\n",
              "149  Iris-virginica\n",
              "\n",
              "[150 rows x 1 columns]"
            ],
            "text/html": [
              "\n",
              "  <div id=\"df-e9e5f13f-2e1b-41ee-9a0d-8868d6a3daa3\">\n",
              "    <div class=\"colab-df-container\">\n",
              "      <div>\n",
              "<style scoped>\n",
              "    .dataframe tbody tr th:only-of-type {\n",
              "        vertical-align: middle;\n",
              "    }\n",
              "\n",
              "    .dataframe tbody tr th {\n",
              "        vertical-align: top;\n",
              "    }\n",
              "\n",
              "    .dataframe thead th {\n",
              "        text-align: right;\n",
              "    }\n",
              "</style>\n",
              "<table border=\"1\" class=\"dataframe\">\n",
              "  <thead>\n",
              "    <tr style=\"text-align: right;\">\n",
              "      <th></th>\n",
              "      <th>Species</th>\n",
              "    </tr>\n",
              "  </thead>\n",
              "  <tbody>\n",
              "    <tr>\n",
              "      <th>0</th>\n",
              "      <td>Iris-setosa</td>\n",
              "    </tr>\n",
              "    <tr>\n",
              "      <th>1</th>\n",
              "      <td>Iris-setosa</td>\n",
              "    </tr>\n",
              "    <tr>\n",
              "      <th>2</th>\n",
              "      <td>Iris-setosa</td>\n",
              "    </tr>\n",
              "    <tr>\n",
              "      <th>3</th>\n",
              "      <td>Iris-setosa</td>\n",
              "    </tr>\n",
              "    <tr>\n",
              "      <th>4</th>\n",
              "      <td>Iris-setosa</td>\n",
              "    </tr>\n",
              "    <tr>\n",
              "      <th>...</th>\n",
              "      <td>...</td>\n",
              "    </tr>\n",
              "    <tr>\n",
              "      <th>145</th>\n",
              "      <td>Iris-virginica</td>\n",
              "    </tr>\n",
              "    <tr>\n",
              "      <th>146</th>\n",
              "      <td>Iris-virginica</td>\n",
              "    </tr>\n",
              "    <tr>\n",
              "      <th>147</th>\n",
              "      <td>Iris-virginica</td>\n",
              "    </tr>\n",
              "    <tr>\n",
              "      <th>148</th>\n",
              "      <td>Iris-virginica</td>\n",
              "    </tr>\n",
              "    <tr>\n",
              "      <th>149</th>\n",
              "      <td>Iris-virginica</td>\n",
              "    </tr>\n",
              "  </tbody>\n",
              "</table>\n",
              "<p>150 rows × 1 columns</p>\n",
              "</div>\n",
              "      <button class=\"colab-df-convert\" onclick=\"convertToInteractive('df-e9e5f13f-2e1b-41ee-9a0d-8868d6a3daa3')\"\n",
              "              title=\"Convert this dataframe to an interactive table.\"\n",
              "              style=\"display:none;\">\n",
              "        \n",
              "  <svg xmlns=\"http://www.w3.org/2000/svg\" height=\"24px\"viewBox=\"0 0 24 24\"\n",
              "       width=\"24px\">\n",
              "    <path d=\"M0 0h24v24H0V0z\" fill=\"none\"/>\n",
              "    <path d=\"M18.56 5.44l.94 2.06.94-2.06 2.06-.94-2.06-.94-.94-2.06-.94 2.06-2.06.94zm-11 1L8.5 8.5l.94-2.06 2.06-.94-2.06-.94L8.5 2.5l-.94 2.06-2.06.94zm10 10l.94 2.06.94-2.06 2.06-.94-2.06-.94-.94-2.06-.94 2.06-2.06.94z\"/><path d=\"M17.41 7.96l-1.37-1.37c-.4-.4-.92-.59-1.43-.59-.52 0-1.04.2-1.43.59L10.3 9.45l-7.72 7.72c-.78.78-.78 2.05 0 2.83L4 21.41c.39.39.9.59 1.41.59.51 0 1.02-.2 1.41-.59l7.78-7.78 2.81-2.81c.8-.78.8-2.07 0-2.86zM5.41 20L4 18.59l7.72-7.72 1.47 1.35L5.41 20z\"/>\n",
              "  </svg>\n",
              "      </button>\n",
              "      \n",
              "  <style>\n",
              "    .colab-df-container {\n",
              "      display:flex;\n",
              "      flex-wrap:wrap;\n",
              "      gap: 12px;\n",
              "    }\n",
              "\n",
              "    .colab-df-convert {\n",
              "      background-color: #E8F0FE;\n",
              "      border: none;\n",
              "      border-radius: 50%;\n",
              "      cursor: pointer;\n",
              "      display: none;\n",
              "      fill: #1967D2;\n",
              "      height: 32px;\n",
              "      padding: 0 0 0 0;\n",
              "      width: 32px;\n",
              "    }\n",
              "\n",
              "    .colab-df-convert:hover {\n",
              "      background-color: #E2EBFA;\n",
              "      box-shadow: 0px 1px 2px rgba(60, 64, 67, 0.3), 0px 1px 3px 1px rgba(60, 64, 67, 0.15);\n",
              "      fill: #174EA6;\n",
              "    }\n",
              "\n",
              "    [theme=dark] .colab-df-convert {\n",
              "      background-color: #3B4455;\n",
              "      fill: #D2E3FC;\n",
              "    }\n",
              "\n",
              "    [theme=dark] .colab-df-convert:hover {\n",
              "      background-color: #434B5C;\n",
              "      box-shadow: 0px 1px 3px 1px rgba(0, 0, 0, 0.15);\n",
              "      filter: drop-shadow(0px 1px 2px rgba(0, 0, 0, 0.3));\n",
              "      fill: #FFFFFF;\n",
              "    }\n",
              "  </style>\n",
              "\n",
              "      <script>\n",
              "        const buttonEl =\n",
              "          document.querySelector('#df-e9e5f13f-2e1b-41ee-9a0d-8868d6a3daa3 button.colab-df-convert');\n",
              "        buttonEl.style.display =\n",
              "          google.colab.kernel.accessAllowed ? 'block' : 'none';\n",
              "\n",
              "        async function convertToInteractive(key) {\n",
              "          const element = document.querySelector('#df-e9e5f13f-2e1b-41ee-9a0d-8868d6a3daa3');\n",
              "          const dataTable =\n",
              "            await google.colab.kernel.invokeFunction('convertToInteractive',\n",
              "                                                     [key], {});\n",
              "          if (!dataTable) return;\n",
              "\n",
              "          const docLinkHtml = 'Like what you see? Visit the ' +\n",
              "            '<a target=\"_blank\" href=https://colab.research.google.com/notebooks/data_table.ipynb>data table notebook</a>'\n",
              "            + ' to learn more about interactive tables.';\n",
              "          element.innerHTML = '';\n",
              "          dataTable['output_type'] = 'display_data';\n",
              "          await google.colab.output.renderOutput(dataTable, element);\n",
              "          const docLink = document.createElement('div');\n",
              "          docLink.innerHTML = docLinkHtml;\n",
              "          element.appendChild(docLink);\n",
              "        }\n",
              "      </script>\n",
              "    </div>\n",
              "  </div>\n",
              "  "
            ]
          },
          "metadata": {},
          "execution_count": 55
        }
      ],
      "source": [
        "df_species"
      ]
    },
    {
      "cell_type": "code",
      "execution_count": null,
      "metadata": {
        "id": "gSUT5iSrypl2"
      },
      "outputs": [],
      "source": [
        "df = pd.get_dummies(df, columns=['Species'])"
      ]
    },
    {
      "cell_type": "code",
      "execution_count": null,
      "metadata": {
        "colab": {
          "base_uri": "https://localhost:8080/",
          "height": 423
        },
        "id": "wV2YwShByvWs",
        "outputId": "784b67cc-24d3-4526-97eb-f61b71bff670"
      },
      "outputs": [
        {
          "output_type": "execute_result",
          "data": {
            "text/plain": [
              "      Id  SepalLengthCm  SepalWidthCm  PetalLengthCm  PetalWidthCm  \\\n",
              "0      1            5.1           3.5            1.4           0.2   \n",
              "1      2            4.9           3.0            1.4           0.2   \n",
              "2      3            4.7           3.2            1.3           0.2   \n",
              "3      4            4.6           3.1            1.5           0.2   \n",
              "4      5            5.0           3.6            1.4           0.2   \n",
              "..   ...            ...           ...            ...           ...   \n",
              "145  146            6.7           3.0            5.2           2.3   \n",
              "146  147            6.3           2.5            5.0           1.9   \n",
              "147  148            6.5           3.0            5.2           2.0   \n",
              "148  149            6.2           3.4            5.4           2.3   \n",
              "149  150            5.9           3.0            5.1           1.8   \n",
              "\n",
              "     Species_Iris-setosa  Species_Iris-versicolor  Species_Iris-virginica  \n",
              "0                      1                        0                       0  \n",
              "1                      1                        0                       0  \n",
              "2                      1                        0                       0  \n",
              "3                      1                        0                       0  \n",
              "4                      1                        0                       0  \n",
              "..                   ...                      ...                     ...  \n",
              "145                    0                        0                       1  \n",
              "146                    0                        0                       1  \n",
              "147                    0                        0                       1  \n",
              "148                    0                        0                       1  \n",
              "149                    0                        0                       1  \n",
              "\n",
              "[150 rows x 8 columns]"
            ],
            "text/html": [
              "\n",
              "  <div id=\"df-7cd68b46-ccac-4a61-87b9-a82a9318327a\">\n",
              "    <div class=\"colab-df-container\">\n",
              "      <div>\n",
              "<style scoped>\n",
              "    .dataframe tbody tr th:only-of-type {\n",
              "        vertical-align: middle;\n",
              "    }\n",
              "\n",
              "    .dataframe tbody tr th {\n",
              "        vertical-align: top;\n",
              "    }\n",
              "\n",
              "    .dataframe thead th {\n",
              "        text-align: right;\n",
              "    }\n",
              "</style>\n",
              "<table border=\"1\" class=\"dataframe\">\n",
              "  <thead>\n",
              "    <tr style=\"text-align: right;\">\n",
              "      <th></th>\n",
              "      <th>Id</th>\n",
              "      <th>SepalLengthCm</th>\n",
              "      <th>SepalWidthCm</th>\n",
              "      <th>PetalLengthCm</th>\n",
              "      <th>PetalWidthCm</th>\n",
              "      <th>Species_Iris-setosa</th>\n",
              "      <th>Species_Iris-versicolor</th>\n",
              "      <th>Species_Iris-virginica</th>\n",
              "    </tr>\n",
              "  </thead>\n",
              "  <tbody>\n",
              "    <tr>\n",
              "      <th>0</th>\n",
              "      <td>1</td>\n",
              "      <td>5.1</td>\n",
              "      <td>3.5</td>\n",
              "      <td>1.4</td>\n",
              "      <td>0.2</td>\n",
              "      <td>1</td>\n",
              "      <td>0</td>\n",
              "      <td>0</td>\n",
              "    </tr>\n",
              "    <tr>\n",
              "      <th>1</th>\n",
              "      <td>2</td>\n",
              "      <td>4.9</td>\n",
              "      <td>3.0</td>\n",
              "      <td>1.4</td>\n",
              "      <td>0.2</td>\n",
              "      <td>1</td>\n",
              "      <td>0</td>\n",
              "      <td>0</td>\n",
              "    </tr>\n",
              "    <tr>\n",
              "      <th>2</th>\n",
              "      <td>3</td>\n",
              "      <td>4.7</td>\n",
              "      <td>3.2</td>\n",
              "      <td>1.3</td>\n",
              "      <td>0.2</td>\n",
              "      <td>1</td>\n",
              "      <td>0</td>\n",
              "      <td>0</td>\n",
              "    </tr>\n",
              "    <tr>\n",
              "      <th>3</th>\n",
              "      <td>4</td>\n",
              "      <td>4.6</td>\n",
              "      <td>3.1</td>\n",
              "      <td>1.5</td>\n",
              "      <td>0.2</td>\n",
              "      <td>1</td>\n",
              "      <td>0</td>\n",
              "      <td>0</td>\n",
              "    </tr>\n",
              "    <tr>\n",
              "      <th>4</th>\n",
              "      <td>5</td>\n",
              "      <td>5.0</td>\n",
              "      <td>3.6</td>\n",
              "      <td>1.4</td>\n",
              "      <td>0.2</td>\n",
              "      <td>1</td>\n",
              "      <td>0</td>\n",
              "      <td>0</td>\n",
              "    </tr>\n",
              "    <tr>\n",
              "      <th>...</th>\n",
              "      <td>...</td>\n",
              "      <td>...</td>\n",
              "      <td>...</td>\n",
              "      <td>...</td>\n",
              "      <td>...</td>\n",
              "      <td>...</td>\n",
              "      <td>...</td>\n",
              "      <td>...</td>\n",
              "    </tr>\n",
              "    <tr>\n",
              "      <th>145</th>\n",
              "      <td>146</td>\n",
              "      <td>6.7</td>\n",
              "      <td>3.0</td>\n",
              "      <td>5.2</td>\n",
              "      <td>2.3</td>\n",
              "      <td>0</td>\n",
              "      <td>0</td>\n",
              "      <td>1</td>\n",
              "    </tr>\n",
              "    <tr>\n",
              "      <th>146</th>\n",
              "      <td>147</td>\n",
              "      <td>6.3</td>\n",
              "      <td>2.5</td>\n",
              "      <td>5.0</td>\n",
              "      <td>1.9</td>\n",
              "      <td>0</td>\n",
              "      <td>0</td>\n",
              "      <td>1</td>\n",
              "    </tr>\n",
              "    <tr>\n",
              "      <th>147</th>\n",
              "      <td>148</td>\n",
              "      <td>6.5</td>\n",
              "      <td>3.0</td>\n",
              "      <td>5.2</td>\n",
              "      <td>2.0</td>\n",
              "      <td>0</td>\n",
              "      <td>0</td>\n",
              "      <td>1</td>\n",
              "    </tr>\n",
              "    <tr>\n",
              "      <th>148</th>\n",
              "      <td>149</td>\n",
              "      <td>6.2</td>\n",
              "      <td>3.4</td>\n",
              "      <td>5.4</td>\n",
              "      <td>2.3</td>\n",
              "      <td>0</td>\n",
              "      <td>0</td>\n",
              "      <td>1</td>\n",
              "    </tr>\n",
              "    <tr>\n",
              "      <th>149</th>\n",
              "      <td>150</td>\n",
              "      <td>5.9</td>\n",
              "      <td>3.0</td>\n",
              "      <td>5.1</td>\n",
              "      <td>1.8</td>\n",
              "      <td>0</td>\n",
              "      <td>0</td>\n",
              "      <td>1</td>\n",
              "    </tr>\n",
              "  </tbody>\n",
              "</table>\n",
              "<p>150 rows × 8 columns</p>\n",
              "</div>\n",
              "      <button class=\"colab-df-convert\" onclick=\"convertToInteractive('df-7cd68b46-ccac-4a61-87b9-a82a9318327a')\"\n",
              "              title=\"Convert this dataframe to an interactive table.\"\n",
              "              style=\"display:none;\">\n",
              "        \n",
              "  <svg xmlns=\"http://www.w3.org/2000/svg\" height=\"24px\"viewBox=\"0 0 24 24\"\n",
              "       width=\"24px\">\n",
              "    <path d=\"M0 0h24v24H0V0z\" fill=\"none\"/>\n",
              "    <path d=\"M18.56 5.44l.94 2.06.94-2.06 2.06-.94-2.06-.94-.94-2.06-.94 2.06-2.06.94zm-11 1L8.5 8.5l.94-2.06 2.06-.94-2.06-.94L8.5 2.5l-.94 2.06-2.06.94zm10 10l.94 2.06.94-2.06 2.06-.94-2.06-.94-.94-2.06-.94 2.06-2.06.94z\"/><path d=\"M17.41 7.96l-1.37-1.37c-.4-.4-.92-.59-1.43-.59-.52 0-1.04.2-1.43.59L10.3 9.45l-7.72 7.72c-.78.78-.78 2.05 0 2.83L4 21.41c.39.39.9.59 1.41.59.51 0 1.02-.2 1.41-.59l7.78-7.78 2.81-2.81c.8-.78.8-2.07 0-2.86zM5.41 20L4 18.59l7.72-7.72 1.47 1.35L5.41 20z\"/>\n",
              "  </svg>\n",
              "      </button>\n",
              "      \n",
              "  <style>\n",
              "    .colab-df-container {\n",
              "      display:flex;\n",
              "      flex-wrap:wrap;\n",
              "      gap: 12px;\n",
              "    }\n",
              "\n",
              "    .colab-df-convert {\n",
              "      background-color: #E8F0FE;\n",
              "      border: none;\n",
              "      border-radius: 50%;\n",
              "      cursor: pointer;\n",
              "      display: none;\n",
              "      fill: #1967D2;\n",
              "      height: 32px;\n",
              "      padding: 0 0 0 0;\n",
              "      width: 32px;\n",
              "    }\n",
              "\n",
              "    .colab-df-convert:hover {\n",
              "      background-color: #E2EBFA;\n",
              "      box-shadow: 0px 1px 2px rgba(60, 64, 67, 0.3), 0px 1px 3px 1px rgba(60, 64, 67, 0.15);\n",
              "      fill: #174EA6;\n",
              "    }\n",
              "\n",
              "    [theme=dark] .colab-df-convert {\n",
              "      background-color: #3B4455;\n",
              "      fill: #D2E3FC;\n",
              "    }\n",
              "\n",
              "    [theme=dark] .colab-df-convert:hover {\n",
              "      background-color: #434B5C;\n",
              "      box-shadow: 0px 1px 3px 1px rgba(0, 0, 0, 0.15);\n",
              "      filter: drop-shadow(0px 1px 2px rgba(0, 0, 0, 0.3));\n",
              "      fill: #FFFFFF;\n",
              "    }\n",
              "  </style>\n",
              "\n",
              "      <script>\n",
              "        const buttonEl =\n",
              "          document.querySelector('#df-7cd68b46-ccac-4a61-87b9-a82a9318327a button.colab-df-convert');\n",
              "        buttonEl.style.display =\n",
              "          google.colab.kernel.accessAllowed ? 'block' : 'none';\n",
              "\n",
              "        async function convertToInteractive(key) {\n",
              "          const element = document.querySelector('#df-7cd68b46-ccac-4a61-87b9-a82a9318327a');\n",
              "          const dataTable =\n",
              "            await google.colab.kernel.invokeFunction('convertToInteractive',\n",
              "                                                     [key], {});\n",
              "          if (!dataTable) return;\n",
              "\n",
              "          const docLinkHtml = 'Like what you see? Visit the ' +\n",
              "            '<a target=\"_blank\" href=https://colab.research.google.com/notebooks/data_table.ipynb>data table notebook</a>'\n",
              "            + ' to learn more about interactive tables.';\n",
              "          element.innerHTML = '';\n",
              "          dataTable['output_type'] = 'display_data';\n",
              "          await google.colab.output.renderOutput(dataTable, element);\n",
              "          const docLink = document.createElement('div');\n",
              "          docLink.innerHTML = docLinkHtml;\n",
              "          element.appendChild(docLink);\n",
              "        }\n",
              "      </script>\n",
              "    </div>\n",
              "  </div>\n",
              "  "
            ]
          },
          "metadata": {},
          "execution_count": 57
        }
      ],
      "source": [
        "df"
      ]
    },
    {
      "cell_type": "code",
      "execution_count": null,
      "metadata": {
        "colab": {
          "base_uri": "https://localhost:8080/",
          "height": 423
        },
        "id": "AKGopGWhxEUV",
        "outputId": "206df5c8-f56e-42db-8ebf-2408bcee109e"
      },
      "outputs": [
        {
          "output_type": "execute_result",
          "data": {
            "text/plain": [
              "     SepalLengthCm  SepalWidthCm  PetalLengthCm  PetalWidthCm  \\\n",
              "0              5.1           3.5            1.4           0.2   \n",
              "1              4.9           3.0            1.4           0.2   \n",
              "2              4.7           3.2            1.3           0.2   \n",
              "3              4.6           3.1            1.5           0.2   \n",
              "4              5.0           3.6            1.4           0.2   \n",
              "..             ...           ...            ...           ...   \n",
              "145            6.7           3.0            5.2           2.3   \n",
              "146            6.3           2.5            5.0           1.9   \n",
              "147            6.5           3.0            5.2           2.0   \n",
              "148            6.2           3.4            5.4           2.3   \n",
              "149            5.9           3.0            5.1           1.8   \n",
              "\n",
              "     Species_Iris-setosa  Species_Iris-versicolor  \n",
              "0                      1                        0  \n",
              "1                      1                        0  \n",
              "2                      1                        0  \n",
              "3                      1                        0  \n",
              "4                      1                        0  \n",
              "..                   ...                      ...  \n",
              "145                    0                        0  \n",
              "146                    0                        0  \n",
              "147                    0                        0  \n",
              "148                    0                        0  \n",
              "149                    0                        0  \n",
              "\n",
              "[150 rows x 6 columns]"
            ],
            "text/html": [
              "\n",
              "  <div id=\"df-faac45ad-20b5-4e1e-9eac-7b51ed51d042\">\n",
              "    <div class=\"colab-df-container\">\n",
              "      <div>\n",
              "<style scoped>\n",
              "    .dataframe tbody tr th:only-of-type {\n",
              "        vertical-align: middle;\n",
              "    }\n",
              "\n",
              "    .dataframe tbody tr th {\n",
              "        vertical-align: top;\n",
              "    }\n",
              "\n",
              "    .dataframe thead th {\n",
              "        text-align: right;\n",
              "    }\n",
              "</style>\n",
              "<table border=\"1\" class=\"dataframe\">\n",
              "  <thead>\n",
              "    <tr style=\"text-align: right;\">\n",
              "      <th></th>\n",
              "      <th>SepalLengthCm</th>\n",
              "      <th>SepalWidthCm</th>\n",
              "      <th>PetalLengthCm</th>\n",
              "      <th>PetalWidthCm</th>\n",
              "      <th>Species_Iris-setosa</th>\n",
              "      <th>Species_Iris-versicolor</th>\n",
              "    </tr>\n",
              "  </thead>\n",
              "  <tbody>\n",
              "    <tr>\n",
              "      <th>0</th>\n",
              "      <td>5.1</td>\n",
              "      <td>3.5</td>\n",
              "      <td>1.4</td>\n",
              "      <td>0.2</td>\n",
              "      <td>1</td>\n",
              "      <td>0</td>\n",
              "    </tr>\n",
              "    <tr>\n",
              "      <th>1</th>\n",
              "      <td>4.9</td>\n",
              "      <td>3.0</td>\n",
              "      <td>1.4</td>\n",
              "      <td>0.2</td>\n",
              "      <td>1</td>\n",
              "      <td>0</td>\n",
              "    </tr>\n",
              "    <tr>\n",
              "      <th>2</th>\n",
              "      <td>4.7</td>\n",
              "      <td>3.2</td>\n",
              "      <td>1.3</td>\n",
              "      <td>0.2</td>\n",
              "      <td>1</td>\n",
              "      <td>0</td>\n",
              "    </tr>\n",
              "    <tr>\n",
              "      <th>3</th>\n",
              "      <td>4.6</td>\n",
              "      <td>3.1</td>\n",
              "      <td>1.5</td>\n",
              "      <td>0.2</td>\n",
              "      <td>1</td>\n",
              "      <td>0</td>\n",
              "    </tr>\n",
              "    <tr>\n",
              "      <th>4</th>\n",
              "      <td>5.0</td>\n",
              "      <td>3.6</td>\n",
              "      <td>1.4</td>\n",
              "      <td>0.2</td>\n",
              "      <td>1</td>\n",
              "      <td>0</td>\n",
              "    </tr>\n",
              "    <tr>\n",
              "      <th>...</th>\n",
              "      <td>...</td>\n",
              "      <td>...</td>\n",
              "      <td>...</td>\n",
              "      <td>...</td>\n",
              "      <td>...</td>\n",
              "      <td>...</td>\n",
              "    </tr>\n",
              "    <tr>\n",
              "      <th>145</th>\n",
              "      <td>6.7</td>\n",
              "      <td>3.0</td>\n",
              "      <td>5.2</td>\n",
              "      <td>2.3</td>\n",
              "      <td>0</td>\n",
              "      <td>0</td>\n",
              "    </tr>\n",
              "    <tr>\n",
              "      <th>146</th>\n",
              "      <td>6.3</td>\n",
              "      <td>2.5</td>\n",
              "      <td>5.0</td>\n",
              "      <td>1.9</td>\n",
              "      <td>0</td>\n",
              "      <td>0</td>\n",
              "    </tr>\n",
              "    <tr>\n",
              "      <th>147</th>\n",
              "      <td>6.5</td>\n",
              "      <td>3.0</td>\n",
              "      <td>5.2</td>\n",
              "      <td>2.0</td>\n",
              "      <td>0</td>\n",
              "      <td>0</td>\n",
              "    </tr>\n",
              "    <tr>\n",
              "      <th>148</th>\n",
              "      <td>6.2</td>\n",
              "      <td>3.4</td>\n",
              "      <td>5.4</td>\n",
              "      <td>2.3</td>\n",
              "      <td>0</td>\n",
              "      <td>0</td>\n",
              "    </tr>\n",
              "    <tr>\n",
              "      <th>149</th>\n",
              "      <td>5.9</td>\n",
              "      <td>3.0</td>\n",
              "      <td>5.1</td>\n",
              "      <td>1.8</td>\n",
              "      <td>0</td>\n",
              "      <td>0</td>\n",
              "    </tr>\n",
              "  </tbody>\n",
              "</table>\n",
              "<p>150 rows × 6 columns</p>\n",
              "</div>\n",
              "      <button class=\"colab-df-convert\" onclick=\"convertToInteractive('df-faac45ad-20b5-4e1e-9eac-7b51ed51d042')\"\n",
              "              title=\"Convert this dataframe to an interactive table.\"\n",
              "              style=\"display:none;\">\n",
              "        \n",
              "  <svg xmlns=\"http://www.w3.org/2000/svg\" height=\"24px\"viewBox=\"0 0 24 24\"\n",
              "       width=\"24px\">\n",
              "    <path d=\"M0 0h24v24H0V0z\" fill=\"none\"/>\n",
              "    <path d=\"M18.56 5.44l.94 2.06.94-2.06 2.06-.94-2.06-.94-.94-2.06-.94 2.06-2.06.94zm-11 1L8.5 8.5l.94-2.06 2.06-.94-2.06-.94L8.5 2.5l-.94 2.06-2.06.94zm10 10l.94 2.06.94-2.06 2.06-.94-2.06-.94-.94-2.06-.94 2.06-2.06.94z\"/><path d=\"M17.41 7.96l-1.37-1.37c-.4-.4-.92-.59-1.43-.59-.52 0-1.04.2-1.43.59L10.3 9.45l-7.72 7.72c-.78.78-.78 2.05 0 2.83L4 21.41c.39.39.9.59 1.41.59.51 0 1.02-.2 1.41-.59l7.78-7.78 2.81-2.81c.8-.78.8-2.07 0-2.86zM5.41 20L4 18.59l7.72-7.72 1.47 1.35L5.41 20z\"/>\n",
              "  </svg>\n",
              "      </button>\n",
              "      \n",
              "  <style>\n",
              "    .colab-df-container {\n",
              "      display:flex;\n",
              "      flex-wrap:wrap;\n",
              "      gap: 12px;\n",
              "    }\n",
              "\n",
              "    .colab-df-convert {\n",
              "      background-color: #E8F0FE;\n",
              "      border: none;\n",
              "      border-radius: 50%;\n",
              "      cursor: pointer;\n",
              "      display: none;\n",
              "      fill: #1967D2;\n",
              "      height: 32px;\n",
              "      padding: 0 0 0 0;\n",
              "      width: 32px;\n",
              "    }\n",
              "\n",
              "    .colab-df-convert:hover {\n",
              "      background-color: #E2EBFA;\n",
              "      box-shadow: 0px 1px 2px rgba(60, 64, 67, 0.3), 0px 1px 3px 1px rgba(60, 64, 67, 0.15);\n",
              "      fill: #174EA6;\n",
              "    }\n",
              "\n",
              "    [theme=dark] .colab-df-convert {\n",
              "      background-color: #3B4455;\n",
              "      fill: #D2E3FC;\n",
              "    }\n",
              "\n",
              "    [theme=dark] .colab-df-convert:hover {\n",
              "      background-color: #434B5C;\n",
              "      box-shadow: 0px 1px 3px 1px rgba(0, 0, 0, 0.15);\n",
              "      filter: drop-shadow(0px 1px 2px rgba(0, 0, 0, 0.3));\n",
              "      fill: #FFFFFF;\n",
              "    }\n",
              "  </style>\n",
              "\n",
              "      <script>\n",
              "        const buttonEl =\n",
              "          document.querySelector('#df-faac45ad-20b5-4e1e-9eac-7b51ed51d042 button.colab-df-convert');\n",
              "        buttonEl.style.display =\n",
              "          google.colab.kernel.accessAllowed ? 'block' : 'none';\n",
              "\n",
              "        async function convertToInteractive(key) {\n",
              "          const element = document.querySelector('#df-faac45ad-20b5-4e1e-9eac-7b51ed51d042');\n",
              "          const dataTable =\n",
              "            await google.colab.kernel.invokeFunction('convertToInteractive',\n",
              "                                                     [key], {});\n",
              "          if (!dataTable) return;\n",
              "\n",
              "          const docLinkHtml = 'Like what you see? Visit the ' +\n",
              "            '<a target=\"_blank\" href=https://colab.research.google.com/notebooks/data_table.ipynb>data table notebook</a>'\n",
              "            + ' to learn more about interactive tables.';\n",
              "          element.innerHTML = '';\n",
              "          dataTable['output_type'] = 'display_data';\n",
              "          await google.colab.output.renderOutput(dataTable, element);\n",
              "          const docLink = document.createElement('div');\n",
              "          docLink.innerHTML = docLinkHtml;\n",
              "          element.appendChild(docLink);\n",
              "        }\n",
              "      </script>\n",
              "    </div>\n",
              "  </div>\n",
              "  "
            ]
          },
          "metadata": {},
          "execution_count": 58
        }
      ],
      "source": [
        "x = df.drop(['Id','Species_Iris-virginica'],axis=1)\n",
        "x"
      ]
    },
    {
      "cell_type": "code",
      "source": [
        "x.describe()"
      ],
      "metadata": {
        "id": "tTn0etqiOyS8"
      },
      "execution_count": null,
      "outputs": []
    },
    {
      "cell_type": "code",
      "source": [
        "df_new = pd.concat([x,df_species], axis=1)"
      ],
      "metadata": {
        "id": "nKyV7YHhedIz"
      },
      "execution_count": null,
      "outputs": []
    },
    {
      "cell_type": "code",
      "source": [
        "df_new"
      ],
      "metadata": {
        "colab": {
          "base_uri": "https://localhost:8080/",
          "height": 423
        },
        "id": "oKMbTCGoeimY",
        "outputId": "0ee2f068-3f67-4fc8-aba3-baba89ae9ea8"
      },
      "execution_count": null,
      "outputs": [
        {
          "output_type": "execute_result",
          "data": {
            "text/plain": [
              "     SepalLengthCm  SepalWidthCm  PetalLengthCm  PetalWidthCm  \\\n",
              "0              5.1           3.5            1.4           0.2   \n",
              "1              4.9           3.0            1.4           0.2   \n",
              "2              4.7           3.2            1.3           0.2   \n",
              "3              4.6           3.1            1.5           0.2   \n",
              "4              5.0           3.6            1.4           0.2   \n",
              "..             ...           ...            ...           ...   \n",
              "145            6.7           3.0            5.2           2.3   \n",
              "146            6.3           2.5            5.0           1.9   \n",
              "147            6.5           3.0            5.2           2.0   \n",
              "148            6.2           3.4            5.4           2.3   \n",
              "149            5.9           3.0            5.1           1.8   \n",
              "\n",
              "     Species_Iris-setosa  Species_Iris-versicolor         Species  \n",
              "0                      1                        0     Iris-setosa  \n",
              "1                      1                        0     Iris-setosa  \n",
              "2                      1                        0     Iris-setosa  \n",
              "3                      1                        0     Iris-setosa  \n",
              "4                      1                        0     Iris-setosa  \n",
              "..                   ...                      ...             ...  \n",
              "145                    0                        0  Iris-virginica  \n",
              "146                    0                        0  Iris-virginica  \n",
              "147                    0                        0  Iris-virginica  \n",
              "148                    0                        0  Iris-virginica  \n",
              "149                    0                        0  Iris-virginica  \n",
              "\n",
              "[150 rows x 7 columns]"
            ],
            "text/html": [
              "\n",
              "  <div id=\"df-aa1144c8-75ee-4efe-8b23-5f2cdeacfc2f\">\n",
              "    <div class=\"colab-df-container\">\n",
              "      <div>\n",
              "<style scoped>\n",
              "    .dataframe tbody tr th:only-of-type {\n",
              "        vertical-align: middle;\n",
              "    }\n",
              "\n",
              "    .dataframe tbody tr th {\n",
              "        vertical-align: top;\n",
              "    }\n",
              "\n",
              "    .dataframe thead th {\n",
              "        text-align: right;\n",
              "    }\n",
              "</style>\n",
              "<table border=\"1\" class=\"dataframe\">\n",
              "  <thead>\n",
              "    <tr style=\"text-align: right;\">\n",
              "      <th></th>\n",
              "      <th>SepalLengthCm</th>\n",
              "      <th>SepalWidthCm</th>\n",
              "      <th>PetalLengthCm</th>\n",
              "      <th>PetalWidthCm</th>\n",
              "      <th>Species_Iris-setosa</th>\n",
              "      <th>Species_Iris-versicolor</th>\n",
              "      <th>Species</th>\n",
              "    </tr>\n",
              "  </thead>\n",
              "  <tbody>\n",
              "    <tr>\n",
              "      <th>0</th>\n",
              "      <td>5.1</td>\n",
              "      <td>3.5</td>\n",
              "      <td>1.4</td>\n",
              "      <td>0.2</td>\n",
              "      <td>1</td>\n",
              "      <td>0</td>\n",
              "      <td>Iris-setosa</td>\n",
              "    </tr>\n",
              "    <tr>\n",
              "      <th>1</th>\n",
              "      <td>4.9</td>\n",
              "      <td>3.0</td>\n",
              "      <td>1.4</td>\n",
              "      <td>0.2</td>\n",
              "      <td>1</td>\n",
              "      <td>0</td>\n",
              "      <td>Iris-setosa</td>\n",
              "    </tr>\n",
              "    <tr>\n",
              "      <th>2</th>\n",
              "      <td>4.7</td>\n",
              "      <td>3.2</td>\n",
              "      <td>1.3</td>\n",
              "      <td>0.2</td>\n",
              "      <td>1</td>\n",
              "      <td>0</td>\n",
              "      <td>Iris-setosa</td>\n",
              "    </tr>\n",
              "    <tr>\n",
              "      <th>3</th>\n",
              "      <td>4.6</td>\n",
              "      <td>3.1</td>\n",
              "      <td>1.5</td>\n",
              "      <td>0.2</td>\n",
              "      <td>1</td>\n",
              "      <td>0</td>\n",
              "      <td>Iris-setosa</td>\n",
              "    </tr>\n",
              "    <tr>\n",
              "      <th>4</th>\n",
              "      <td>5.0</td>\n",
              "      <td>3.6</td>\n",
              "      <td>1.4</td>\n",
              "      <td>0.2</td>\n",
              "      <td>1</td>\n",
              "      <td>0</td>\n",
              "      <td>Iris-setosa</td>\n",
              "    </tr>\n",
              "    <tr>\n",
              "      <th>...</th>\n",
              "      <td>...</td>\n",
              "      <td>...</td>\n",
              "      <td>...</td>\n",
              "      <td>...</td>\n",
              "      <td>...</td>\n",
              "      <td>...</td>\n",
              "      <td>...</td>\n",
              "    </tr>\n",
              "    <tr>\n",
              "      <th>145</th>\n",
              "      <td>6.7</td>\n",
              "      <td>3.0</td>\n",
              "      <td>5.2</td>\n",
              "      <td>2.3</td>\n",
              "      <td>0</td>\n",
              "      <td>0</td>\n",
              "      <td>Iris-virginica</td>\n",
              "    </tr>\n",
              "    <tr>\n",
              "      <th>146</th>\n",
              "      <td>6.3</td>\n",
              "      <td>2.5</td>\n",
              "      <td>5.0</td>\n",
              "      <td>1.9</td>\n",
              "      <td>0</td>\n",
              "      <td>0</td>\n",
              "      <td>Iris-virginica</td>\n",
              "    </tr>\n",
              "    <tr>\n",
              "      <th>147</th>\n",
              "      <td>6.5</td>\n",
              "      <td>3.0</td>\n",
              "      <td>5.2</td>\n",
              "      <td>2.0</td>\n",
              "      <td>0</td>\n",
              "      <td>0</td>\n",
              "      <td>Iris-virginica</td>\n",
              "    </tr>\n",
              "    <tr>\n",
              "      <th>148</th>\n",
              "      <td>6.2</td>\n",
              "      <td>3.4</td>\n",
              "      <td>5.4</td>\n",
              "      <td>2.3</td>\n",
              "      <td>0</td>\n",
              "      <td>0</td>\n",
              "      <td>Iris-virginica</td>\n",
              "    </tr>\n",
              "    <tr>\n",
              "      <th>149</th>\n",
              "      <td>5.9</td>\n",
              "      <td>3.0</td>\n",
              "      <td>5.1</td>\n",
              "      <td>1.8</td>\n",
              "      <td>0</td>\n",
              "      <td>0</td>\n",
              "      <td>Iris-virginica</td>\n",
              "    </tr>\n",
              "  </tbody>\n",
              "</table>\n",
              "<p>150 rows × 7 columns</p>\n",
              "</div>\n",
              "      <button class=\"colab-df-convert\" onclick=\"convertToInteractive('df-aa1144c8-75ee-4efe-8b23-5f2cdeacfc2f')\"\n",
              "              title=\"Convert this dataframe to an interactive table.\"\n",
              "              style=\"display:none;\">\n",
              "        \n",
              "  <svg xmlns=\"http://www.w3.org/2000/svg\" height=\"24px\"viewBox=\"0 0 24 24\"\n",
              "       width=\"24px\">\n",
              "    <path d=\"M0 0h24v24H0V0z\" fill=\"none\"/>\n",
              "    <path d=\"M18.56 5.44l.94 2.06.94-2.06 2.06-.94-2.06-.94-.94-2.06-.94 2.06-2.06.94zm-11 1L8.5 8.5l.94-2.06 2.06-.94-2.06-.94L8.5 2.5l-.94 2.06-2.06.94zm10 10l.94 2.06.94-2.06 2.06-.94-2.06-.94-.94-2.06-.94 2.06-2.06.94z\"/><path d=\"M17.41 7.96l-1.37-1.37c-.4-.4-.92-.59-1.43-.59-.52 0-1.04.2-1.43.59L10.3 9.45l-7.72 7.72c-.78.78-.78 2.05 0 2.83L4 21.41c.39.39.9.59 1.41.59.51 0 1.02-.2 1.41-.59l7.78-7.78 2.81-2.81c.8-.78.8-2.07 0-2.86zM5.41 20L4 18.59l7.72-7.72 1.47 1.35L5.41 20z\"/>\n",
              "  </svg>\n",
              "      </button>\n",
              "      \n",
              "  <style>\n",
              "    .colab-df-container {\n",
              "      display:flex;\n",
              "      flex-wrap:wrap;\n",
              "      gap: 12px;\n",
              "    }\n",
              "\n",
              "    .colab-df-convert {\n",
              "      background-color: #E8F0FE;\n",
              "      border: none;\n",
              "      border-radius: 50%;\n",
              "      cursor: pointer;\n",
              "      display: none;\n",
              "      fill: #1967D2;\n",
              "      height: 32px;\n",
              "      padding: 0 0 0 0;\n",
              "      width: 32px;\n",
              "    }\n",
              "\n",
              "    .colab-df-convert:hover {\n",
              "      background-color: #E2EBFA;\n",
              "      box-shadow: 0px 1px 2px rgba(60, 64, 67, 0.3), 0px 1px 3px 1px rgba(60, 64, 67, 0.15);\n",
              "      fill: #174EA6;\n",
              "    }\n",
              "\n",
              "    [theme=dark] .colab-df-convert {\n",
              "      background-color: #3B4455;\n",
              "      fill: #D2E3FC;\n",
              "    }\n",
              "\n",
              "    [theme=dark] .colab-df-convert:hover {\n",
              "      background-color: #434B5C;\n",
              "      box-shadow: 0px 1px 3px 1px rgba(0, 0, 0, 0.15);\n",
              "      filter: drop-shadow(0px 1px 2px rgba(0, 0, 0, 0.3));\n",
              "      fill: #FFFFFF;\n",
              "    }\n",
              "  </style>\n",
              "\n",
              "      <script>\n",
              "        const buttonEl =\n",
              "          document.querySelector('#df-aa1144c8-75ee-4efe-8b23-5f2cdeacfc2f button.colab-df-convert');\n",
              "        buttonEl.style.display =\n",
              "          google.colab.kernel.accessAllowed ? 'block' : 'none';\n",
              "\n",
              "        async function convertToInteractive(key) {\n",
              "          const element = document.querySelector('#df-aa1144c8-75ee-4efe-8b23-5f2cdeacfc2f');\n",
              "          const dataTable =\n",
              "            await google.colab.kernel.invokeFunction('convertToInteractive',\n",
              "                                                     [key], {});\n",
              "          if (!dataTable) return;\n",
              "\n",
              "          const docLinkHtml = 'Like what you see? Visit the ' +\n",
              "            '<a target=\"_blank\" href=https://colab.research.google.com/notebooks/data_table.ipynb>data table notebook</a>'\n",
              "            + ' to learn more about interactive tables.';\n",
              "          element.innerHTML = '';\n",
              "          dataTable['output_type'] = 'display_data';\n",
              "          await google.colab.output.renderOutput(dataTable, element);\n",
              "          const docLink = document.createElement('div');\n",
              "          docLink.innerHTML = docLinkHtml;\n",
              "          element.appendChild(docLink);\n",
              "        }\n",
              "      </script>\n",
              "    </div>\n",
              "  </div>\n",
              "  "
            ]
          },
          "metadata": {},
          "execution_count": 60
        }
      ]
    },
    {
      "cell_type": "markdown",
      "source": [
        "**Pearson Correlation**"
      ],
      "metadata": {
        "id": "rRL0MKkV5W-o"
      }
    },
    {
      "cell_type": "code",
      "source": [
        "from sklearn.preprocessing import OrdinalEncoder"
      ],
      "metadata": {
        "id": "vOjL_bk45VS2"
      },
      "execution_count": null,
      "outputs": []
    },
    {
      "cell_type": "code",
      "execution_count": null,
      "metadata": {
        "id": "NZ1pscRR4m8D"
      },
      "outputs": [],
      "source": [
        "from scipy.stats import chisquare,chi2_contingency, power_divergence\n",
        "from scipy import stats"
      ]
    },
    {
      "cell_type": "code",
      "source": [
        "sns.heatmap(df_new.corr(), annot=True, cmap='flare')\n",
        "plt.plot()"
      ],
      "metadata": {
        "colab": {
          "base_uri": "https://localhost:8080/",
          "height": 388
        },
        "id": "DFn0kp_4fRS9",
        "outputId": "87091d7c-86f4-41b0-b47c-d30288d86ab0"
      },
      "execution_count": null,
      "outputs": [
        {
          "output_type": "execute_result",
          "data": {
            "text/plain": [
              "[]"
            ]
          },
          "metadata": {},
          "execution_count": 63
        },
        {
          "output_type": "display_data",
          "data": {
            "text/plain": [
              "<Figure size 432x288 with 2 Axes>"
            ],
            "image/png": "[encoded data removed]"
          },
          "metadata": {
            "needs_background": "light"
          }
        }
      ]
    },
    {
      "cell_type": "code",
      "execution_count": null,
      "metadata": {
        "id": "flPazn0n5lKp"
      },
      "outputs": [],
      "source": [
        "import pandas as pd\n",
        "contingency_table = pd.crosstab(x['SepalLengthCm'], x['SepalWidthCm'],margins = True)\n"
      ]
    },
    {
      "cell_type": "code",
      "execution_count": null,
      "metadata": {
        "colab": {
          "base_uri": "https://localhost:8080/"
        },
        "id": "RQC_y8iY6Yjy",
        "outputId": "a982f5e2-84df-4f0e-d8a5-be3f1333a6e9"
      },
      "outputs": [
        {
          "output_type": "execute_result",
          "data": {
            "text/plain": [
              "(791.7225565439851,\n",
              " 0.6240373950259228,\n",
              " 805,\n",
              " array([[6.66666667e-03, 2.00000000e-02, 2.66666667e-02, 2.00000000e-02,\n",
              "         5.33333333e-02, 3.33333333e-02, 6.00000000e-02, 9.33333333e-02,\n",
              "         6.66666667e-02, 1.73333333e-01, 8.00000000e-02, 8.66666667e-02,\n",
              "         4.00000000e-02, 8.00000000e-02, 4.00000000e-02, 2.00000000e-02,\n",
              "         2.00000000e-02, 4.00000000e-02, 1.33333333e-02, 6.66666667e-03,\n",
              "         6.66666667e-03, 6.66666667e-03, 6.66666667e-03, 1.00000000e+00],\n",
              "        [2.00000000e-02, 6.00000000e-02, 8.00000000e-02, 6.00000000e-02,\n",
              "         1.60000000e-01, 1.00000000e-01, 1.80000000e-01, 2.80000000e-01,\n",
              "         2.00000000e-01, 5.20000000e-01, 2.40000000e-01, 2.60000000e-01,\n",
              "         1.20000000e-01, 2.40000000e-01, 1.20000000e-01, 6.00000000e-02,\n",
              "         6.00000000e-02, 1.20000000e-01, 4.00000000e-02, 2.00000000e-02,\n",
              "         2.00000000e-02, 2.00000000e-02, 2.00000000e-02, 3.00000000e+00],\n",
              "        [6.66666667e-03, 2.00000000e-02, 2.66666667e-02, 2.00000000e-02,\n",
              "         5.33333333e-02, 3.33333333e-02, 6.00000000e-02, 9.33333333e-02,\n",
              "         6.66666667e-02, 1.73333333e-01, 8.00000000e-02, 8.66666667e-02,\n",
              "         4.00000000e-02, 8.00000000e-02, 4.00000000e-02, 2.00000000e-02,\n",
              "         2.00000000e-02, 4.00000000e-02, 1.33333333e-02, 6.66666667e-03,\n",
              "         6.66666667e-03, 6.66666667e-03, 6.66666667e-03, 1.00000000e+00],\n",
              "        [2.66666667e-02, 8.00000000e-02, 1.06666667e-01, 8.00000000e-02,\n",
              "         2.13333333e-01, 1.33333333e-01, 2.40000000e-01, 3.73333333e-01,\n",
              "         2.66666667e-01, 6.93333333e-01, 3.20000000e-01, 3.46666667e-01,\n",
              "         1.60000000e-01, 3.20000000e-01, 1.60000000e-01, 8.00000000e-02,\n",
              "         8.00000000e-02, 1.60000000e-01, 5.33333333e-02, 2.66666667e-02,\n",
              "         2.66666667e-02, 2.66666667e-02, 2.66666667e-02, 4.00000000e+00],\n",
              "        [1.33333333e-02, 4.00000000e-02, 5.33333333e-02, 4.00000000e-02,\n",
              "         1.06666667e-01, 6.66666667e-02, 1.20000000e-01, 1.86666667e-01,\n",
              "         1.33333333e-01, 3.46666667e-01, 1.60000000e-01, 1.73333333e-01,\n",
              "         8.00000000e-02, 1.60000000e-01, 8.00000000e-02, 4.00000000e-02,\n",
              "         4.00000000e-02, 8.00000000e-02, 2.66666667e-02, 1.33333333e-02,\n",
              "         1.33333333e-02, 1.33333333e-02, 1.33333333e-02, 2.00000000e+00],\n",
              "        [3.33333333e-02, 1.00000000e-01, 1.33333333e-01, 1.00000000e-01,\n",
              "         2.66666667e-01, 1.66666667e-01, 3.00000000e-01, 4.66666667e-01,\n",
              "         3.33333333e-01, 8.66666667e-01, 4.00000000e-01, 4.33333333e-01,\n",
              "         2.00000000e-01, 4.00000000e-01, 2.00000000e-01, 1.00000000e-01,\n",
              "         1.00000000e-01, 2.00000000e-01, 6.66666667e-02, 3.33333333e-02,\n",
              "         3.33333333e-02, 3.33333333e-02, 3.33333333e-02, 5.00000000e+00],\n",
              "        [4.00000000e-02, 1.20000000e-01, 1.60000000e-01, 1.20000000e-01,\n",
              "         3.20000000e-01, 2.00000000e-01, 3.60000000e-01, 5.60000000e-01,\n",
              "         4.00000000e-01, 1.04000000e+00, 4.80000000e-01, 5.20000000e-01,\n",
              "         2.40000000e-01, 4.80000000e-01, 2.40000000e-01, 1.20000000e-01,\n",
              "         1.20000000e-01, 2.40000000e-01, 8.00000000e-02, 4.00000000e-02,\n",
              "         4.00000000e-02, 4.00000000e-02, 4.00000000e-02, 6.00000000e+00],\n",
              "        [6.66666667e-02, 2.00000000e-01, 2.66666667e-01, 2.00000000e-01,\n",
              "         5.33333333e-01, 3.33333333e-01, 6.00000000e-01, 9.33333333e-01,\n",
              "         6.66666667e-01, 1.73333333e+00, 8.00000000e-01, 8.66666667e-01,\n",
              "         4.00000000e-01, 8.00000000e-01, 4.00000000e-01, 2.00000000e-01,\n",
              "         2.00000000e-01, 4.00000000e-01, 1.33333333e-01, 6.66666667e-02,\n",
              "         6.66666667e-02, 6.66666667e-02, 6.66666667e-02, 1.00000000e+01],\n",
              "        [6.00000000e-02, 1.80000000e-01, 2.40000000e-01, 1.80000000e-01,\n",
              "         4.80000000e-01, 3.00000000e-01, 5.40000000e-01, 8.40000000e-01,\n",
              "         6.00000000e-01, 1.56000000e+00, 7.20000000e-01, 7.80000000e-01,\n",
              "         3.60000000e-01, 7.20000000e-01, 3.60000000e-01, 1.80000000e-01,\n",
              "         1.80000000e-01, 3.60000000e-01, 1.20000000e-01, 6.00000000e-02,\n",
              "         6.00000000e-02, 6.00000000e-02, 6.00000000e-02, 9.00000000e+00],\n",
              "        [2.66666667e-02, 8.00000000e-02, 1.06666667e-01, 8.00000000e-02,\n",
              "         2.13333333e-01, 1.33333333e-01, 2.40000000e-01, 3.73333333e-01,\n",
              "         2.66666667e-01, 6.93333333e-01, 3.20000000e-01, 3.46666667e-01,\n",
              "         1.60000000e-01, 3.20000000e-01, 1.60000000e-01, 8.00000000e-02,\n",
              "         8.00000000e-02, 1.60000000e-01, 5.33333333e-02, 2.66666667e-02,\n",
              "         2.66666667e-02, 2.66666667e-02, 2.66666667e-02, 4.00000000e+00],\n",
              "        [6.66666667e-03, 2.00000000e-02, 2.66666667e-02, 2.00000000e-02,\n",
              "         5.33333333e-02, 3.33333333e-02, 6.00000000e-02, 9.33333333e-02,\n",
              "         6.66666667e-02, 1.73333333e-01, 8.00000000e-02, 8.66666667e-02,\n",
              "         4.00000000e-02, 8.00000000e-02, 4.00000000e-02, 2.00000000e-02,\n",
              "         2.00000000e-02, 4.00000000e-02, 1.33333333e-02, 6.66666667e-03,\n",
              "         6.66666667e-03, 6.66666667e-03, 6.66666667e-03, 1.00000000e+00],\n",
              "        [4.00000000e-02, 1.20000000e-01, 1.60000000e-01, 1.20000000e-01,\n",
              "         3.20000000e-01, 2.00000000e-01, 3.60000000e-01, 5.60000000e-01,\n",
              "         4.00000000e-01, 1.04000000e+00, 4.80000000e-01, 5.20000000e-01,\n",
              "         2.40000000e-01, 4.80000000e-01, 2.40000000e-01, 1.20000000e-01,\n",
              "         1.20000000e-01, 2.40000000e-01, 8.00000000e-02, 4.00000000e-02,\n",
              "         4.00000000e-02, 4.00000000e-02, 4.00000000e-02, 6.00000000e+00],\n",
              "        [4.66666667e-02, 1.40000000e-01, 1.86666667e-01, 1.40000000e-01,\n",
              "         3.73333333e-01, 2.33333333e-01, 4.20000000e-01, 6.53333333e-01,\n",
              "         4.66666667e-01, 1.21333333e+00, 5.60000000e-01, 6.06666667e-01,\n",
              "         2.80000000e-01, 5.60000000e-01, 2.80000000e-01, 1.40000000e-01,\n",
              "         1.40000000e-01, 2.80000000e-01, 9.33333333e-02, 4.66666667e-02,\n",
              "         4.66666667e-02, 4.66666667e-02, 4.66666667e-02, 7.00000000e+00],\n",
              "        [4.00000000e-02, 1.20000000e-01, 1.60000000e-01, 1.20000000e-01,\n",
              "         3.20000000e-01, 2.00000000e-01, 3.60000000e-01, 5.60000000e-01,\n",
              "         4.00000000e-01, 1.04000000e+00, 4.80000000e-01, 5.20000000e-01,\n",
              "         2.40000000e-01, 4.80000000e-01, 2.40000000e-01, 1.20000000e-01,\n",
              "         1.20000000e-01, 2.40000000e-01, 8.00000000e-02, 4.00000000e-02,\n",
              "         4.00000000e-02, 4.00000000e-02, 4.00000000e-02, 6.00000000e+00],\n",
              "        [5.33333333e-02, 1.60000000e-01, 2.13333333e-01, 1.60000000e-01,\n",
              "         4.26666667e-01, 2.66666667e-01, 4.80000000e-01, 7.46666667e-01,\n",
              "         5.33333333e-01, 1.38666667e+00, 6.40000000e-01, 6.93333333e-01,\n",
              "         3.20000000e-01, 6.40000000e-01, 3.20000000e-01, 1.60000000e-01,\n",
              "         1.60000000e-01, 3.20000000e-01, 1.06666667e-01, 5.33333333e-02,\n",
              "         5.33333333e-02, 5.33333333e-02, 5.33333333e-02, 8.00000000e+00],\n",
              "        [4.66666667e-02, 1.40000000e-01, 1.86666667e-01, 1.40000000e-01,\n",
              "         3.73333333e-01, 2.33333333e-01, 4.20000000e-01, 6.53333333e-01,\n",
              "         4.66666667e-01, 1.21333333e+00, 5.60000000e-01, 6.06666667e-01,\n",
              "         2.80000000e-01, 5.60000000e-01, 2.80000000e-01, 1.40000000e-01,\n",
              "         1.40000000e-01, 2.80000000e-01, 9.33333333e-02, 4.66666667e-02,\n",
              "         4.66666667e-02, 4.66666667e-02, 4.66666667e-02, 7.00000000e+00],\n",
              "        [2.00000000e-02, 6.00000000e-02, 8.00000000e-02, 6.00000000e-02,\n",
              "         1.60000000e-01, 1.00000000e-01, 1.80000000e-01, 2.80000000e-01,\n",
              "         2.00000000e-01, 5.20000000e-01, 2.40000000e-01, 2.60000000e-01,\n",
              "         1.20000000e-01, 2.40000000e-01, 1.20000000e-01, 6.00000000e-02,\n",
              "         6.00000000e-02, 1.20000000e-01, 4.00000000e-02, 2.00000000e-02,\n",
              "         2.00000000e-02, 2.00000000e-02, 2.00000000e-02, 3.00000000e+00],\n",
              "        [4.00000000e-02, 1.20000000e-01, 1.60000000e-01, 1.20000000e-01,\n",
              "         3.20000000e-01, 2.00000000e-01, 3.60000000e-01, 5.60000000e-01,\n",
              "         4.00000000e-01, 1.04000000e+00, 4.80000000e-01, 5.20000000e-01,\n",
              "         2.40000000e-01, 4.80000000e-01, 2.40000000e-01, 1.20000000e-01,\n",
              "         1.20000000e-01, 2.40000000e-01, 8.00000000e-02, 4.00000000e-02,\n",
              "         4.00000000e-02, 4.00000000e-02, 4.00000000e-02, 6.00000000e+00],\n",
              "        [4.00000000e-02, 1.20000000e-01, 1.60000000e-01, 1.20000000e-01,\n",
              "         3.20000000e-01, 2.00000000e-01, 3.60000000e-01, 5.60000000e-01,\n",
              "         4.00000000e-01, 1.04000000e+00, 4.80000000e-01, 5.20000000e-01,\n",
              "         2.40000000e-01, 4.80000000e-01, 2.40000000e-01, 1.20000000e-01,\n",
              "         1.20000000e-01, 2.40000000e-01, 8.00000000e-02, 4.00000000e-02,\n",
              "         4.00000000e-02, 4.00000000e-02, 4.00000000e-02, 6.00000000e+00],\n",
              "        [2.66666667e-02, 8.00000000e-02, 1.06666667e-01, 8.00000000e-02,\n",
              "         2.13333333e-01, 1.33333333e-01, 2.40000000e-01, 3.73333333e-01,\n",
              "         2.66666667e-01, 6.93333333e-01, 3.20000000e-01, 3.46666667e-01,\n",
              "         1.60000000e-01, 3.20000000e-01, 1.60000000e-01, 8.00000000e-02,\n",
              "         8.00000000e-02, 1.60000000e-01, 5.33333333e-02, 2.66666667e-02,\n",
              "         2.66666667e-02, 2.66666667e-02, 2.66666667e-02, 4.00000000e+00],\n",
              "        [6.00000000e-02, 1.80000000e-01, 2.40000000e-01, 1.80000000e-01,\n",
              "         4.80000000e-01, 3.00000000e-01, 5.40000000e-01, 8.40000000e-01,\n",
              "         6.00000000e-01, 1.56000000e+00, 7.20000000e-01, 7.80000000e-01,\n",
              "         3.60000000e-01, 7.20000000e-01, 3.60000000e-01, 1.80000000e-01,\n",
              "         1.80000000e-01, 3.60000000e-01, 1.20000000e-01, 6.00000000e-02,\n",
              "         6.00000000e-02, 6.00000000e-02, 6.00000000e-02, 9.00000000e+00],\n",
              "        [4.66666667e-02, 1.40000000e-01, 1.86666667e-01, 1.40000000e-01,\n",
              "         3.73333333e-01, 2.33333333e-01, 4.20000000e-01, 6.53333333e-01,\n",
              "         4.66666667e-01, 1.21333333e+00, 5.60000000e-01, 6.06666667e-01,\n",
              "         2.80000000e-01, 5.60000000e-01, 2.80000000e-01, 1.40000000e-01,\n",
              "         1.40000000e-01, 2.80000000e-01, 9.33333333e-02, 4.66666667e-02,\n",
              "         4.66666667e-02, 4.66666667e-02, 4.66666667e-02, 7.00000000e+00],\n",
              "        [3.33333333e-02, 1.00000000e-01, 1.33333333e-01, 1.00000000e-01,\n",
              "         2.66666667e-01, 1.66666667e-01, 3.00000000e-01, 4.66666667e-01,\n",
              "         3.33333333e-01, 8.66666667e-01, 4.00000000e-01, 4.33333333e-01,\n",
              "         2.00000000e-01, 4.00000000e-01, 2.00000000e-01, 1.00000000e-01,\n",
              "         1.00000000e-01, 2.00000000e-01, 6.66666667e-02, 3.33333333e-02,\n",
              "         3.33333333e-02, 3.33333333e-02, 3.33333333e-02, 5.00000000e+00],\n",
              "        [1.33333333e-02, 4.00000000e-02, 5.33333333e-02, 4.00000000e-02,\n",
              "         1.06666667e-01, 6.66666667e-02, 1.20000000e-01, 1.86666667e-01,\n",
              "         1.33333333e-01, 3.46666667e-01, 1.60000000e-01, 1.73333333e-01,\n",
              "         8.00000000e-02, 1.60000000e-01, 8.00000000e-02, 4.00000000e-02,\n",
              "         4.00000000e-02, 8.00000000e-02, 2.66666667e-02, 1.33333333e-02,\n",
              "         1.33333333e-02, 1.33333333e-02, 1.33333333e-02, 2.00000000e+00],\n",
              "        [5.33333333e-02, 1.60000000e-01, 2.13333333e-01, 1.60000000e-01,\n",
              "         4.26666667e-01, 2.66666667e-01, 4.80000000e-01, 7.46666667e-01,\n",
              "         5.33333333e-01, 1.38666667e+00, 6.40000000e-01, 6.93333333e-01,\n",
              "         3.20000000e-01, 6.40000000e-01, 3.20000000e-01, 1.60000000e-01,\n",
              "         1.60000000e-01, 3.20000000e-01, 1.06666667e-01, 5.33333333e-02,\n",
              "         5.33333333e-02, 5.33333333e-02, 5.33333333e-02, 8.00000000e+00],\n",
              "        [2.00000000e-02, 6.00000000e-02, 8.00000000e-02, 6.00000000e-02,\n",
              "         1.60000000e-01, 1.00000000e-01, 1.80000000e-01, 2.80000000e-01,\n",
              "         2.00000000e-01, 5.20000000e-01, 2.40000000e-01, 2.60000000e-01,\n",
              "         1.20000000e-01, 2.40000000e-01, 1.20000000e-01, 6.00000000e-02,\n",
              "         6.00000000e-02, 1.20000000e-01, 4.00000000e-02, 2.00000000e-02,\n",
              "         2.00000000e-02, 2.00000000e-02, 2.00000000e-02, 3.00000000e+00],\n",
              "        [2.66666667e-02, 8.00000000e-02, 1.06666667e-01, 8.00000000e-02,\n",
              "         2.13333333e-01, 1.33333333e-01, 2.40000000e-01, 3.73333333e-01,\n",
              "         2.66666667e-01, 6.93333333e-01, 3.20000000e-01, 3.46666667e-01,\n",
              "         1.60000000e-01, 3.20000000e-01, 1.60000000e-01, 8.00000000e-02,\n",
              "         8.00000000e-02, 1.60000000e-01, 5.33333333e-02, 2.66666667e-02,\n",
              "         2.66666667e-02, 2.66666667e-02, 2.66666667e-02, 4.00000000e+00],\n",
              "        [6.66666667e-03, 2.00000000e-02, 2.66666667e-02, 2.00000000e-02,\n",
              "         5.33333333e-02, 3.33333333e-02, 6.00000000e-02, 9.33333333e-02,\n",
              "         6.66666667e-02, 1.73333333e-01, 8.00000000e-02, 8.66666667e-02,\n",
              "         4.00000000e-02, 8.00000000e-02, 4.00000000e-02, 2.00000000e-02,\n",
              "         2.00000000e-02, 4.00000000e-02, 1.33333333e-02, 6.66666667e-03,\n",
              "         6.66666667e-03, 6.66666667e-03, 6.66666667e-03, 1.00000000e+00],\n",
              "        [6.66666667e-03, 2.00000000e-02, 2.66666667e-02, 2.00000000e-02,\n",
              "         5.33333333e-02, 3.33333333e-02, 6.00000000e-02, 9.33333333e-02,\n",
              "         6.66666667e-02, 1.73333333e-01, 8.00000000e-02, 8.66666667e-02,\n",
              "         4.00000000e-02, 8.00000000e-02, 4.00000000e-02, 2.00000000e-02,\n",
              "         2.00000000e-02, 4.00000000e-02, 1.33333333e-02, 6.66666667e-03,\n",
              "         6.66666667e-03, 6.66666667e-03, 6.66666667e-03, 1.00000000e+00],\n",
              "        [2.00000000e-02, 6.00000000e-02, 8.00000000e-02, 6.00000000e-02,\n",
              "         1.60000000e-01, 1.00000000e-01, 1.80000000e-01, 2.80000000e-01,\n",
              "         2.00000000e-01, 5.20000000e-01, 2.40000000e-01, 2.60000000e-01,\n",
              "         1.20000000e-01, 2.40000000e-01, 1.20000000e-01, 6.00000000e-02,\n",
              "         6.00000000e-02, 1.20000000e-01, 4.00000000e-02, 2.00000000e-02,\n",
              "         2.00000000e-02, 2.00000000e-02, 2.00000000e-02, 3.00000000e+00],\n",
              "        [6.66666667e-03, 2.00000000e-02, 2.66666667e-02, 2.00000000e-02,\n",
              "         5.33333333e-02, 3.33333333e-02, 6.00000000e-02, 9.33333333e-02,\n",
              "         6.66666667e-02, 1.73333333e-01, 8.00000000e-02, 8.66666667e-02,\n",
              "         4.00000000e-02, 8.00000000e-02, 4.00000000e-02, 2.00000000e-02,\n",
              "         2.00000000e-02, 4.00000000e-02, 1.33333333e-02, 6.66666667e-03,\n",
              "         6.66666667e-03, 6.66666667e-03, 6.66666667e-03, 1.00000000e+00],\n",
              "        [6.66666667e-03, 2.00000000e-02, 2.66666667e-02, 2.00000000e-02,\n",
              "         5.33333333e-02, 3.33333333e-02, 6.00000000e-02, 9.33333333e-02,\n",
              "         6.66666667e-02, 1.73333333e-01, 8.00000000e-02, 8.66666667e-02,\n",
              "         4.00000000e-02, 8.00000000e-02, 4.00000000e-02, 2.00000000e-02,\n",
              "         2.00000000e-02, 4.00000000e-02, 1.33333333e-02, 6.66666667e-03,\n",
              "         6.66666667e-03, 6.66666667e-03, 6.66666667e-03, 1.00000000e+00],\n",
              "        [6.66666667e-03, 2.00000000e-02, 2.66666667e-02, 2.00000000e-02,\n",
              "         5.33333333e-02, 3.33333333e-02, 6.00000000e-02, 9.33333333e-02,\n",
              "         6.66666667e-02, 1.73333333e-01, 8.00000000e-02, 8.66666667e-02,\n",
              "         4.00000000e-02, 8.00000000e-02, 4.00000000e-02, 2.00000000e-02,\n",
              "         2.00000000e-02, 4.00000000e-02, 1.33333333e-02, 6.66666667e-03,\n",
              "         6.66666667e-03, 6.66666667e-03, 6.66666667e-03, 1.00000000e+00],\n",
              "        [2.66666667e-02, 8.00000000e-02, 1.06666667e-01, 8.00000000e-02,\n",
              "         2.13333333e-01, 1.33333333e-01, 2.40000000e-01, 3.73333333e-01,\n",
              "         2.66666667e-01, 6.93333333e-01, 3.20000000e-01, 3.46666667e-01,\n",
              "         1.60000000e-01, 3.20000000e-01, 1.60000000e-01, 8.00000000e-02,\n",
              "         8.00000000e-02, 1.60000000e-01, 5.33333333e-02, 2.66666667e-02,\n",
              "         2.66666667e-02, 2.66666667e-02, 2.66666667e-02, 4.00000000e+00],\n",
              "        [6.66666667e-03, 2.00000000e-02, 2.66666667e-02, 2.00000000e-02,\n",
              "         5.33333333e-02, 3.33333333e-02, 6.00000000e-02, 9.33333333e-02,\n",
              "         6.66666667e-02, 1.73333333e-01, 8.00000000e-02, 8.66666667e-02,\n",
              "         4.00000000e-02, 8.00000000e-02, 4.00000000e-02, 2.00000000e-02,\n",
              "         2.00000000e-02, 4.00000000e-02, 1.33333333e-02, 6.66666667e-03,\n",
              "         6.66666667e-03, 6.66666667e-03, 6.66666667e-03, 1.00000000e+00],\n",
              "        [1.00000000e+00, 3.00000000e+00, 4.00000000e+00, 3.00000000e+00,\n",
              "         8.00000000e+00, 5.00000000e+00, 9.00000000e+00, 1.40000000e+01,\n",
              "         1.00000000e+01, 2.60000000e+01, 1.20000000e+01, 1.30000000e+01,\n",
              "         6.00000000e+00, 1.20000000e+01, 6.00000000e+00, 3.00000000e+00,\n",
              "         3.00000000e+00, 6.00000000e+00, 2.00000000e+00, 1.00000000e+00,\n",
              "         1.00000000e+00, 1.00000000e+00, 1.00000000e+00, 1.50000000e+02]]))"
            ]
          },
          "metadata": {},
          "execution_count": 65
        }
      ],
      "source": [
        "stats.chi2_contingency(contingency_table)"
      ]
    },
    {
      "cell_type": "markdown",
      "source": [
        "**Chi Square between class and attribute**"
      ],
      "metadata": {
        "id": "o4m8XRMH_b7t"
      }
    },
    {
      "cell_type": "code",
      "execution_count": null,
      "metadata": {
        "id": "c0_rSNl5Bdnn",
        "colab": {
          "base_uri": "https://localhost:8080/"
        },
        "outputId": "92120f9a-15a9-4c81-8c9a-6eeb8f329553"
      },
      "outputs": [
        {
          "output_type": "stream",
          "name": "stdout",
          "text": [
            "Chi-square 271.79999999999995 p-value 1.1775672327529825e-21\n"
          ]
        }
      ],
      "source": [
        "table = pd.crosstab(df_species['Species'],x['PetalLengthCm']) # Contigency table\n",
        "chi2, p, dof, expected = stats.chi2_contingency(table.values)\n",
        "print(f'Chi-square {chi2} p-value {p}')"
      ]
    },
    {
      "cell_type": "code",
      "execution_count": null,
      "metadata": {
        "id": "rk4Q269SGbso",
        "colab": {
          "base_uri": "https://localhost:8080/"
        },
        "outputId": "fda69092-bf38-4566-bedf-463c07095126"
      },
      "outputs": [
        {
          "output_type": "stream",
          "name": "stdout",
          "text": [
            "Chi-square 271.75 p-value 2.1648103108815957e-35\n"
          ]
        }
      ],
      "source": [
        "table = pd.crosstab(df_species['Species'],x['PetalWidthCm']) # Contigency table\n",
        "chi2, p, dof, expected = stats.chi2_contingency(table.values)\n",
        "print(f'Chi-square {chi2} p-value {p}')"
      ]
    },
    {
      "cell_type": "code",
      "execution_count": null,
      "metadata": {
        "id": "31801WqnGkT_",
        "colab": {
          "base_uri": "https://localhost:8080/"
        },
        "outputId": "d2065671-e970-49c8-9fdd-e006ecd82f30"
      },
      "outputs": [
        {
          "output_type": "stream",
          "name": "stdout",
          "text": [
            "Chi-square 156.26666666666668 p-value 6.665987344005466e-09\n"
          ]
        }
      ],
      "source": [
        "table = pd.crosstab(df_species['Species'],x['SepalLengthCm']) # Contigency table\n",
        "chi2, p, dof, expected = stats.chi2_contingency(table.values)\n",
        "print(f'Chi-square {chi2} p-value {p}')"
      ]
    },
    {
      "cell_type": "code",
      "execution_count": null,
      "metadata": {
        "id": "NSy4kDSUHOAI",
        "colab": {
          "base_uri": "https://localhost:8080/"
        },
        "outputId": "d72d2621-d76b-46a6-e592-039953799b1e"
      },
      "outputs": [
        {
          "output_type": "stream",
          "name": "stdout",
          "text": [
            "Chi-square 88.36446886446886 p-value 8.303947787862062e-05\n"
          ]
        }
      ],
      "source": [
        "table = pd.crosstab(df_species['Species'],x['SepalWidthCm']) # Contigency table\n",
        "chi2, p, dof, expected = stats.chi2_contingency(table.values)\n",
        "print(f'Chi-square {chi2} p-value {p}')"
      ]
    },
    {
      "cell_type": "code",
      "execution_count": null,
      "metadata": {
        "id": "wRIIErJZHJPL",
        "colab": {
          "base_uri": "https://localhost:8080/"
        },
        "outputId": "ea40b81a-f118-4fcc-bbad-c72b8c99273e"
      },
      "outputs": [
        {
          "output_type": "stream",
          "name": "stdout",
          "text": [
            "Chi-square 149.99999999999997 p-value 2.6786369618081254e-33\n"
          ]
        }
      ],
      "source": [
        "table = pd.crosstab(df_species['Species'],x['Species_Iris-setosa']) # Contigency table\n",
        "chi2, p, dof, expected = stats.chi2_contingency(table.values)\n",
        "print(f'Chi-square {chi2} p-value {p}')"
      ]
    },
    {
      "cell_type": "code",
      "execution_count": null,
      "metadata": {
        "id": "NTFBY8QtHk2D",
        "colab": {
          "base_uri": "https://localhost:8080/"
        },
        "outputId": "7a5aa857-a4c3-40a8-9517-e6653148dd02"
      },
      "outputs": [
        {
          "output_type": "stream",
          "name": "stdout",
          "text": [
            "Chi-square 149.99999999999997 p-value 2.6786369618081254e-33\n"
          ]
        }
      ],
      "source": [
        "table = pd.crosstab(df_species['Species'],x['Species_Iris-versicolor']) # Contigency table\n",
        "chi2, p, dof, expected = stats.chi2_contingency(table.values)\n",
        "print(f'Chi-square {chi2} p-value {p}')"
      ]
    },
    {
      "cell_type": "markdown",
      "source": [
        "**Chi Square between Attribute to Attribute**"
      ],
      "metadata": {
        "id": "UZ75f-FB_m2U"
      }
    },
    {
      "cell_type": "code",
      "execution_count": null,
      "metadata": {
        "id": "vyKiqCsyJ781",
        "colab": {
          "base_uri": "https://localhost:8080/"
        },
        "outputId": "1f243407-2fdd-4da5-ffff-f7be2c0432c9"
      },
      "outputs": [
        {
          "output_type": "stream",
          "name": "stdout",
          "text": [
            "Chi-square 791.7225565439851 p-value 0.1300253817065682\n"
          ]
        }
      ],
      "source": [
        "table = pd.crosstab(x['SepalLengthCm'],x['SepalWidthCm']) # Contigency table\n",
        "chi2, p, dof, expected = stats.chi2_contingency(table.values)\n",
        "print(f'Chi-square {chi2} p-value {p}')"
      ]
    },
    {
      "cell_type": "code",
      "execution_count": null,
      "metadata": {
        "id": "TtGVPbt2LniK",
        "colab": {
          "base_uri": "https://localhost:8080/"
        },
        "outputId": "f0a54b90-a84d-4ec7-b3ed-2896ade251d5"
      },
      "outputs": [
        {
          "output_type": "stream",
          "name": "stdout",
          "text": [
            "Chi-square 1922.9347363945576 p-value 2.6830523867648017e-17\n"
          ]
        }
      ],
      "source": [
        "table = pd.crosstab(x['SepalLengthCm'],x['PetalLengthCm']) # Contigency table\n",
        "chi2, p, dof, expected = stats.chi2_contingency(table.values)\n",
        "print(f'Chi-square {chi2} p-value {p}')"
      ]
    },
    {
      "cell_type": "code",
      "execution_count": null,
      "metadata": {
        "id": "bYCLdkPALxaU",
        "colab": {
          "base_uri": "https://localhost:8080/"
        },
        "outputId": "2678b884-701e-4658-bda7-6c2ecdf86014"
      },
      "outputs": [
        {
          "output_type": "stream",
          "name": "stdout",
          "text": [
            "Chi-square 794.2022610326181 p-value 0.019450852589702666\n"
          ]
        }
      ],
      "source": [
        "table = pd.crosstab(x['SepalLengthCm'],x['PetalWidthCm']) # Contigency table\n",
        "chi2, p, dof, expected = stats.chi2_contingency(table.values)\n",
        "print(f'Chi-square {chi2} p-value {p}')"
      ]
    },
    {
      "cell_type": "code",
      "source": [
        "table = pd.crosstab(x['SepalLengthCm'],x['Species_Iris-setosa']) # Contigency table\n",
        "chi2, p, dof, expected = stats.chi2_contingency(table.values)\n",
        "print(f'Chi-square {chi2} p-value {p}')"
      ],
      "metadata": {
        "colab": {
          "base_uri": "https://localhost:8080/"
        },
        "id": "oK5eWnwmEspK",
        "outputId": "197ecdf2-5bc1-447c-d423-5b2b063b0614"
      },
      "execution_count": null,
      "outputs": [
        {
          "output_type": "stream",
          "name": "stdout",
          "text": [
            "Chi-square 108.63928571428572 p-value 9.887948160473998e-10\n"
          ]
        }
      ]
    },
    {
      "cell_type": "code",
      "source": [
        "table = pd.crosstab(x['SepalLengthCm'],x['Species_Iris-versicolor']) # Contigency table\n",
        "chi2, p, dof, expected = stats.chi2_contingency(table.values)\n",
        "print(f'Chi-square {chi2} p-value {p}')"
      ],
      "metadata": {
        "colab": {
          "base_uri": "https://localhost:8080/"
        },
        "id": "FViAWwvCE5Zi",
        "outputId": "45a565b7-4393-49b8-d497-1088905e37b4"
      },
      "execution_count": null,
      "outputs": [
        {
          "output_type": "stream",
          "name": "stdout",
          "text": [
            "Chi-square 48.253571428571426 p-value 0.05354838241778697\n"
          ]
        }
      ]
    },
    {
      "cell_type": "code",
      "source": [
        "table = pd.crosstab(x['SepalWidthCm'],x['PetalLengthCm']) # Contigency table\n",
        "chi2, p, dof, expected = stats.chi2_contingency(table.values)\n",
        "print(f'Chi-square {chi2} p-value {p}')"
      ],
      "metadata": {
        "colab": {
          "base_uri": "https://localhost:8080/"
        },
        "id": "OAT6j2UZG-1d",
        "outputId": "fff1387c-61ed-425b-91a3-95adeeedb97a"
      },
      "execution_count": null,
      "outputs": [
        {
          "output_type": "stream",
          "name": "stdout",
          "text": [
            "Chi-square 1009.0093482905983 p-value 0.026476408996136024\n"
          ]
        }
      ]
    },
    {
      "cell_type": "code",
      "source": [
        "table = pd.crosstab(x['SepalWidthCm'],x['PetalWidthCm']) # Contigency table\n",
        "chi2, p, dof, expected = stats.chi2_contingency(table.values)\n",
        "print(f'Chi-square {chi2} p-value {p}')"
      ],
      "metadata": {
        "colab": {
          "base_uri": "https://localhost:8080/"
        },
        "id": "Sb2UEoI5GhLz",
        "outputId": "3eb87cec-fff9-4437-cf38-237ce6a45f51"
      },
      "execution_count": null,
      "outputs": [
        {
          "output_type": "stream",
          "name": "stdout",
          "text": [
            "Chi-square 588.5673370432986 p-value 5.7588555702761433e-05\n"
          ]
        }
      ]
    },
    {
      "cell_type": "code",
      "source": [
        "table = pd.crosstab(x['SepalWidthCm'],x['Species_Iris-setosa']) # Contigency table\n",
        "chi2, p, dof, expected = stats.chi2_contingency(table.values)\n",
        "print(f'Chi-square {chi2} p-value {p}')"
      ],
      "metadata": {
        "colab": {
          "base_uri": "https://localhost:8080/"
        },
        "id": "dsdjtT1nGmms",
        "outputId": "f360d493-9a24-43f0-bc0a-4f6172f8c514"
      },
      "execution_count": null,
      "outputs": [
        {
          "output_type": "stream",
          "name": "stdout",
          "text": [
            "Chi-square 69.70961538461538 p-value 7.347661106563978e-07\n"
          ]
        }
      ]
    },
    {
      "cell_type": "code",
      "source": [
        "table = pd.crosstab(x['SepalWidthCm'],x['Species_Iris-versicolor']) # Contigency table\n",
        "chi2, p, dof, expected = stats.chi2_contingency(table.values)\n",
        "print(f'Chi-square {chi2} p-value {p}')"
      ],
      "metadata": {
        "colab": {
          "base_uri": "https://localhost:8080/"
        },
        "id": "tRsuVbvqGo80",
        "outputId": "77fb21e9-3226-4d6a-8b0e-0134ab52c6df"
      },
      "execution_count": null,
      "outputs": [
        {
          "output_type": "stream",
          "name": "stdout",
          "text": [
            "Chi-square 41.03873626373627 p-value 0.008154044612076162\n"
          ]
        }
      ]
    },
    {
      "cell_type": "code",
      "source": [
        "table = pd.crosstab(x['PetalLengthCm'],x['PetalWidthCm']) # Contigency table\n",
        "chi2, p, dof, expected = stats.chi2_contingency(table.values)\n",
        "print(f'Chi-square {chi2} p-value {p}')\n"
      ],
      "metadata": {
        "colab": {
          "base_uri": "https://localhost:8080/"
        },
        "id": "ZnGKtGoxHNsm",
        "outputId": "e474fa90-f5f2-448b-ea5e-c571d934d018"
      },
      "execution_count": null,
      "outputs": [
        {
          "output_type": "stream",
          "name": "stdout",
          "text": [
            "Chi-square 1150.4665260334903 p-value 2.394536654111862e-09\n"
          ]
        }
      ]
    },
    {
      "cell_type": "code",
      "source": [
        "table = pd.crosstab(x['PetalLengthCm'],x['Species_Iris-setosa']) # Contigency table\n",
        "chi2, p, dof, expected = stats.chi2_contingency(table.values)\n",
        "print(f'Chi-square {chi2} p-value {p}')\n"
      ],
      "metadata": {
        "colab": {
          "base_uri": "https://localhost:8080/"
        },
        "id": "R3buh50aHrQM",
        "outputId": "a2fab2cb-5201-4dd0-e1d5-d24b3ea213b1"
      },
      "execution_count": null,
      "outputs": [
        {
          "output_type": "stream",
          "name": "stdout",
          "text": [
            "Chi-square 150.0 p-value 4.731311946083758e-14\n"
          ]
        }
      ]
    },
    {
      "cell_type": "code",
      "source": [
        "table = pd.crosstab(x['PetalLengthCm'],x['Species_Iris-versicolor']) # Contigency table\n",
        "chi2, p, dof, expected = stats.chi2_contingency(table.values)\n",
        "print(f'Chi-square {chi2} p-value {p}')\n"
      ],
      "metadata": {
        "colab": {
          "base_uri": "https://localhost:8080/"
        },
        "id": "-MTVyoE-Hv-j",
        "outputId": "b7b842c6-900f-4522-b44a-a595e1b7c81e"
      },
      "execution_count": null,
      "outputs": [
        {
          "output_type": "stream",
          "name": "stdout",
          "text": [
            "Chi-square 128.85 p-value 9.393893329581147e-11\n"
          ]
        }
      ]
    },
    {
      "cell_type": "code",
      "source": [
        "table = pd.crosstab(x['PetalWidthCm'],x['Species_Iris-setosa']) # Contigency table\n",
        "chi2, p, dof, expected = stats.chi2_contingency(table.values)\n",
        "print(f'Chi-square {chi2} p-value {p}')\n"
      ],
      "metadata": {
        "colab": {
          "base_uri": "https://localhost:8080/"
        },
        "id": "dGg1XioaHwQ6",
        "outputId": "b17e44ed-34e7-47e6-e4b4-7dce70e4c67b"
      },
      "execution_count": null,
      "outputs": [
        {
          "output_type": "stream",
          "name": "stdout",
          "text": [
            "Chi-square 150.0 p-value 1.7561046369273012e-21\n"
          ]
        }
      ]
    },
    {
      "cell_type": "code",
      "source": [
        "table = pd.crosstab(x['PetalWidthCm'],x['Species_Iris-versicolor']) # Contigency table\n",
        "chi2, p, dof, expected = stats.chi2_contingency(table.values)\n",
        "print(f'Chi-square {chi2} p-value {p}')\n"
      ],
      "metadata": {
        "colab": {
          "base_uri": "https://localhost:8080/"
        },
        "id": "lmfPZ5rrII1F",
        "outputId": "2ee2d084-41b2-4591-9aa0-94964e272554"
      },
      "execution_count": null,
      "outputs": [
        {
          "output_type": "stream",
          "name": "stdout",
          "text": [
            "Chi-square 128.8125 p-value 1.6873101472518103e-17\n"
          ]
        }
      ]
    },
    {
      "cell_type": "code",
      "source": [
        "df2 = df.drop(['Id'],axis=1)\n",
        "df2"
      ],
      "metadata": {
        "colab": {
          "base_uri": "https://localhost:8080/",
          "height": 423
        },
        "id": "YwXH883CmXK1",
        "outputId": "fb51fed0-dbd5-4bed-a54e-4919a92ad51b"
      },
      "execution_count": null,
      "outputs": [
        {
          "output_type": "execute_result",
          "data": {
            "text/plain": [
              "     SepalLengthCm  SepalWidthCm  PetalLengthCm  PetalWidthCm  \\\n",
              "0              5.1           3.5            1.4           0.2   \n",
              "1              4.9           3.0            1.4           0.2   \n",
              "2              4.7           3.2            1.3           0.2   \n",
              "3              4.6           3.1            1.5           0.2   \n",
              "4              5.0           3.6            1.4           0.2   \n",
              "..             ...           ...            ...           ...   \n",
              "145            6.7           3.0            5.2           2.3   \n",
              "146            6.3           2.5            5.0           1.9   \n",
              "147            6.5           3.0            5.2           2.0   \n",
              "148            6.2           3.4            5.4           2.3   \n",
              "149            5.9           3.0            5.1           1.8   \n",
              "\n",
              "     Species_Iris-setosa  Species_Iris-versicolor  Species_Iris-virginica  \n",
              "0                      1                        0                       0  \n",
              "1                      1                        0                       0  \n",
              "2                      1                        0                       0  \n",
              "3                      1                        0                       0  \n",
              "4                      1                        0                       0  \n",
              "..                   ...                      ...                     ...  \n",
              "145                    0                        0                       1  \n",
              "146                    0                        0                       1  \n",
              "147                    0                        0                       1  \n",
              "148                    0                        0                       1  \n",
              "149                    0                        0                       1  \n",
              "\n",
              "[150 rows x 7 columns]"
            ],
            "text/html": [
              "\n",
              "  <div id=\"df-764baaba-0a1e-4b32-9f87-17c20298aa7f\">\n",
              "    <div class=\"colab-df-container\">\n",
              "      <div>\n",
              "<style scoped>\n",
              "    .dataframe tbody tr th:only-of-type {\n",
              "        vertical-align: middle;\n",
              "    }\n",
              "\n",
              "    .dataframe tbody tr th {\n",
              "        vertical-align: top;\n",
              "    }\n",
              "\n",
              "    .dataframe thead th {\n",
              "        text-align: right;\n",
              "    }\n",
              "</style>\n",
              "<table border=\"1\" class=\"dataframe\">\n",
              "  <thead>\n",
              "    <tr style=\"text-align: right;\">\n",
              "      <th></th>\n",
              "      <th>SepalLengthCm</th>\n",
              "      <th>SepalWidthCm</th>\n",
              "      <th>PetalLengthCm</th>\n",
              "      <th>PetalWidthCm</th>\n",
              "      <th>Species_Iris-setosa</th>\n",
              "      <th>Species_Iris-versicolor</th>\n",
              "      <th>Species_Iris-virginica</th>\n",
              "    </tr>\n",
              "  </thead>\n",
              "  <tbody>\n",
              "    <tr>\n",
              "      <th>0</th>\n",
              "      <td>5.1</td>\n",
              "      <td>3.5</td>\n",
              "      <td>1.4</td>\n",
              "      <td>0.2</td>\n",
              "      <td>1</td>\n",
              "      <td>0</td>\n",
              "      <td>0</td>\n",
              "    </tr>\n",
              "    <tr>\n",
              "      <th>1</th>\n",
              "      <td>4.9</td>\n",
              "      <td>3.0</td>\n",
              "      <td>1.4</td>\n",
              "      <td>0.2</td>\n",
              "      <td>1</td>\n",
              "      <td>0</td>\n",
              "      <td>0</td>\n",
              "    </tr>\n",
              "    <tr>\n",
              "      <th>2</th>\n",
              "      <td>4.7</td>\n",
              "      <td>3.2</td>\n",
              "      <td>1.3</td>\n",
              "      <td>0.2</td>\n",
              "      <td>1</td>\n",
              "      <td>0</td>\n",
              "      <td>0</td>\n",
              "    </tr>\n",
              "    <tr>\n",
              "      <th>3</th>\n",
              "      <td>4.6</td>\n",
              "      <td>3.1</td>\n",
              "      <td>1.5</td>\n",
              "      <td>0.2</td>\n",
              "      <td>1</td>\n",
              "      <td>0</td>\n",
              "      <td>0</td>\n",
              "    </tr>\n",
              "    <tr>\n",
              "      <th>4</th>\n",
              "      <td>5.0</td>\n",
              "      <td>3.6</td>\n",
              "      <td>1.4</td>\n",
              "      <td>0.2</td>\n",
              "      <td>1</td>\n",
              "      <td>0</td>\n",
              "      <td>0</td>\n",
              "    </tr>\n",
              "    <tr>\n",
              "      <th>...</th>\n",
              "      <td>...</td>\n",
              "      <td>...</td>\n",
              "      <td>...</td>\n",
              "      <td>...</td>\n",
              "      <td>...</td>\n",
              "      <td>...</td>\n",
              "      <td>...</td>\n",
              "    </tr>\n",
              "    <tr>\n",
              "      <th>145</th>\n",
              "      <td>6.7</td>\n",
              "      <td>3.0</td>\n",
              "      <td>5.2</td>\n",
              "      <td>2.3</td>\n",
              "      <td>0</td>\n",
              "      <td>0</td>\n",
              "      <td>1</td>\n",
              "    </tr>\n",
              "    <tr>\n",
              "      <th>146</th>\n",
              "      <td>6.3</td>\n",
              "      <td>2.5</td>\n",
              "      <td>5.0</td>\n",
              "      <td>1.9</td>\n",
              "      <td>0</td>\n",
              "      <td>0</td>\n",
              "      <td>1</td>\n",
              "    </tr>\n",
              "    <tr>\n",
              "      <th>147</th>\n",
              "      <td>6.5</td>\n",
              "      <td>3.0</td>\n",
              "      <td>5.2</td>\n",
              "      <td>2.0</td>\n",
              "      <td>0</td>\n",
              "      <td>0</td>\n",
              "      <td>1</td>\n",
              "    </tr>\n",
              "    <tr>\n",
              "      <th>148</th>\n",
              "      <td>6.2</td>\n",
              "      <td>3.4</td>\n",
              "      <td>5.4</td>\n",
              "      <td>2.3</td>\n",
              "      <td>0</td>\n",
              "      <td>0</td>\n",
              "      <td>1</td>\n",
              "    </tr>\n",
              "    <tr>\n",
              "      <th>149</th>\n",
              "      <td>5.9</td>\n",
              "      <td>3.0</td>\n",
              "      <td>5.1</td>\n",
              "      <td>1.8</td>\n",
              "      <td>0</td>\n",
              "      <td>0</td>\n",
              "      <td>1</td>\n",
              "    </tr>\n",
              "  </tbody>\n",
              "</table>\n",
              "<p>150 rows × 7 columns</p>\n",
              "</div>\n",
              "      <button class=\"colab-df-convert\" onclick=\"convertToInteractive('df-764baaba-0a1e-4b32-9f87-17c20298aa7f')\"\n",
              "              title=\"Convert this dataframe to an interactive table.\"\n",
              "              style=\"display:none;\">\n",
              "        \n",
              "  <svg xmlns=\"http://www.w3.org/2000/svg\" height=\"24px\"viewBox=\"0 0 24 24\"\n",
              "       width=\"24px\">\n",
              "    <path d=\"M0 0h24v24H0V0z\" fill=\"none\"/>\n",
              "    <path d=\"M18.56 5.44l.94 2.06.94-2.06 2.06-.94-2.06-.94-.94-2.06-.94 2.06-2.06.94zm-11 1L8.5 8.5l.94-2.06 2.06-.94-2.06-.94L8.5 2.5l-.94 2.06-2.06.94zm10 10l.94 2.06.94-2.06 2.06-.94-2.06-.94-.94-2.06-.94 2.06-2.06.94z\"/><path d=\"M17.41 7.96l-1.37-1.37c-.4-.4-.92-.59-1.43-.59-.52 0-1.04.2-1.43.59L10.3 9.45l-7.72 7.72c-.78.78-.78 2.05 0 2.83L4 21.41c.39.39.9.59 1.41.59.51 0 1.02-.2 1.41-.59l7.78-7.78 2.81-2.81c.8-.78.8-2.07 0-2.86zM5.41 20L4 18.59l7.72-7.72 1.47 1.35L5.41 20z\"/>\n",
              "  </svg>\n",
              "      </button>\n",
              "      \n",
              "  <style>\n",
              "    .colab-df-container {\n",
              "      display:flex;\n",
              "      flex-wrap:wrap;\n",
              "      gap: 12px;\n",
              "    }\n",
              "\n",
              "    .colab-df-convert {\n",
              "      background-color: #E8F0FE;\n",
              "      border: none;\n",
              "      border-radius: 50%;\n",
              "      cursor: pointer;\n",
              "      display: none;\n",
              "      fill: #1967D2;\n",
              "      height: 32px;\n",
              "      padding: 0 0 0 0;\n",
              "      width: 32px;\n",
              "    }\n",
              "\n",
              "    .colab-df-convert:hover {\n",
              "      background-color: #E2EBFA;\n",
              "      box-shadow: 0px 1px 2px rgba(60, 64, 67, 0.3), 0px 1px 3px 1px rgba(60, 64, 67, 0.15);\n",
              "      fill: #174EA6;\n",
              "    }\n",
              "\n",
              "    [theme=dark] .colab-df-convert {\n",
              "      background-color: #3B4455;\n",
              "      fill: #D2E3FC;\n",
              "    }\n",
              "\n",
              "    [theme=dark] .colab-df-convert:hover {\n",
              "      background-color: #434B5C;\n",
              "      box-shadow: 0px 1px 3px 1px rgba(0, 0, 0, 0.15);\n",
              "      filter: drop-shadow(0px 1px 2px rgba(0, 0, 0, 0.3));\n",
              "      fill: #FFFFFF;\n",
              "    }\n",
              "  </style>\n",
              "\n",
              "      <script>\n",
              "        const buttonEl =\n",
              "          document.querySelector('#df-764baaba-0a1e-4b32-9f87-17c20298aa7f button.colab-df-convert');\n",
              "        buttonEl.style.display =\n",
              "          google.colab.kernel.accessAllowed ? 'block' : 'none';\n",
              "\n",
              "        async function convertToInteractive(key) {\n",
              "          const element = document.querySelector('#df-764baaba-0a1e-4b32-9f87-17c20298aa7f');\n",
              "          const dataTable =\n",
              "            await google.colab.kernel.invokeFunction('convertToInteractive',\n",
              "                                                     [key], {});\n",
              "          if (!dataTable) return;\n",
              "\n",
              "          const docLinkHtml = 'Like what you see? Visit the ' +\n",
              "            '<a target=\"_blank\" href=https://colab.research.google.com/notebooks/data_table.ipynb>data table notebook</a>'\n",
              "            + ' to learn more about interactive tables.';\n",
              "          element.innerHTML = '';\n",
              "          dataTable['output_type'] = 'display_data';\n",
              "          await google.colab.output.renderOutput(dataTable, element);\n",
              "          const docLink = document.createElement('div');\n",
              "          docLink.innerHTML = docLinkHtml;\n",
              "          element.appendChild(docLink);\n",
              "        }\n",
              "      </script>\n",
              "    </div>\n",
              "  </div>\n",
              "  "
            ]
          },
          "metadata": {},
          "execution_count": 87
        }
      ]
    },
    {
      "cell_type": "markdown",
      "source": [
        "**Coefficient**"
      ],
      "metadata": {
        "id": "LVm6R-DOJk6O"
      }
    },
    {
      "cell_type": "code",
      "source": [
        "import numpy as np"
      ],
      "metadata": {
        "id": "MVsIgT8gT1BL"
      },
      "execution_count": null,
      "outputs": []
    },
    {
      "cell_type": "code",
      "source": [
        "x, y = np.array(x), np.array(y)"
      ],
      "metadata": {
        "id": "e7BQFs9F2qua"
      },
      "execution_count": null,
      "outputs": []
    },
    {
      "cell_type": "code",
      "source": [
        "import numpy as np\n",
        "from sklearn.linear_model import LinearRegression"
      ],
      "metadata": {
        "id": "3ShBg_ZhQ7sG"
      },
      "execution_count": null,
      "outputs": []
    },
    {
      "cell_type": "code",
      "source": [
        " model = LinearRegression().fit(x, y)"
      ],
      "metadata": {
        "id": "UrxvRwY3QzGW"
      },
      "execution_count": null,
      "outputs": []
    },
    {
      "cell_type": "code",
      "source": [
        " r_sq = model.score(x, y)\n",
        "print(f\"coefficient of determination: {r_sq}\")"
      ],
      "metadata": {
        "colab": {
          "base_uri": "https://localhost:8080/"
        },
        "id": "sPPRt5zARGPg",
        "outputId": "706ee26a-989d-420d-9ea2-bda3ccbe835c"
      },
      "execution_count": null,
      "outputs": [
        {
          "output_type": "stream",
          "name": "stdout",
          "text": [
            "coefficient of determination: 1.0\n"
          ]
        }
      ]
    },
    {
      "cell_type": "code",
      "source": [
        "print(f\"intercept: {model.intercept_}\")"
      ],
      "metadata": {
        "colab": {
          "base_uri": "https://localhost:8080/"
        },
        "id": "ElR213lhRGkV",
        "outputId": "0d9c3f14-2bb4-4315-d837-e650b9ec5f9e"
      },
      "execution_count": null,
      "outputs": [
        {
          "output_type": "stream",
          "name": "stdout",
          "text": [
            "intercept: -3.3306690738754696e-16\n"
          ]
        }
      ]
    },
    {
      "cell_type": "code",
      "source": [
        "print(f\"coefficients: {model.coef_}\")"
      ],
      "metadata": {
        "colab": {
          "base_uri": "https://localhost:8080/"
        },
        "id": "JRFqycKjRGv-",
        "outputId": "fdd4a95f-fe3f-4ee6-ce9e-adf6738e873e"
      },
      "execution_count": null,
      "outputs": [
        {
          "output_type": "stream",
          "name": "stdout",
          "text": [
            "coefficients: [-1.04090938e-16  3.33066907e-16  2.77555756e-17 -1.11022302e-16\n",
            "  1.00000000e+00  3.29597460e-17]\n"
          ]
        }
      ]
    }
  ],
  "metadata": {
    "colab": {
      "provenance": []
    },
    "kernelspec": {
      "display_name": "Python 3",
      "name": "python3"
    },
    "language_info": {
      "name": "python"
    }
  },
  "nbformat": 4,
  "nbformat_minor": 0
}