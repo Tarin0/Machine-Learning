{
  "nbformat": 4,
  "nbformat_minor": 0,
  "metadata": {
    "colab": {
      "provenance": []
    },
    "kernelspec": {
      "name": "python3",
      "display_name": "Python 3"
    },
    "language_info": {
      "name": "python"
    }
  },
  "cells": [
    {
      "cell_type": "code",
      "execution_count": null,
      "metadata": {
        "colab": {
          "base_uri": "https://localhost:8080/",
          "height": 958
        },
        "id": "nQWQlnugwgCm",
        "outputId": "ca55cb31-e5f0-494c-e13c-2cb679f89a1c"
      },
      "outputs": [
        {
          "output_type": "display_data",
          "data": {
            "text/plain": [
              "<IPython.core.display.HTML object>"
            ],
            "text/html": [
              "\n",
              "     <input type=\"file\" id=\"files-0e55ce78-c681-4da1-8821-9bffc4162d16\" name=\"files[]\" multiple disabled\n",
              "        style=\"border:none\" />\n",
              "     <output id=\"result-0e55ce78-c681-4da1-8821-9bffc4162d16\">\n",
              "      Upload widget is only available when the cell has been executed in the\n",
              "      current browser session. Please rerun this cell to enable.\n",
              "      </output>\n",
              "      <script>// Copyright 2017 Google LLC\n",
              "//\n",
              "// Licensed under the Apache License, Version 2.0 (the \"License\");\n",
              "// you may not use this file except in compliance with the License.\n",
              "// You may obtain a copy of the License at\n",
              "//\n",
              "//      http://www.apache.org/licenses/LICENSE-2.0\n",
              "//\n",
              "// Unless required by applicable law or agreed to in writing, software\n",
              "// distributed under the License is distributed on an \"AS IS\" BASIS,\n",
              "// WITHOUT WARRANTIES OR CONDITIONS OF ANY KIND, either express or implied.\n",
              "// See the License for the specific language governing permissions and\n",
              "// limitations under the License.\n",
              "\n",
              "/**\n",
              " * @fileoverview Helpers for google.colab Python module.\n",
              " */\n",
              "(function(scope) {\n",
              "function span(text, styleAttributes = {}) {\n",
              "  const element = document.createElement('span');\n",
              "  element.textContent = text;\n",
              "  for (const key of Object.keys(styleAttributes)) {\n",
              "    element.style[key] = styleAttributes[key];\n",
              "  }\n",
              "  return element;\n",
              "}\n",
              "\n",
              "// Max number of bytes which will be uploaded at a time.\n",
              "const MAX_PAYLOAD_SIZE = 100 * 1024;\n",
              "\n",
              "function _uploadFiles(inputId, outputId) {\n",
              "  const steps = uploadFilesStep(inputId, outputId);\n",
              "  const outputElement = document.getElementById(outputId);\n",
              "  // Cache steps on the outputElement to make it available for the next call\n",
              "  // to uploadFilesContinue from Python.\n",
              "  outputElement.steps = steps;\n",
              "\n",
              "  return _uploadFilesContinue(outputId);\n",
              "}\n",
              "\n",
              "// This is roughly an async generator (not supported in the browser yet),\n",
              "// where there are multiple asynchronous steps and the Python side is going\n",
              "// to poll for completion of each step.\n",
              "// This uses a Promise to block the python side on completion of each step,\n",
              "// then passes the result of the previous step as the input to the next step.\n",
              "function _uploadFilesContinue(outputId) {\n",
              "  const outputElement = document.getElementById(outputId);\n",
              "  const steps = outputElement.steps;\n",
              "\n",
              "  const next = steps.next(outputElement.lastPromiseValue);\n",
              "  return Promise.resolve(next.value.promise).then((value) => {\n",
              "    // Cache the last promise value to make it available to the next\n",
              "    // step of the generator.\n",
              "    outputElement.lastPromiseValue = value;\n",
              "    return next.value.response;\n",
              "  });\n",
              "}\n",
              "\n",
              "/**\n",
              " * Generator function which is called between each async step of the upload\n",
              " * process.\n",
              " * @param {string} inputId Element ID of the input file picker element.\n",
              " * @param {string} outputId Element ID of the output display.\n",
              " * @return {!Iterable<!Object>} Iterable of next steps.\n",
              " */\n",
              "function* uploadFilesStep(inputId, outputId) {\n",
              "  const inputElement = document.getElementById(inputId);\n",
              "  inputElement.disabled = false;\n",
              "\n",
              "  const outputElement = document.getElementById(outputId);\n",
              "  outputElement.innerHTML = '';\n",
              "\n",
              "  const pickedPromise = new Promise((resolve) => {\n",
              "    inputElement.addEventListener('change', (e) => {\n",
              "      resolve(e.target.files);\n",
              "    });\n",
              "  });\n",
              "\n",
              "  const cancel = document.createElement('button');\n",
              "  inputElement.parentElement.appendChild(cancel);\n",
              "  cancel.textContent = 'Cancel upload';\n",
              "  const cancelPromise = new Promise((resolve) => {\n",
              "    cancel.onclick = () => {\n",
              "      resolve(null);\n",
              "    };\n",
              "  });\n",
              "\n",
              "  // Wait for the user to pick the files.\n",
              "  const files = yield {\n",
              "    promise: Promise.race([pickedPromise, cancelPromise]),\n",
              "    response: {\n",
              "      action: 'starting',\n",
              "    }\n",
              "  };\n",
              "\n",
              "  cancel.remove();\n",
              "\n",
              "  // Disable the input element since further picks are not allowed.\n",
              "  inputElement.disabled = true;\n",
              "\n",
              "  if (!files) {\n",
              "    return {\n",
              "      response: {\n",
              "        action: 'complete',\n",
              "      }\n",
              "    };\n",
              "  }\n",
              "\n",
              "  for (const file of files) {\n",
              "    const li = document.createElement('li');\n",
              "    li.append(span(file.name, {fontWeight: 'bold'}));\n",
              "    li.append(span(\n",
              "        `(${file.type || 'n/a'}) - ${file.size} bytes, ` +\n",
              "        `last modified: ${\n",
              "            file.lastModifiedDate ? file.lastModifiedDate.toLocaleDateString() :\n",
              "                                    'n/a'} - `));\n",
              "    const percent = span('0% done');\n",
              "    li.appendChild(percent);\n",
              "\n",
              "    outputElement.appendChild(li);\n",
              "\n",
              "    const fileDataPromise = new Promise((resolve) => {\n",
              "      const reader = new FileReader();\n",
              "      reader.onload = (e) => {\n",
              "        resolve(e.target.result);\n",
              "      };\n",
              "      reader.readAsArrayBuffer(file);\n",
              "    });\n",
              "    // Wait for the data to be ready.\n",
              "    let fileData = yield {\n",
              "      promise: fileDataPromise,\n",
              "      response: {\n",
              "        action: 'continue',\n",
              "      }\n",
              "    };\n",
              "\n",
              "    // Use a chunked sending to avoid message size limits. See b/62115660.\n",
              "    let position = 0;\n",
              "    do {\n",
              "      const length = Math.min(fileData.byteLength - position, MAX_PAYLOAD_SIZE);\n",
              "      const chunk = new Uint8Array(fileData, position, length);\n",
              "      position += length;\n",
              "\n",
              "      const base64 = btoa(String.fromCharCode.apply(null, chunk));\n",
              "      yield {\n",
              "        response: {\n",
              "          action: 'append',\n",
              "          file: file.name,\n",
              "          data: base64,\n",
              "        },\n",
              "      };\n",
              "\n",
              "      let percentDone = fileData.byteLength === 0 ?\n",
              "          100 :\n",
              "          Math.round((position / fileData.byteLength) * 100);\n",
              "      percent.textContent = `${percentDone}% done`;\n",
              "\n",
              "    } while (position < fileData.byteLength);\n",
              "  }\n",
              "\n",
              "  // All done.\n",
              "  yield {\n",
              "    response: {\n",
              "      action: 'complete',\n",
              "    }\n",
              "  };\n",
              "}\n",
              "\n",
              "scope.google = scope.google || {};\n",
              "scope.google.colab = scope.google.colab || {};\n",
              "scope.google.colab._files = {\n",
              "  _uploadFiles,\n",
              "  _uploadFilesContinue,\n",
              "};\n",
              "})(self);\n",
              "</script> "
            ]
          },
          "metadata": {}
        },
        {
          "output_type": "stream",
          "name": "stdout",
          "text": [
            "Saving Iris2.csv to Iris2.csv\n"
          ]
        },
        {
          "output_type": "execute_result",
          "data": {
            "text/plain": [
              "{'Iris2.csv': b'Id,SepalLengthCm,SepalWidthCm,PetalLengthCm,PetalWidthCm,Species\\r\\n1,5.1,3.5,1.4,0.2,Iris-setosa\\r\\n2,4.9,3,1.4,0.2,Iris-setosa\\r\\n3,4.7,3.2,1.3,0.2,Iris-setosa\\r\\n4,4.6,3.1,1.5,0.2,Iris-setosa\\r\\n5,5,3.6,1.4,0.2,Iris-setosa\\r\\n6,5.4,3.9,1.7,0.4,Iris-setosa\\r\\n7,4.6,3.4,1.4,0.3,Iris-setosa\\r\\n8,5,3.4,1.5,0.2,Iris-setosa\\r\\n9,4.4,2.9,1.4,0.2,Iris-setosa\\r\\n10,4.9,3.1,1.5,0.1,Iris-setosa\\r\\n11,5.4,3.7,1.5,0.2,Iris-setosa\\r\\n12,4.8,3.4,1.6,0.2,Iris-setosa\\r\\n13,4.8,3,1.4,0.1,Iris-setosa\\r\\n14,4.3,3,1.1,0.1,Iris-setosa\\r\\n15,5.8,4,1.2,0.2,Iris-setosa\\r\\n16,5.7,4.4,1.5,0.4,Iris-setosa\\r\\n17,5.4,3.9,1.3,0.4,Iris-setosa\\r\\n18,5.1,3.5,1.4,0.3,Iris-setosa\\r\\n19,5.7,3.8,1.7,0.3,Iris-setosa\\r\\n20,5.1,3.8,1.5,0.3,Iris-setosa\\r\\n21,5.4,3.4,1.7,0.2,Iris-setosa\\r\\n22,5.1,3.7,1.5,0.4,Iris-setosa\\r\\n23,4.6,3.6,1,0.2,Iris-setosa\\r\\n24,5.1,3.3,1.7,0.5,Iris-setosa\\r\\n25,4.8,3.4,1.9,0.2,Iris-setosa\\r\\n26,5,3,1.6,0.2,Iris-setosa\\r\\n27,5,3.4,1.6,0.4,Iris-setosa\\r\\n28,5.2,3.5,1.5,0.2,Iris-setosa\\r\\n29,5.2,3.4,1.4,0.2,Iris-setosa\\r\\n30,4.7,3.2,1.6,0.2,Iris-setosa\\r\\n31,4.8,3.1,1.6,0.2,Iris-setosa\\r\\n32,5.4,3.4,1.5,0.4,Iris-setosa\\r\\n33,5.2,4.1,1.5,0.1,Iris-setosa\\r\\n34,5.5,4.2,1.4,0.2,Iris-setosa\\r\\n35,4.9,3.1,1.5,0.1,Iris-setosa\\r\\n36,5,3.2,1.2,0.2,Iris-setosa\\r\\n37,5.5,3.5,1.3,0.2,Iris-setosa\\r\\n38,4.9,3.1,1.5,0.1,Iris-setosa\\r\\n39,4.4,3,1.3,0.2,Iris-setosa\\r\\n40,5.1,3.4,1.5,0.2,Iris-setosa\\r\\n41,5,3.5,1.3,0.3,Iris-setosa\\r\\n42,4.5,2.3,1.3,0.3,Iris-setosa\\r\\n43,4.4,3.2,1.3,0.2,Iris-setosa\\r\\n44,5,3.5,1.6,0.6,Iris-setosa\\r\\n45,5.1,3.8,1.9,0.4,Iris-setosa\\r\\n46,4.8,3,1.4,0.3,Iris-setosa\\r\\n47,5.1,3.8,1.6,0.2,Iris-setosa\\r\\n48,4.6,3.2,1.4,0.2,Iris-setosa\\r\\n49,5.3,3.7,1.5,0.2,Iris-setosa\\r\\n50,5,3.3,1.4,0.2,Iris-setosa\\r\\n51,7,3.2,4.7,1.4,Iris-versicolor\\r\\n52,6.4,3.2,4.5,1.5,Iris-versicolor\\r\\n53,6.9,3.1,4.9,1.5,Iris-versicolor\\r\\n54,5.5,2.3,4,1.3,Iris-versicolor\\r\\n55,6.5,2.8,4.6,1.5,Iris-versicolor\\r\\n56,5.7,2.8,4.5,1.3,Iris-versicolor\\r\\n57,6.3,3.3,4.7,1.6,Iris-versicolor\\r\\n58,4.9,2.4,3.3,1,Iris-versicolor\\r\\n59,6.6,2.9,4.6,1.3,Iris-versicolor\\r\\n60,5.2,2.7,3.9,1.4,Iris-versicolor\\r\\n61,5,2,3.5,1,Iris-versicolor\\r\\n62,5.9,3,4.2,1.5,Iris-versicolor\\r\\n63,6,2.2,4,1,Iris-versicolor\\r\\n64,6.1,2.9,4.7,1.4,Iris-versicolor\\r\\n65,5.6,2.9,3.6,1.3,Iris-versicolor\\r\\n66,6.7,3.1,4.4,1.4,Iris-versicolor\\r\\n67,5.6,3,4.5,1.5,Iris-versicolor\\r\\n68,5.8,2.7,4.1,1,Iris-versicolor\\r\\n69,6.2,2.2,4.5,1.5,Iris-versicolor\\r\\n70,5.6,2.5,3.9,1.1,Iris-versicolor\\r\\n71,5.9,3.2,4.8,1.8,Iris-versicolor\\r\\n72,6.1,2.8,4,1.3,Iris-versicolor\\r\\n73,6.3,2.5,4.9,1.5,Iris-versicolor\\r\\n74,6.1,2.8,4.7,1.2,Iris-versicolor\\r\\n75,6.4,2.9,4.3,1.3,Iris-versicolor\\r\\n76,6.6,3,4.4,1.4,Iris-versicolor\\r\\n77,6.8,2.8,4.8,1.4,Iris-versicolor\\r\\n78,6.7,3,5,1.7,Iris-versicolor\\r\\n79,6,2.9,4.5,1.5,Iris-versicolor\\r\\n80,5.7,2.6,3.5,1,Iris-versicolor\\r\\n81,5.5,2.4,3.8,1.1,Iris-versicolor\\r\\n82,5.5,2.4,3.7,1,Iris-versicolor\\r\\n83,5.8,2.7,3.9,1.2,Iris-versicolor\\r\\n84,6,2.7,5.1,1.6,Iris-versicolor\\r\\n85,5.4,3,4.5,1.5,Iris-versicolor\\r\\n86,6,3.4,4.5,1.6,Iris-versicolor\\r\\n87,6.7,3.1,4.7,1.5,Iris-versicolor\\r\\n88,6.3,2.3,4.4,1.3,Iris-versicolor\\r\\n89,5.6,3,4.1,1.3,Iris-versicolor\\r\\n90,5.5,2.5,4,1.3,Iris-versicolor\\r\\n91,5.5,2.6,4.4,1.2,Iris-versicolor\\r\\n92,6.1,3,4.6,1.4,Iris-versicolor\\r\\n93,5.8,2.6,4,1.2,Iris-versicolor\\r\\n94,5,2.3,3.3,1,Iris-versicolor\\r\\n95,5.6,2.7,4.2,1.3,Iris-versicolor\\r\\n96,5.7,3,4.2,1.2,Iris-versicolor\\r\\n97,5.7,2.9,4.2,1.3,Iris-versicolor\\r\\n98,6.2,2.9,4.3,1.3,Iris-versicolor\\r\\n99,5.1,2.5,3,1.1,Iris-versicolor\\r\\n100,5.7,2.8,4.1,1.3,Iris-versicolor\\r\\n101,6.3,3.3,6,2.5,Iris-virginica\\r\\n102,5.8,2.7,5.1,1.9,Iris-virginica\\r\\n103,7.1,3,5.9,2.1,Iris-virginica\\r\\n104,6.3,2.9,5.6,1.8,Iris-virginica\\r\\n105,6.5,3,5.8,2.2,Iris-virginica\\r\\n106,7.6,3,6.6,2.1,Iris-virginica\\r\\n107,4.9,2.5,4.5,1.7,Iris-virginica\\r\\n108,7.3,2.9,6.3,1.8,Iris-virginica\\r\\n109,6.7,2.5,5.8,1.8,Iris-virginica\\r\\n110,7.2,3.6,6.1,2.5,Iris-virginica\\r\\n111,6.5,3.2,5.1,2,Iris-virginica\\r\\n112,6.4,2.7,5.3,1.9,Iris-virginica\\r\\n113,6.8,3,5.5,2.1,Iris-virginica\\r\\n114,5.7,2.5,5,2,Iris-virginica\\r\\n115,5.8,2.8,5.1,2.4,Iris-virginica\\r\\n116,6.4,3.2,5.3,2.3,Iris-virginica\\r\\n117,6.5,3,5.5,1.8,Iris-virginica\\r\\n118,7.7,3.8,6.7,2.2,Iris-virginica\\r\\n119,7.7,2.6,6.9,2.3,Iris-virginica\\r\\n120,6,2.2,5,1.5,Iris-virginica\\r\\n121,6.9,3.2,5.7,2.3,Iris-virginica\\r\\n122,5.6,2.8,4.9,2,Iris-virginica\\r\\n123,7.7,2.8,6.7,2,Iris-virginica\\r\\n124,6.3,2.7,4.9,1.8,Iris-virginica\\r\\n125,6.7,3.3,5.7,2.1,Iris-virginica\\r\\n126,7.2,3.2,6,1.8,Iris-virginica\\r\\n127,6.2,2.8,4.8,1.8,Iris-virginica\\r\\n128,6.1,3,4.9,1.8,Iris-virginica\\r\\n129,6.4,2.8,5.6,2.1,Iris-virginica\\r\\n130,7.2,3,5.8,1.6,Iris-virginica\\r\\n131,7.4,2.8,6.1,1.9,Iris-virginica\\r\\n132,7.9,3.8,6.4,2,Iris-virginica\\r\\n133,6.4,2.8,5.6,2.2,Iris-virginica\\r\\n134,6.3,2.8,5.1,1.5,Iris-virginica\\r\\n135,6.1,2.6,5.6,1.4,Iris-virginica\\r\\n136,7.7,3,6.1,2.3,Iris-virginica\\r\\n137,6.3,3.4,5.6,2.4,Iris-virginica\\r\\n138,6.4,3.1,5.5,1.8,Iris-virginica\\r\\n139,6,3,4.8,1.8,Iris-virginica\\r\\n140,6.9,3.1,5.4,2.1,Iris-virginica\\r\\n141,6.7,3.1,5.6,2.4,Iris-virginica\\r\\n142,6.9,3.1,5.1,2.3,Iris-virginica\\r\\n143,5.8,2.7,5.1,1.9,Iris-virginica\\r\\n144,6.8,3.2,5.9,2.3,Iris-virginica\\r\\n145,6.7,3.3,5.7,2.5,Iris-virginica\\r\\n146,6.7,3,5.2,2.3,Iris-virginica\\r\\n147,6.3,2.5,5,1.9,Iris-virginica\\r\\n148,6.5,3,5.2,2,Iris-virginica\\r\\n149,6.2,3.4,5.4,2.3,Iris-virginica\\r\\n150,5.9,3,5.1,1.8,Iris-virginica\\r\\n'}"
            ]
          },
          "metadata": {},
          "execution_count": 7
        }
      ],
      "source": [
        "from google.colab import files\n",
        "files.upload()"
      ]
    },
    {
      "cell_type": "code",
      "source": [
        "import warnings as war\n",
        "war.filterwarnings('ignore')\n",
        "import pandas as pd\n",
        "import numpy as np\n",
        "import matplotlib.pyplot as plt\n",
        "%matplotlib inline \n",
        "import seaborn as sns\n",
        "sns.set(style=\"white\", color_codes = True)"
      ],
      "metadata": {
        "id": "MtlehCe3wyha"
      },
      "execution_count": null,
      "outputs": []
    },
    {
      "cell_type": "code",
      "source": [
        "data = pd.read_csv(\"Iris2.csv\")\n",
        "x = data.iloc[:, :-1].values\n",
        "y = data.iloc[:, -1].values"
      ],
      "metadata": {
        "id": "KURpN5hXw9tq"
      },
      "execution_count": null,
      "outputs": []
    },
    {
      "cell_type": "code",
      "source": [
        "data.isnull().sum()"
      ],
      "metadata": {
        "colab": {
          "base_uri": "https://localhost:8080/"
        },
        "id": "wpRbaRBZI5Aq",
        "outputId": "23f249b1-64c4-41bd-e873-9ba11ce050ad"
      },
      "execution_count": null,
      "outputs": [
        {
          "output_type": "execute_result",
          "data": {
            "text/plain": [
              "Id               0\n",
              "SepalLengthCm    0\n",
              "SepalWidthCm     0\n",
              "PetalLengthCm    0\n",
              "PetalWidthCm     0\n",
              "Species          0\n",
              "dtype: int64"
            ]
          },
          "metadata": {},
          "execution_count": 10
        }
      ]
    },
    {
      "cell_type": "code",
      "source": [
        "data[\"Species\"].value_counts()"
      ],
      "metadata": {
        "colab": {
          "base_uri": "https://localhost:8080/"
        },
        "id": "k3m14fHeJCyM",
        "outputId": "c30466e6-8c11-4a9a-d319-1603db4f32fb"
      },
      "execution_count": null,
      "outputs": [
        {
          "output_type": "execute_result",
          "data": {
            "text/plain": [
              "Iris-setosa        50\n",
              "Iris-versicolor    50\n",
              "Iris-virginica     50\n",
              "Name: Species, dtype: int64"
            ]
          },
          "metadata": {},
          "execution_count": 11
        }
      ]
    },
    {
      "cell_type": "code",
      "source": [
        "x = data.drop(['Id','Species'],axis=1)\n",
        "\n",
        "print(x)"
      ],
      "metadata": {
        "colab": {
          "base_uri": "https://localhost:8080/"
        },
        "id": "2za-h0QexTx6",
        "outputId": "0a39dce2-a9d1-4bbc-8a1a-89c1047764f2"
      },
      "execution_count": null,
      "outputs": [
        {
          "output_type": "stream",
          "name": "stdout",
          "text": [
            "     SepalLengthCm  SepalWidthCm  PetalLengthCm  PetalWidthCm\n",
            "0              5.1           3.5            1.4           0.2\n",
            "1              4.9           3.0            1.4           0.2\n",
            "2              4.7           3.2            1.3           0.2\n",
            "3              4.6           3.1            1.5           0.2\n",
            "4              5.0           3.6            1.4           0.2\n",
            "..             ...           ...            ...           ...\n",
            "145            6.7           3.0            5.2           2.3\n",
            "146            6.3           2.5            5.0           1.9\n",
            "147            6.5           3.0            5.2           2.0\n",
            "148            6.2           3.4            5.4           2.3\n",
            "149            5.9           3.0            5.1           1.8\n",
            "\n",
            "[150 rows x 4 columns]\n"
          ]
        }
      ]
    },
    {
      "cell_type": "code",
      "source": [
        "print(y)"
      ],
      "metadata": {
        "colab": {
          "base_uri": "https://localhost:8080/"
        },
        "id": "NM11Mb5kxfCT",
        "outputId": "ab21c8ff-9304-4ac8-eda1-0cdb586dec7f"
      },
      "execution_count": null,
      "outputs": [
        {
          "output_type": "stream",
          "name": "stdout",
          "text": [
            "['Iris-setosa' 'Iris-setosa' 'Iris-setosa' 'Iris-setosa' 'Iris-setosa'\n",
            " 'Iris-setosa' 'Iris-setosa' 'Iris-setosa' 'Iris-setosa' 'Iris-setosa'\n",
            " 'Iris-setosa' 'Iris-setosa' 'Iris-setosa' 'Iris-setosa' 'Iris-setosa'\n",
            " 'Iris-setosa' 'Iris-setosa' 'Iris-setosa' 'Iris-setosa' 'Iris-setosa'\n",
            " 'Iris-setosa' 'Iris-setosa' 'Iris-setosa' 'Iris-setosa' 'Iris-setosa'\n",
            " 'Iris-setosa' 'Iris-setosa' 'Iris-setosa' 'Iris-setosa' 'Iris-setosa'\n",
            " 'Iris-setosa' 'Iris-setosa' 'Iris-setosa' 'Iris-setosa' 'Iris-setosa'\n",
            " 'Iris-setosa' 'Iris-setosa' 'Iris-setosa' 'Iris-setosa' 'Iris-setosa'\n",
            " 'Iris-setosa' 'Iris-setosa' 'Iris-setosa' 'Iris-setosa' 'Iris-setosa'\n",
            " 'Iris-setosa' 'Iris-setosa' 'Iris-setosa' 'Iris-setosa' 'Iris-setosa'\n",
            " 'Iris-versicolor' 'Iris-versicolor' 'Iris-versicolor' 'Iris-versicolor'\n",
            " 'Iris-versicolor' 'Iris-versicolor' 'Iris-versicolor' 'Iris-versicolor'\n",
            " 'Iris-versicolor' 'Iris-versicolor' 'Iris-versicolor' 'Iris-versicolor'\n",
            " 'Iris-versicolor' 'Iris-versicolor' 'Iris-versicolor' 'Iris-versicolor'\n",
            " 'Iris-versicolor' 'Iris-versicolor' 'Iris-versicolor' 'Iris-versicolor'\n",
            " 'Iris-versicolor' 'Iris-versicolor' 'Iris-versicolor' 'Iris-versicolor'\n",
            " 'Iris-versicolor' 'Iris-versicolor' 'Iris-versicolor' 'Iris-versicolor'\n",
            " 'Iris-versicolor' 'Iris-versicolor' 'Iris-versicolor' 'Iris-versicolor'\n",
            " 'Iris-versicolor' 'Iris-versicolor' 'Iris-versicolor' 'Iris-versicolor'\n",
            " 'Iris-versicolor' 'Iris-versicolor' 'Iris-versicolor' 'Iris-versicolor'\n",
            " 'Iris-versicolor' 'Iris-versicolor' 'Iris-versicolor' 'Iris-versicolor'\n",
            " 'Iris-versicolor' 'Iris-versicolor' 'Iris-versicolor' 'Iris-versicolor'\n",
            " 'Iris-versicolor' 'Iris-versicolor' 'Iris-virginica' 'Iris-virginica'\n",
            " 'Iris-virginica' 'Iris-virginica' 'Iris-virginica' 'Iris-virginica'\n",
            " 'Iris-virginica' 'Iris-virginica' 'Iris-virginica' 'Iris-virginica'\n",
            " 'Iris-virginica' 'Iris-virginica' 'Iris-virginica' 'Iris-virginica'\n",
            " 'Iris-virginica' 'Iris-virginica' 'Iris-virginica' 'Iris-virginica'\n",
            " 'Iris-virginica' 'Iris-virginica' 'Iris-virginica' 'Iris-virginica'\n",
            " 'Iris-virginica' 'Iris-virginica' 'Iris-virginica' 'Iris-virginica'\n",
            " 'Iris-virginica' 'Iris-virginica' 'Iris-virginica' 'Iris-virginica'\n",
            " 'Iris-virginica' 'Iris-virginica' 'Iris-virginica' 'Iris-virginica'\n",
            " 'Iris-virginica' 'Iris-virginica' 'Iris-virginica' 'Iris-virginica'\n",
            " 'Iris-virginica' 'Iris-virginica' 'Iris-virginica' 'Iris-virginica'\n",
            " 'Iris-virginica' 'Iris-virginica' 'Iris-virginica' 'Iris-virginica'\n",
            " 'Iris-virginica' 'Iris-virginica' 'Iris-virginica' 'Iris-virginica']\n"
          ]
        }
      ]
    },
    {
      "cell_type": "code",
      "source": [
        "len(x)"
      ],
      "metadata": {
        "colab": {
          "base_uri": "https://localhost:8080/"
        },
        "id": "DmxBWMr0xkqq",
        "outputId": "68ebaa8c-cff3-4227-a32d-e66c4a1960f1"
      },
      "execution_count": null,
      "outputs": [
        {
          "output_type": "execute_result",
          "data": {
            "text/plain": [
              "150"
            ]
          },
          "metadata": {},
          "execution_count": 14
        }
      ]
    },
    {
      "cell_type": "code",
      "source": [
        "len(y)"
      ],
      "metadata": {
        "colab": {
          "base_uri": "https://localhost:8080/"
        },
        "id": "ITNn8mYUxrGM",
        "outputId": "59cc21e1-d6d2-48f5-afb3-65b90d28c209"
      },
      "execution_count": null,
      "outputs": [
        {
          "output_type": "execute_result",
          "data": {
            "text/plain": [
              "150"
            ]
          },
          "metadata": {},
          "execution_count": 15
        }
      ]
    },
    {
      "cell_type": "code",
      "source": [
        "sns.FacetGrid(data, hue=\"Species\",height=6).map(plt.scatter, \"PetalLengthCm\",\"SepalWidthCm\").add_legend()"
      ],
      "metadata": {
        "colab": {
          "base_uri": "https://localhost:8080/",
          "height": 454
        },
        "id": "lpveH-RIAMJE",
        "outputId": "dbbb57d6-88b3-4a7b-84d3-d514cd4c2e29"
      },
      "execution_count": null,
      "outputs": [
        {
          "output_type": "execute_result",
          "data": {
            "text/plain": [
              "<seaborn.axisgrid.FacetGrid at 0x7f04724d1880>"
            ]
          },
          "metadata": {},
          "execution_count": 16
        },
        {
          "output_type": "display_data",
          "data": {
            "text/plain": [
              "<Figure size 546.35x432 with 1 Axes>"
            ],
            "image/png": "[encoded data removed]"
          },
          "metadata": {}
        }
      ]
    },
    {
      "cell_type": "markdown",
      "source": [
        "**Converted Categorical Data to Numrecial Data**"
      ],
      "metadata": {
        "id": "-LIpalUo2mol"
      }
    },
    {
      "cell_type": "code",
      "source": [
        "from sklearn.preprocessing import LabelEncoder\n",
        "l_encode = LabelEncoder()\n",
        "y = l_encode.fit_transform(y)"
      ],
      "metadata": {
        "id": "I0dMnn7WxvPz"
      },
      "execution_count": null,
      "outputs": []
    },
    {
      "cell_type": "code",
      "source": [
        "print(y)"
      ],
      "metadata": {
        "colab": {
          "base_uri": "https://localhost:8080/"
        },
        "id": "CA2qRF-NyTj-",
        "outputId": "d09310b0-af86-4e7c-d691-bfd94fa999a2"
      },
      "execution_count": null,
      "outputs": [
        {
          "output_type": "stream",
          "name": "stdout",
          "text": [
            "[0 0 0 0 0 0 0 0 0 0 0 0 0 0 0 0 0 0 0 0 0 0 0 0 0 0 0 0 0 0 0 0 0 0 0 0 0\n",
            " 0 0 0 0 0 0 0 0 0 0 0 0 0 1 1 1 1 1 1 1 1 1 1 1 1 1 1 1 1 1 1 1 1 1 1 1 1\n",
            " 1 1 1 1 1 1 1 1 1 1 1 1 1 1 1 1 1 1 1 1 1 1 1 1 1 1 2 2 2 2 2 2 2 2 2 2 2\n",
            " 2 2 2 2 2 2 2 2 2 2 2 2 2 2 2 2 2 2 2 2 2 2 2 2 2 2 2 2 2 2 2 2 2 2 2 2 2\n",
            " 2 2]\n"
          ]
        }
      ]
    },
    {
      "cell_type": "code",
      "source": [
        "len(y)"
      ],
      "metadata": {
        "colab": {
          "base_uri": "https://localhost:8080/"
        },
        "id": "e3iZHSVnyXLc",
        "outputId": "ff6e1c66-1aa9-4209-a89a-60b09dc4b198"
      },
      "execution_count": null,
      "outputs": [
        {
          "output_type": "execute_result",
          "data": {
            "text/plain": [
              "150"
            ]
          },
          "metadata": {},
          "execution_count": 19
        }
      ]
    },
    {
      "cell_type": "markdown",
      "source": [
        "**Training And Testing Data Split**"
      ],
      "metadata": {
        "id": "jsFr_lxX2xht"
      }
    },
    {
      "cell_type": "code",
      "source": [
        "from sklearn.model_selection import train_test_split\n",
        "x_train, x_test, y_train, y_test = train_test_split(x,y,test_size=0.2, random_state = 0)"
      ],
      "metadata": {
        "id": "Tsw7NtN1yZZQ"
      },
      "execution_count": null,
      "outputs": []
    },
    {
      "cell_type": "code",
      "source": [
        "print(x_train)"
      ],
      "metadata": {
        "colab": {
          "base_uri": "https://localhost:8080/"
        },
        "id": "yowwh1XrzOax",
        "outputId": "909a167f-132f-49b7-fa83-f087b610517b"
      },
      "execution_count": null,
      "outputs": [
        {
          "output_type": "stream",
          "name": "stdout",
          "text": [
            "     SepalLengthCm  SepalWidthCm  PetalLengthCm  PetalWidthCm\n",
            "137            6.4           3.1            5.5           1.8\n",
            "84             5.4           3.0            4.5           1.5\n",
            "27             5.2           3.5            1.5           0.2\n",
            "127            6.1           3.0            4.9           1.8\n",
            "132            6.4           2.8            5.6           2.2\n",
            "..             ...           ...            ...           ...\n",
            "9              4.9           3.1            1.5           0.1\n",
            "103            6.3           2.9            5.6           1.8\n",
            "67             5.8           2.7            4.1           1.0\n",
            "117            7.7           3.8            6.7           2.2\n",
            "47             4.6           3.2            1.4           0.2\n",
            "\n",
            "[120 rows x 4 columns]\n"
          ]
        }
      ]
    },
    {
      "cell_type": "code",
      "source": [
        "len(x_test)"
      ],
      "metadata": {
        "colab": {
          "base_uri": "https://localhost:8080/"
        },
        "id": "ZoloC0_dzTGe",
        "outputId": "1cbdfd63-16c4-4c22-fb15-5da6550201f2"
      },
      "execution_count": null,
      "outputs": [
        {
          "output_type": "execute_result",
          "data": {
            "text/plain": [
              "30"
            ]
          },
          "metadata": {},
          "execution_count": 37
        }
      ]
    },
    {
      "cell_type": "code",
      "source": [
        "print(y_train)"
      ],
      "metadata": {
        "colab": {
          "base_uri": "https://localhost:8080/"
        },
        "id": "2OVj8k_hzX_m",
        "outputId": "68b78172-a097-4dcc-d6c1-dc60356d1daf"
      },
      "execution_count": null,
      "outputs": [
        {
          "output_type": "stream",
          "name": "stdout",
          "text": [
            "[2 1 0 2 2 1 0 1 1 1 2 0 2 0 0 1 2 2 2 2 1 2 1 1 2 2 2 2 1 2 1 0 2 1 1 1 1\n",
            " 2 0 0 2 1 0 0 1 0 2 1 0 1 2 1 0 2 2 2 2 0 0 2 2 0 2 0 2 2 0 0 2 0 0 0 1 2\n",
            " 2 0 0 0 1 1 0 0 1 0 2 1 2 1 0 2 0 2 0 0 2 0 2 1 1 1 2 2 1 1 0 1 2 2 0 1 1\n",
            " 1 1 0 0 0 2 1 2 0]\n"
          ]
        }
      ]
    },
    {
      "cell_type": "code",
      "source": [
        "len(y_train)"
      ],
      "metadata": {
        "colab": {
          "base_uri": "https://localhost:8080/"
        },
        "id": "eegAXfHazdwI",
        "outputId": "a0bc6fcf-177b-4d2f-da5b-9e98e213d921"
      },
      "execution_count": null,
      "outputs": [
        {
          "output_type": "execute_result",
          "data": {
            "text/plain": [
              "120"
            ]
          },
          "metadata": {},
          "execution_count": 34
        }
      ]
    },
    {
      "cell_type": "code",
      "source": [
        "print(y_test)"
      ],
      "metadata": {
        "colab": {
          "base_uri": "https://localhost:8080/"
        },
        "id": "dbSGrsZCzhbX",
        "outputId": "c190eaa0-b8dd-4a14-e77f-93af615b4051"
      },
      "execution_count": null,
      "outputs": [
        {
          "output_type": "stream",
          "name": "stdout",
          "text": [
            "[2 1 0 2 0 2 0 1 1 1 2 1 1 1 1 0 1 1 0 0 2 1 0 0 2 0 0 1 1 0]\n"
          ]
        }
      ]
    },
    {
      "cell_type": "code",
      "source": [
        "len(y_test)"
      ],
      "metadata": {
        "colab": {
          "base_uri": "https://localhost:8080/"
        },
        "id": "PsbkvQfHzkVA",
        "outputId": "6e49dc31-d373-4666-c815-4d47b7cbf1f6"
      },
      "execution_count": null,
      "outputs": [
        {
          "output_type": "execute_result",
          "data": {
            "text/plain": [
              "30"
            ]
          },
          "metadata": {},
          "execution_count": 36
        }
      ]
    },
    {
      "cell_type": "markdown",
      "source": [
        "**Linear Regression**"
      ],
      "metadata": {
        "id": "HIzTTZzli7NK"
      }
    },
    {
      "cell_type": "code",
      "source": [
        "from sklearn.linear_model import LinearRegression"
      ],
      "metadata": {
        "id": "Uij05XZWdu8x"
      },
      "execution_count": null,
      "outputs": []
    },
    {
      "cell_type": "code",
      "source": [
        "regression = LinearRegression()"
      ],
      "metadata": {
        "id": "70F23uDMeHK_"
      },
      "execution_count": null,
      "outputs": []
    },
    {
      "cell_type": "code",
      "source": [
        "regression.fit(x_train, y_train)"
      ],
      "metadata": {
        "colab": {
          "base_uri": "https://localhost:8080/"
        },
        "id": "Cd4zAccViVgi",
        "outputId": "456d72fb-ac3c-4b71-b7b0-68a1f2b3d128"
      },
      "execution_count": null,
      "outputs": [
        {
          "output_type": "execute_result",
          "data": {
            "text/plain": [
              "LinearRegression()"
            ]
          },
          "metadata": {},
          "execution_count": 40
        }
      ]
    },
    {
      "cell_type": "code",
      "source": [
        "predicted = regression.predict(x_test)"
      ],
      "metadata": {
        "id": "DrCaA2lje-cz"
      },
      "execution_count": null,
      "outputs": []
    },
    {
      "cell_type": "code",
      "source": [
        "predicted"
      ],
      "metadata": {
        "id": "f17JpC_7iiI7"
      },
      "execution_count": null,
      "outputs": []
    },
    {
      "cell_type": "code",
      "source": [
        "regression.score(x_test,y_test)"
      ],
      "metadata": {
        "colab": {
          "base_uri": "https://localhost:8080/"
        },
        "id": "ibmkJYU3ikj0",
        "outputId": "2f391603-065e-411c-8473-94054e345dd9"
      },
      "execution_count": null,
      "outputs": [
        {
          "output_type": "execute_result",
          "data": {
            "text/plain": [
              "0.9059663899067814"
            ]
          },
          "metadata": {},
          "execution_count": 42
        }
      ]
    },
    {
      "cell_type": "code",
      "source": [
        "from sklearn.metrics import r2_score"
      ],
      "metadata": {
        "id": "_1VXL0JDinws"
      },
      "execution_count": null,
      "outputs": []
    },
    {
      "cell_type": "code",
      "source": [
        "score = r2_score(y_test,predicted)*100"
      ],
      "metadata": {
        "id": "LNyrbC9viqwo"
      },
      "execution_count": null,
      "outputs": []
    },
    {
      "cell_type": "code",
      "source": [
        "score"
      ],
      "metadata": {
        "colab": {
          "base_uri": "https://localhost:8080/"
        },
        "id": "JVz2CZvxiu9k",
        "outputId": "39521b9d-4780-482c-9f44-e24da7da2857"
      },
      "execution_count": null,
      "outputs": [
        {
          "output_type": "execute_result",
          "data": {
            "text/plain": [
              "90.59663899067813"
            ]
          },
          "metadata": {},
          "execution_count": 46
        }
      ]
    },
    {
      "cell_type": "markdown",
      "source": [
        "**Performing Logistic Regression**"
      ],
      "metadata": {
        "id": "QUSfQQSr2-ZN"
      }
    },
    {
      "cell_type": "code",
      "source": [
        "from sklearn.linear_model import LogisticRegression\n",
        "lrc = LogisticRegression(max_iter = 500, random_state = 21)"
      ],
      "metadata": {
        "id": "wJm-0pPqzpMp"
      },
      "execution_count": null,
      "outputs": []
    },
    {
      "cell_type": "code",
      "source": [
        "lrc.fit(x_train,y_train)"
      ],
      "metadata": {
        "colab": {
          "base_uri": "https://localhost:8080/"
        },
        "id": "5V9DlLp60owh",
        "outputId": "2afb0c2e-fe89-4868-ea44-4dfa0e5ffd3a"
      },
      "execution_count": null,
      "outputs": [
        {
          "output_type": "execute_result",
          "data": {
            "text/plain": [
              "LogisticRegression(max_iter=500, random_state=21)"
            ]
          },
          "metadata": {},
          "execution_count": 70
        }
      ]
    },
    {
      "cell_type": "code",
      "source": [
        "y_pred = lrc.predict(x_test)\n",
        "print(y_pred)"
      ],
      "metadata": {
        "colab": {
          "base_uri": "https://localhost:8080/"
        },
        "id": "WNpWblSJ1Lwr",
        "outputId": "6e9ba18f-44db-4c61-9ca2-da95994bb5e6"
      },
      "execution_count": null,
      "outputs": [
        {
          "output_type": "stream",
          "name": "stdout",
          "text": [
            "[1 0 0 0 1 1 0 2 0 0 1 1 2 2 0 2 2 1 0 2 2 1 2 1 0 1 0 0 1 2]\n"
          ]
        }
      ]
    },
    {
      "cell_type": "code",
      "source": [
        "from sklearn.metrics import accuracy_score\n",
        "accuracy_score(y_test,y_pred)*100"
      ],
      "metadata": {
        "colab": {
          "base_uri": "https://localhost:8080/"
        },
        "id": "L7qloc_o1mLa",
        "outputId": "c1302f59-1d7f-4e33-a0c4-c071eb284472"
      },
      "execution_count": null,
      "outputs": [
        {
          "output_type": "execute_result",
          "data": {
            "text/plain": [
              "93.33333333333333"
            ]
          },
          "metadata": {},
          "execution_count": 73
        }
      ]
    },
    {
      "cell_type": "code",
      "source": [
        "prediction = lrc.predict([[5.7, 2.6, 3.5, 1]])\n",
        "print(prediction)"
      ],
      "metadata": {
        "colab": {
          "base_uri": "https://localhost:8080/"
        },
        "id": "1wQI2E1V1u_h",
        "outputId": "75f01bd4-cf30-4bae-cd60-bfb0fa2bcc8d"
      },
      "execution_count": null,
      "outputs": [
        {
          "output_type": "stream",
          "name": "stdout",
          "text": [
            "[1]\n"
          ]
        }
      ]
    },
    {
      "cell_type": "markdown",
      "source": [
        "**COnfusion matrix**"
      ],
      "metadata": {
        "id": "Gw7XiuSF-TbE"
      }
    },
    {
      "cell_type": "code",
      "source": [
        "from sklearn.metrics import confusion_matrix\n",
        "confusion_mat = confusion_matrix(y_test,y_pred)\n",
        "sns.heatmap(confusion_mat, annot=True)\n",
        "plt.xlabel(\"predicted label\")\n",
        "plt.ylabel(\"True label\")\n",
        "plt.title(\"Confusion confusion_matrix\")\n",
        "plt.show()"
      ],
      "metadata": {
        "id": "rsOCzk8D-LV0"
      },
      "execution_count": null,
      "outputs": []
    },
    {
      "cell_type": "markdown",
      "source": [
        "**Plotting**"
      ],
      "metadata": {
        "id": "KZtKsNbD32Wn"
      }
    },
    {
      "cell_type": "code",
      "source": [
        "fig=plt.figure()\n",
        "ax=fig.add_subplot(111,projection='3d')\n",
        "n=20\n",
        "ax.scatter(data[\"PetalLengthCm\"],data[\"SepalLengthCm\"],data[\"SepalWidthCm\"],color=\"red\")\n",
        "ax.set_xlabel(\"PetalLengthCm\")\n",
        "ax.set_ylabel(\"SepalLengthCm\")\n",
        "ax.set_zlabel(\"SepalWidthCm\")\n",
        "plt.show()"
      ],
      "metadata": {
        "colab": {
          "base_uri": "https://localhost:8080/",
          "height": 248
        },
        "id": "Issx9KU589zK",
        "outputId": "10cad193-8495-4a2e-f00f-a0d5db88c084"
      },
      "execution_count": null,
      "outputs": [
        {
          "output_type": "display_data",
          "data": {
            "text/plain": [
              "<Figure size 432x288 with 1 Axes>"
            ],
            "image/png": "[encoded data removed]"
          },
          "metadata": {}
        }
      ]
    },
    {
      "cell_type": "code",
      "source": [],
      "metadata": {
        "id": "AsQ-dBao4QMo"
      },
      "execution_count": null,
      "outputs": []
    }
  ]
}